{
 "cells": [
  {
   "cell_type": "markdown",
   "id": "791b804f-c20c-470c-ad16-2be5aa8778a0",
   "metadata": {},
   "source": [
    "# This is an example of CESM diagnostics run with `nbscuid`!"
   ]
  },
  {
   "cell_type": "code",
   "execution_count": null,
   "id": "de96d8d6-d65e-4a4c-84f4-f08487b96cb6",
   "metadata": {
    "tags": [
     "parameters"
    ]
   },
   "outputs": [],
   "source": [
    "# This cell will get parametrized!"
   ]
  },
  {
   "cell_type": "markdown",
   "id": "58299fa9-8ae8-4198-a820-aae196d3bc59",
   "metadata": {},
   "source": [
    "The run shortname is {{sname}}"
   ]
  }
 ],
 "metadata": {
  "kernelspec": {
   "display_name": "Python 3 (ipykernel)",
   "language": "python",
   "name": "python3"
  },
  "language_info": {
   "codemirror_mode": {
    "name": "ipython",
    "version": 3
   },
   "file_extension": ".py",
   "mimetype": "text/x-python",
   "name": "python",
   "nbconvert_exporter": "python",
   "pygments_lexer": "ipython3",
   "version": "3.9.12"
  }
 },
 "nbformat": 4,
 "nbformat_minor": 5
}
