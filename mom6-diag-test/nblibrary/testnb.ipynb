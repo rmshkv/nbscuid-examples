{
 "cells": [
  {
   "cell_type": "markdown",
   "id": "791b804f-c20c-470c-ad16-2be5aa8778a0",
   "metadata": {},
   "source": [
    "# Example Notebook 1"
   ]
  },
  {
   "cell_type": "code",
   "execution_count": 3,
   "id": "8b10a4f3-0005-4c7f-9eb1-e38a4ef0ecb4",
   "metadata": {
    "tags": [
     "parameters"
    ]
   },
   "outputs": [],
   "source": [
    "# Empty cell with \"parameters\" tag, papermill-provided parameters will be inserted below."
   ]
  },
  {
   "cell_type": "markdown",
   "id": "16bed8b7-461e-4cf1-82c3-c3452f043198",
   "metadata": {},
   "source": [
    "## Connecting to cluster"
   ]
  },
  {
   "cell_type": "code",
   "execution_count": 4,
   "id": "1fd62ec3-9e56-464d-9c4b-9392170fde7b",
   "metadata": {},
   "outputs": [],
   "source": [
    "from dask.distributed import Client\n",
    "\n",
    "if cluster_scheduler_address is None:\n",
    "    pass\n",
    "else:\n",
    "    client = Client(cluster_scheduler_address)\n",
    "    \n",
    "    client"
   ]
  }
 ],
 "metadata": {
  "kernelspec": {
   "display_name": "Python 3 (ipykernel)",
   "language": "python",
   "name": "python3"
  },
  "language_info": {
   "codemirror_mode": {
    "name": "ipython",
    "version": 3
   },
   "file_extension": ".py",
   "mimetype": "text/x-python",
   "name": "python",
   "nbconvert_exporter": "python",
   "pygments_lexer": "ipython3",
   "version": "3.9.12"
  }
 },
 "nbformat": 4,
 "nbformat_minor": 5
}
