{
 "cells": [
  {
   "cell_type": "code",
   "execution_count": 1,
   "id": "277790f5-6e92-498c-b4ce-d91d147d5405",
   "metadata": {
    "execution": {
     "iopub.execute_input": "2023-04-24T23:01:04.563153Z",
     "iopub.status.busy": "2023-04-24T23:01:04.562955Z",
     "iopub.status.idle": "2023-04-24T23:01:04.569413Z",
     "shell.execute_reply": "2023-04-24T23:01:04.568986Z"
    },
    "papermill": {
     "duration": 0.011395,
     "end_time": "2023-04-24T23:01:04.570677",
     "exception": false,
     "start_time": "2023-04-24T23:01:04.559282",
     "status": "completed"
    },
    "tags": [
     "parameters"
    ]
   },
   "outputs": [],
   "source": [
    "# empty parametrizable cell \n",
    "\n",
    "cluster_scheduler_address = None"
   ]
  },
  {
   "cell_type": "code",
   "execution_count": 2,
   "id": "65086dca",
   "metadata": {
    "execution": {
     "iopub.execute_input": "2023-04-24T23:01:04.574165Z",
     "iopub.status.busy": "2023-04-24T23:01:04.574011Z",
     "iopub.status.idle": "2023-04-24T23:01:04.589179Z",
     "shell.execute_reply": "2023-04-24T23:01:04.577112Z"
    },
    "papermill": {
     "duration": 0.020418,
     "end_time": "2023-04-24T23:01:04.592529",
     "exception": false,
     "start_time": "2023-04-24T23:01:04.572111",
     "status": "completed"
    },
    "tags": [
     "injected-parameters"
    ]
   },
   "outputs": [],
   "source": [
    "# Parameters\n",
    "casename = \"placeholder-casename\"\n",
    "subset_kwargs = {}\n"
   ]
  },
  {
   "cell_type": "markdown",
   "id": "1a20bec9-04c2-4ff8-be17-8fed0f5e6921",
   "metadata": {
    "papermill": {
     "duration": 0.000914,
     "end_time": "2023-04-24T23:01:04.594500",
     "exception": false,
     "start_time": "2023-04-24T23:01:04.593586",
     "status": "completed"
    },
    "tags": []
   },
   "source": [
    "## Connecting to cluster"
   ]
  },
  {
   "cell_type": "code",
   "execution_count": 3,
   "id": "2ae5dc22-7afc-4862-8227-8cdabdf6667f",
   "metadata": {
    "execution": {
     "iopub.execute_input": "2023-04-24T23:01:04.597285Z",
     "iopub.status.busy": "2023-04-24T23:01:04.597126Z",
     "iopub.status.idle": "2023-04-24T23:01:05.568604Z",
     "shell.execute_reply": "2023-04-24T23:01:05.568133Z"
    },
    "papermill": {
     "duration": 0.974981,
     "end_time": "2023-04-24T23:01:05.570457",
     "exception": false,
     "start_time": "2023-04-24T23:01:04.595476",
     "status": "completed"
    },
    "tags": []
   },
   "outputs": [],
   "source": [
    "from dask.distributed import Client\n",
    "import dask\n",
    "\n",
    "if cluster_scheduler_address is None:\n",
    "    pass\n",
    "else:\n",
    "    dask.config.set({'distributed.comm.timeouts.connect': '180s'})\n",
    "\n",
    "    client = Client(cluster_scheduler_address)\n",
    "    \n",
    "    client"
   ]
  }
 ],
 "metadata": {
  "kernelspec": {
   "display_name": "Python 3 (ipykernel)",
   "language": "python",
   "name": "python3"
  },
  "language_info": {
   "codemirror_mode": {
    "name": "ipython",
    "version": 3
   },
   "file_extension": ".py",
   "mimetype": "text/x-python",
   "name": "python",
   "nbconvert_exporter": "python",
   "pygments_lexer": "ipython3",
   "version": "3.9.0"
  },
  "papermill": {
   "default_parameters": {},
   "duration": 3.926859,
   "end_time": "2023-04-24T23:01:06.090393",
   "environment_variables": {},
   "exception": null,
   "input_path": "/glade/u/home/eromashkova/codes/nbscuid-examples/dask-debug/nblibrary/dasktest.ipynb",
   "output_path": "/glade/u/home/eromashkova/codes/nbscuid-examples/dask-debug/computed_notebooks/placeholder-casename/dasktest.ipynb",
   "parameters": {
    "casename": "placeholder-casename",
    "subset_kwargs": {}
   },
   "start_time": "2023-04-24T23:01:02.163534",
   "version": "2.4.0"
  }
 },
 "nbformat": 4,
 "nbformat_minor": 5
}