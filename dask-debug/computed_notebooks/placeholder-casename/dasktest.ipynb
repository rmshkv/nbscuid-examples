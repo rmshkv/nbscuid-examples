{
 "cells": [
  {
   "cell_type": "code",
   "execution_count": 1,
   "id": "277790f5-6e92-498c-b4ce-d91d147d5405",
   "metadata": {
    "execution": {
     "iopub.execute_input": "2023-05-03T23:14:23.112505Z",
     "iopub.status.busy": "2023-05-03T23:14:23.112318Z",
     "iopub.status.idle": "2023-05-03T23:14:23.119126Z",
     "shell.execute_reply": "2023-05-03T23:14:23.118642Z"
    },
    "papermill": {
     "duration": 0.014795,
     "end_time": "2023-05-03T23:14:23.120493",
     "exception": false,
     "start_time": "2023-05-03T23:14:23.105698",
     "status": "completed"
    },
    "tags": [
     "parameters"
    ]
   },
   "outputs": [],
   "source": [
    "# empty parametrizable cell \n",
    "\n",
    "cluster_scheduler_address = None"
   ]
  },
  {
   "cell_type": "code",
   "execution_count": 2,
   "id": "1063375f",
   "metadata": {
    "execution": {
     "iopub.execute_input": "2023-05-03T23:14:23.124152Z",
     "iopub.status.busy": "2023-05-03T23:14:23.123995Z",
     "iopub.status.idle": "2023-05-03T23:14:23.127586Z",
     "shell.execute_reply": "2023-05-03T23:14:23.127192Z"
    },
    "papermill": {
     "duration": 0.00684,
     "end_time": "2023-05-03T23:14:23.128878",
     "exception": false,
     "start_time": "2023-05-03T23:14:23.122038",
     "status": "completed"
    },
    "tags": [
     "injected-parameters"
    ]
   },
   "outputs": [],
   "source": [
    "# Parameters\n",
    "casename = \"placeholder-casename\"\n",
    "cluster_scheduler_address = \"tcp://10.12.206.45:40281\"\n",
    "subset_kwargs = {}\n"
   ]
  },
  {
   "cell_type": "markdown",
   "id": "1a20bec9-04c2-4ff8-be17-8fed0f5e6921",
   "metadata": {
    "papermill": {
     "duration": 0.001005,
     "end_time": "2023-05-03T23:14:23.130903",
     "exception": false,
     "start_time": "2023-05-03T23:14:23.129898",
     "status": "completed"
    },
    "tags": []
   },
   "source": [
    "## Connecting to cluster"
   ]
  },
  {
   "cell_type": "code",
   "execution_count": 3,
   "id": "2ae5dc22-7afc-4862-8227-8cdabdf6667f",
   "metadata": {
    "execution": {
     "iopub.execute_input": "2023-05-03T23:14:23.133627Z",
     "iopub.status.busy": "2023-05-03T23:14:23.133474Z",
     "iopub.status.idle": "2023-05-03T23:15:31.615685Z",
     "shell.execute_reply": "2023-05-03T23:15:31.615157Z"
    },
    "papermill": {
     "duration": 68.485472,
     "end_time": "2023-05-03T23:15:31.617352",
     "exception": false,
     "start_time": "2023-05-03T23:14:23.131880",
     "status": "completed"
    },
    "tags": []
   },
   "outputs": [
    {
     "name": "stderr",
     "output_type": "stream",
     "text": [
      "/glade/work/eromashkova/miniconda3/envs/nbscuid-papermill-test/lib/python3.9/site-packages/distributed/client.py:1381: VersionMismatchWarning: Mismatched versions found\n",
      "\n",
      "+-------------+---------------+----------------+---------+\n",
      "| Package     | Client        | Scheduler      | Workers |\n",
      "+-------------+---------------+----------------+---------+\n",
      "| cloudpickle | 2.2.1         | 2.2.0          | None    |\n",
      "| dask        | 2023.3.2      | 2022.9.2       | None    |\n",
      "| distributed | 2023.3.2.1    | 2022.9.2       | None    |\n",
      "| lz4         | 4.3.2         | None           | None    |\n",
      "| msgpack     | 1.0.5         | 1.0.4          | None    |\n",
      "| python      | 3.9.0.final.0 | 3.9.12.final.0 | None    |\n",
      "| tornado     | 6.2           | 6.1            | None    |\n",
      "+-------------+---------------+----------------+---------+\n",
      "Notes: \n",
      "-  msgpack: Variation is ok, as long as everything is above 0.6\n",
      "  warnings.warn(version_module.VersionMismatchWarning(msg[0][\"warning\"]))\n"
     ]
    }
   ],
   "source": [
    "from dask.distributed import Client\n",
    "import dask\n",
    "\n",
    "if cluster_scheduler_address is None:\n",
    "    pass\n",
    "else:\n",
    "    dask.config.set({'distributed.comm.timeouts.connect': '180s'})\n",
    "\n",
    "    client = Client(cluster_scheduler_address)\n",
    "    \n",
    "    client"
   ]
  }
 ],
 "metadata": {
  "kernelspec": {
   "display_name": "Python 3 (ipykernel)",
   "language": "python",
   "name": "python3"
  },
  "language_info": {
   "codemirror_mode": {
    "name": "ipython",
    "version": 3
   },
   "file_extension": ".py",
   "mimetype": "text/x-python",
   "name": "python",
   "nbconvert_exporter": "python",
   "pygments_lexer": "ipython3",
   "version": "3.9.0"
  },
  "papermill": {
   "default_parameters": {},
   "duration": 81.139748,
   "end_time": "2023-05-03T23:15:31.943015",
   "environment_variables": {},
   "exception": null,
   "input_path": "/glade/u/home/eromashkova/codes/nbscuid-examples/dask-debug/nblibrary/dasktest.ipynb",
   "output_path": "/glade/u/home/eromashkova/codes/nbscuid-examples/dask-debug/computed_notebooks/placeholder-casename/dasktest.ipynb",
   "parameters": {
    "casename": "placeholder-casename",
    "cluster_scheduler_address": "tcp://10.12.206.45:40281",
    "subset_kwargs": {}
   },
   "start_time": "2023-05-03T23:14:10.803267",
   "version": "2.4.0"
  }
 },
 "nbformat": 4,
 "nbformat_minor": 5
}