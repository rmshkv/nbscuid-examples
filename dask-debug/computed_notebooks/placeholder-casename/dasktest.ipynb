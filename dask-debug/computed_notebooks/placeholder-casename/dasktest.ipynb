{
 "cells": [
  {
   "cell_type": "code",
   "execution_count": 1,
   "id": "277790f5-6e92-498c-b4ce-d91d147d5405",
   "metadata": {
    "execution": {
     "iopub.execute_input": "2023-04-18T22:11:37.595289Z",
     "iopub.status.busy": "2023-04-18T22:11:37.595060Z",
     "iopub.status.idle": "2023-04-18T22:11:37.603234Z",
     "shell.execute_reply": "2023-04-18T22:11:37.602746Z"
    },
    "papermill": {
     "duration": 0.012622,
     "end_time": "2023-04-18T22:11:37.604640",
     "exception": false,
     "start_time": "2023-04-18T22:11:37.592018",
     "status": "completed"
    },
    "tags": [
     "parameters"
    ]
   },
   "outputs": [],
   "source": [
    "# empty parametrizable cell \n",
    "\n",
    "cluster_scheduler_address = None"
   ]
  },
  {
   "cell_type": "code",
   "execution_count": 2,
   "id": "7cb45ea4",
   "metadata": {
    "execution": {
     "iopub.execute_input": "2023-04-18T22:11:37.608600Z",
     "iopub.status.busy": "2023-04-18T22:11:37.608434Z",
     "iopub.status.idle": "2023-04-18T22:11:38.253466Z",
     "shell.execute_reply": "2023-04-18T22:11:38.252953Z"
    },
    "papermill": {
     "duration": 0.649057,
     "end_time": "2023-04-18T22:11:38.255419",
     "exception": false,
     "start_time": "2023-04-18T22:11:37.606362",
     "status": "completed"
    },
    "tags": [
     "injected-parameters"
    ]
   },
   "outputs": [],
   "source": [
    "# Parameters\n",
    "casename = \"placeholder-casename\"\n",
    "cluster_scheduler_address = \"tcp://10.18.206.48:39561\"\n",
    "subset_kwargs = {}\n"
   ]
  },
  {
   "cell_type": "markdown",
   "id": "1a20bec9-04c2-4ff8-be17-8fed0f5e6921",
   "metadata": {
    "papermill": {
     "duration": 0.001632,
     "end_time": "2023-04-18T22:11:38.258611",
     "exception": false,
     "start_time": "2023-04-18T22:11:38.256979",
     "status": "completed"
    },
    "tags": []
   },
   "source": [
    "## Connecting to cluster"
   ]
  },
  {
   "cell_type": "code",
   "execution_count": 3,
   "id": "76878992-89dd-4306-b9a7-53c13666ef53",
   "metadata": {
    "execution": {
     "iopub.execute_input": "2023-04-18T22:11:38.261886Z",
     "iopub.status.busy": "2023-04-18T22:11:38.261682Z",
     "iopub.status.idle": "2023-04-18T22:11:38.265584Z",
     "shell.execute_reply": "2023-04-18T22:11:38.265160Z"
    },
    "papermill": {
     "duration": 0.00707,
     "end_time": "2023-04-18T22:11:38.266834",
     "exception": false,
     "start_time": "2023-04-18T22:11:38.259764",
     "status": "completed"
    },
    "tags": []
   },
   "outputs": [],
   "source": [
    "#cluster_scheduler_address = \"tcp://10.12.206.48:37798\""
   ]
  },
  {
   "cell_type": "code",
   "execution_count": 4,
   "id": "2ae5dc22-7afc-4862-8227-8cdabdf6667f",
   "metadata": {
    "execution": {
     "iopub.execute_input": "2023-04-18T22:11:38.270170Z",
     "iopub.status.busy": "2023-04-18T22:11:38.269982Z",
     "iopub.status.idle": "2023-04-18T22:12:38.333493Z",
     "shell.execute_reply": "2023-04-18T22:12:38.332953Z"
    },
    "papermill": {
     "duration": 60.067493,
     "end_time": "2023-04-18T22:12:38.335508",
     "exception": false,
     "start_time": "2023-04-18T22:11:38.268015",
     "status": "completed"
    },
    "tags": []
   },
   "outputs": [],
   "source": [
    "from dask.distributed import Client\n",
    "import dask\n",
    "\n",
    "if cluster_scheduler_address is None:\n",
    "    pass\n",
    "else:\n",
    "    dask.config.set({'distributed.comm.timeouts.connect': '90s'})\n",
    "\n",
    "    client = Client(cluster_scheduler_address)\n",
    "    \n",
    "    client"
   ]
  }
 ],
 "metadata": {
  "kernelspec": {
   "display_name": "Python 3 (ipykernel)",
   "language": "python",
   "name": "python3"
  },
  "language_info": {
   "codemirror_mode": {
    "name": "ipython",
    "version": 3
   },
   "file_extension": ".py",
   "mimetype": "text/x-python",
   "name": "python",
   "nbconvert_exporter": "python",
   "pygments_lexer": "ipython3",
   "version": "3.9.12"
  },
  "papermill": {
   "default_parameters": {},
   "duration": 62.616739,
   "end_time": "2023-04-18T22:12:39.175581",
   "environment_variables": {},
   "exception": null,
   "input_path": "/glade/u/home/eromashkova/codes/nbscuid-examples/dask-debug/nblibrary/dasktest.ipynb",
   "output_path": "/glade/u/home/eromashkova/codes/nbscuid-examples/dask-debug/computed_notebooks/placeholder-casename/dasktest.ipynb",
   "parameters": {
    "casename": "placeholder-casename",
    "cluster_scheduler_address": "tcp://10.18.206.48:39561",
    "subset_kwargs": {}
   },
   "start_time": "2023-04-18T22:11:36.558842",
   "version": "2.3.4"
  }
 },
 "nbformat": 4,
 "nbformat_minor": 5
}
