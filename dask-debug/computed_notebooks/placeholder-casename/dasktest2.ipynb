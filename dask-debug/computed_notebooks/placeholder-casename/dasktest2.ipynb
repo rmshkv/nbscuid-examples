{
 "cells": [
  {
   "cell_type": "code",
   "execution_count": 1,
   "id": "277790f5-6e92-498c-b4ce-d91d147d5405",
   "metadata": {
    "execution": {
     "iopub.execute_input": "2023-04-24T23:01:07.452510Z",
     "iopub.status.busy": "2023-04-24T23:01:07.452324Z",
     "iopub.status.idle": "2023-04-24T23:01:07.458833Z",
     "shell.execute_reply": "2023-04-24T23:01:07.458349Z"
    },
    "papermill": {
     "duration": 0.010032,
     "end_time": "2023-04-24T23:01:07.460088",
     "exception": false,
     "start_time": "2023-04-24T23:01:07.450056",
     "status": "completed"
    },
    "tags": [
     "parameters"
    ]
   },
   "outputs": [],
   "source": [
    "# empty parametrizable cell \n",
    "\n",
    "cluster_scheduler_address = None"
   ]
  },
  {
   "cell_type": "code",
   "execution_count": 2,
   "id": "c2d64afb",
   "metadata": {
    "execution": {
     "iopub.execute_input": "2023-04-24T23:01:07.463602Z",
     "iopub.status.busy": "2023-04-24T23:01:07.463434Z",
     "iopub.status.idle": "2023-04-24T23:01:07.467216Z",
     "shell.execute_reply": "2023-04-24T23:01:07.466819Z"
    },
    "papermill": {
     "duration": 0.007062,
     "end_time": "2023-04-24T23:01:07.468443",
     "exception": false,
     "start_time": "2023-04-24T23:01:07.461381",
     "status": "completed"
    },
    "tags": [
     "injected-parameters"
    ]
   },
   "outputs": [],
   "source": [
    "# Parameters\n",
    "casename = \"placeholder-casename\"\n",
    "subset_kwargs = {}\n"
   ]
  },
  {
   "cell_type": "markdown",
   "id": "1a20bec9-04c2-4ff8-be17-8fed0f5e6921",
   "metadata": {
    "papermill": {
     "duration": 0.000953,
     "end_time": "2023-04-24T23:01:07.470453",
     "exception": false,
     "start_time": "2023-04-24T23:01:07.469500",
     "status": "completed"
    },
    "tags": []
   },
   "source": [
    "## Connecting to cluster"
   ]
  },
  {
   "cell_type": "code",
   "execution_count": 3,
   "id": "2ae5dc22-7afc-4862-8227-8cdabdf6667f",
   "metadata": {
    "execution": {
     "iopub.execute_input": "2023-04-24T23:01:07.473238Z",
     "iopub.status.busy": "2023-04-24T23:01:07.473081Z",
     "iopub.status.idle": "2023-04-24T23:01:07.806245Z",
     "shell.execute_reply": "2023-04-24T23:01:07.805793Z"
    },
    "papermill": {
     "duration": 0.336643,
     "end_time": "2023-04-24T23:01:07.808058",
     "exception": false,
     "start_time": "2023-04-24T23:01:07.471415",
     "status": "completed"
    },
    "tags": []
   },
   "outputs": [],
   "source": [
    "from dask.distributed import Client\n",
    "import dask\n",
    "\n",
    "if cluster_scheduler_address is None:\n",
    "    pass\n",
    "else:\n",
    "    #dask.config.set({'distributed.comm.timeouts.connect': '10s'})\n",
    "\n",
    "    client = Client(cluster_scheduler_address)\n",
    "    \n",
    "    client"
   ]
  }
 ],
 "metadata": {
  "kernelspec": {
   "display_name": "Python 3 (ipykernel)",
   "language": "python",
   "name": "python3"
  },
  "language_info": {
   "codemirror_mode": {
    "name": "ipython",
    "version": 3
   },
   "file_extension": ".py",
   "mimetype": "text/x-python",
   "name": "python",
   "nbconvert_exporter": "python",
   "pygments_lexer": "ipython3",
   "version": "3.9.0"
  },
  "papermill": {
   "default_parameters": {},
   "duration": 1.939516,
   "end_time": "2023-04-24T23:01:08.034821",
   "environment_variables": {},
   "exception": null,
   "input_path": "/glade/u/home/eromashkova/codes/nbscuid-examples/dask-debug/nblibrary/dasktest2.ipynb",
   "output_path": "/glade/u/home/eromashkova/codes/nbscuid-examples/dask-debug/computed_notebooks/placeholder-casename/dasktest2.ipynb",
   "parameters": {
    "casename": "placeholder-casename",
    "subset_kwargs": {}
   },
   "start_time": "2023-04-24T23:01:06.095305",
   "version": "2.4.0"
  }
 },
 "nbformat": 4,
 "nbformat_minor": 5
}