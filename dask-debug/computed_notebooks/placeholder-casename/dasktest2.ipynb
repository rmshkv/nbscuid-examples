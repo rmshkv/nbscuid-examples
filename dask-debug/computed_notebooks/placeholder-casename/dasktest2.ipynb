{
 "cells": [
  {
   "cell_type": "code",
   "execution_count": 1,
   "id": "277790f5-6e92-498c-b4ce-d91d147d5405",
   "metadata": {
    "execution": {
     "iopub.execute_input": "2023-05-03T23:15:32.968350Z",
     "iopub.status.busy": "2023-05-03T23:15:32.968110Z",
     "iopub.status.idle": "2023-05-03T23:15:32.975316Z",
     "shell.execute_reply": "2023-05-03T23:15:32.974878Z"
    },
    "papermill": {
     "duration": 0.010865,
     "end_time": "2023-05-03T23:15:32.976710",
     "exception": false,
     "start_time": "2023-05-03T23:15:32.965845",
     "status": "completed"
    },
    "tags": [
     "parameters"
    ]
   },
   "outputs": [],
   "source": [
    "# empty parametrizable cell \n",
    "\n",
    "cluster_scheduler_address = None"
   ]
  },
  {
   "cell_type": "code",
   "execution_count": 2,
   "id": "558d7d04",
   "metadata": {
    "execution": {
     "iopub.execute_input": "2023-05-03T23:15:32.980436Z",
     "iopub.status.busy": "2023-05-03T23:15:32.980255Z",
     "iopub.status.idle": "2023-05-03T23:15:33.102615Z",
     "shell.execute_reply": "2023-05-03T23:15:33.102180Z"
    },
    "papermill": {
     "duration": 0.125974,
     "end_time": "2023-05-03T23:15:33.104060",
     "exception": false,
     "start_time": "2023-05-03T23:15:32.978086",
     "status": "completed"
    },
    "tags": [
     "injected-parameters"
    ]
   },
   "outputs": [],
   "source": [
    "# Parameters\n",
    "casename = \"placeholder-casename\"\n",
    "cluster_scheduler_address = \"tcp://10.12.206.45:40281\"\n",
    "subset_kwargs = {}\n"
   ]
  },
  {
   "cell_type": "markdown",
   "id": "1a20bec9-04c2-4ff8-be17-8fed0f5e6921",
   "metadata": {
    "papermill": {
     "duration": 0.001318,
     "end_time": "2023-05-03T23:15:33.106751",
     "exception": false,
     "start_time": "2023-05-03T23:15:33.105433",
     "status": "completed"
    },
    "tags": []
   },
   "source": [
    "## Connecting to cluster"
   ]
  },
  {
   "cell_type": "code",
   "execution_count": 3,
   "id": "2ae5dc22-7afc-4862-8227-8cdabdf6667f",
   "metadata": {
    "execution": {
     "iopub.execute_input": "2023-05-03T23:15:33.109887Z",
     "iopub.status.busy": "2023-05-03T23:15:33.109712Z",
     "iopub.status.idle": "2023-05-03T23:15:33.826968Z",
     "shell.execute_reply": "2023-05-03T23:15:33.826173Z"
    },
    "papermill": {
     "duration": 0.720432,
     "end_time": "2023-05-03T23:15:33.828280",
     "exception": false,
     "start_time": "2023-05-03T23:15:33.107848",
     "status": "completed"
    },
    "tags": []
   },
   "outputs": [
    {
     "name": "stderr",
     "output_type": "stream",
     "text": [
      "/glade/work/eromashkova/miniconda3/envs/nbscuid-papermill-test/lib/python3.9/site-packages/distributed/client.py:1381: VersionMismatchWarning: Mismatched versions found\n",
      "\n",
      "+-------------+---------------+----------------+----------------+\n",
      "| Package     | Client        | Scheduler      | Workers        |\n",
      "+-------------+---------------+----------------+----------------+\n",
      "| cloudpickle | 2.2.1         | 2.2.0          | 2.2.0          |\n",
      "| dask        | 2023.3.2      | 2022.9.2       | 2022.9.2       |\n",
      "| distributed | 2023.3.2.1    | 2022.9.2       | 2022.9.2       |\n",
      "| lz4         | 4.3.2         | None           | None           |\n",
      "| msgpack     | 1.0.5         | 1.0.4          | 1.0.4          |\n",
      "| numpy       | 1.23.5        | 1.23.3         | 1.23.3         |\n",
      "| pandas      | 1.5.3         | 1.5.0          | 1.5.0          |\n",
      "| python      | 3.9.0.final.0 | 3.9.12.final.0 | 3.9.12.final.0 |\n",
      "| tornado     | 6.2           | 6.1            | 6.1            |\n",
      "+-------------+---------------+----------------+----------------+\n",
      "Notes: \n",
      "-  msgpack: Variation is ok, as long as everything is above 0.6\n",
      "  warnings.warn(version_module.VersionMismatchWarning(msg[0][\"warning\"]))\n"
     ]
    }
   ],
   "source": [
    "from dask.distributed import Client\n",
    "import dask\n",
    "\n",
    "if cluster_scheduler_address is None:\n",
    "    pass\n",
    "else:\n",
    "    #dask.config.set({'distributed.comm.timeouts.connect': '10s'})\n",
    "\n",
    "    client = Client(cluster_scheduler_address)\n",
    "    \n",
    "    client"
   ]
  }
 ],
 "metadata": {
  "kernelspec": {
   "display_name": "Python 3 (ipykernel)",
   "language": "python",
   "name": "python3"
  },
  "language_info": {
   "codemirror_mode": {
    "name": "ipython",
    "version": 3
   },
   "file_extension": ".py",
   "mimetype": "text/x-python",
   "name": "python",
   "nbconvert_exporter": "python",
   "pygments_lexer": "ipython3",
   "version": "3.9.0"
  },
  "papermill": {
   "default_parameters": {},
   "duration": 2.20444,
   "end_time": "2023-05-03T23:15:34.152966",
   "environment_variables": {},
   "exception": null,
   "input_path": "/glade/u/home/eromashkova/codes/nbscuid-examples/dask-debug/nblibrary/dasktest2.ipynb",
   "output_path": "/glade/u/home/eromashkova/codes/nbscuid-examples/dask-debug/computed_notebooks/placeholder-casename/dasktest2.ipynb",
   "parameters": {
    "casename": "placeholder-casename",
    "cluster_scheduler_address": "tcp://10.12.206.45:40281",
    "subset_kwargs": {}
   },
   "start_time": "2023-05-03T23:15:31.948526",
   "version": "2.4.0"
  }
 },
 "nbformat": 4,
 "nbformat_minor": 5
}