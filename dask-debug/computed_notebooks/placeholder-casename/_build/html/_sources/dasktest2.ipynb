{
 "cells": [
  {
   "cell_type": "code",
   "execution_count": 1,
   "id": "277790f5-6e92-498c-b4ce-d91d147d5405",
   "metadata": {
    "execution": {
     "iopub.execute_input": "2023-04-24T22:48:55.829043Z",
     "iopub.status.busy": "2023-04-24T22:48:55.828855Z",
     "iopub.status.idle": "2023-04-24T22:48:55.835722Z",
     "shell.execute_reply": "2023-04-24T22:48:55.834960Z"
    },
    "papermill": {
     "duration": 0.010607,
     "end_time": "2023-04-24T22:48:55.837076",
     "exception": false,
     "start_time": "2023-04-24T22:48:55.826469",
     "status": "completed"
    },
    "tags": [
     "parameters"
    ]
   },
   "outputs": [],
   "source": [
    "# empty parametrizable cell \n",
    "\n",
    "cluster_scheduler_address = None"
   ]
  },
  {
   "cell_type": "code",
   "execution_count": 2,
   "id": "2bc00b89",
   "metadata": {
    "execution": {
     "iopub.execute_input": "2023-04-24T22:48:55.840630Z",
     "iopub.status.busy": "2023-04-24T22:48:55.840467Z",
     "iopub.status.idle": "2023-04-24T22:48:55.852814Z",
     "shell.execute_reply": "2023-04-24T22:48:55.852411Z"
    },
    "papermill": {
     "duration": 0.015584,
     "end_time": "2023-04-24T22:48:55.854043",
     "exception": false,
     "start_time": "2023-04-24T22:48:55.838459",
     "status": "completed"
    },
    "tags": [
     "injected-parameters"
    ]
   },
   "outputs": [],
   "source": [
    "# Parameters\n",
    "casename = \"placeholder-casename\"\n",
    "subset_kwargs = {}\n"
   ]
  },
  {
   "cell_type": "markdown",
   "id": "1a20bec9-04c2-4ff8-be17-8fed0f5e6921",
   "metadata": {
    "papermill": {
     "duration": 0.00105,
     "end_time": "2023-04-24T22:48:55.856156",
     "exception": false,
     "start_time": "2023-04-24T22:48:55.855106",
     "status": "completed"
    },
    "tags": []
   },
   "source": [
    "## Connecting to cluster"
   ]
  },
  {
   "cell_type": "code",
   "execution_count": 3,
   "id": "2ae5dc22-7afc-4862-8227-8cdabdf6667f",
   "metadata": {
    "execution": {
     "iopub.execute_input": "2023-04-24T22:48:55.858949Z",
     "iopub.status.busy": "2023-04-24T22:48:55.858797Z",
     "iopub.status.idle": "2023-04-24T22:48:56.149036Z",
     "shell.execute_reply": "2023-04-24T22:48:56.148337Z"
    },
    "papermill": {
     "duration": 0.293633,
     "end_time": "2023-04-24T22:48:56.150765",
     "exception": false,
     "start_time": "2023-04-24T22:48:55.857132",
     "status": "completed"
    },
    "tags": []
   },
   "outputs": [],
   "source": [
    "from dask.distributed import Client\n",
    "import dask\n",
    "\n",
    "if cluster_scheduler_address is None:\n",
    "    pass\n",
    "else:\n",
    "    #dask.config.set({'distributed.comm.timeouts.connect': '10s'})\n",
    "\n",
    "    client = Client(cluster_scheduler_address)\n",
    "    \n",
    "    client"
   ]
  }
 ],
 "metadata": {
  "kernelspec": {
   "display_name": "Python 3 (ipykernel)",
   "language": "python",
   "name": "python3"
  },
  "language_info": {
   "codemirror_mode": {
    "name": "ipython",
    "version": 3
   },
   "file_extension": ".py",
   "mimetype": "text/x-python",
   "name": "python",
   "nbconvert_exporter": "python",
   "pygments_lexer": "ipython3",
   "version": "3.9.0"
  },
  "papermill": {
   "default_parameters": {},
   "duration": 1.316582,
   "end_time": "2023-04-24T22:48:56.370862",
   "environment_variables": {},
   "exception": null,
   "input_path": "/glade/u/home/eromashkova/codes/nbscuid-examples/dask-debug/nblibrary/dasktest2.ipynb",
   "output_path": "/glade/u/home/eromashkova/codes/nbscuid-examples/dask-debug/computed_notebooks/placeholder-casename/dasktest2.ipynb",
   "parameters": {
    "casename": "placeholder-casename",
    "subset_kwargs": {}
   },
   "start_time": "2023-04-24T22:48:55.054280",
   "version": "2.4.0"
  }
 },
 "nbformat": 4,
 "nbformat_minor": 5
}