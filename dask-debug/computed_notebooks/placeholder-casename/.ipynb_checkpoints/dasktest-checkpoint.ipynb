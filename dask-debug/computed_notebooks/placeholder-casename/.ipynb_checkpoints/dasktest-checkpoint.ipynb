{
 "cells": [
  {
   "cell_type": "code",
   "execution_count": 1,
   "id": "277790f5-6e92-498c-b4ce-d91d147d5405",
   "metadata": {
    "execution": {
     "iopub.execute_input": "2023-04-14T20:58:52.583151Z",
     "iopub.status.busy": "2023-04-14T20:58:52.582929Z",
     "iopub.status.idle": "2023-04-14T20:58:52.589706Z",
     "shell.execute_reply": "2023-04-14T20:58:52.589312Z"
    },
    "papermill": {
     "duration": 0.011799,
     "end_time": "2023-04-14T20:58:52.590992",
     "exception": false,
     "start_time": "2023-04-14T20:58:52.579193",
     "status": "completed"
    },
    "tags": [
     "parameters"
    ]
   },
   "outputs": [],
   "source": [
    "# empty parametrizable cell \n",
    "\n",
    "cluster_scheduler_address = None"
   ]
  },
  {
   "cell_type": "code",
   "execution_count": 2,
   "id": "cbe7310c",
   "metadata": {
    "execution": {
     "iopub.execute_input": "2023-04-14T20:58:52.594801Z",
     "iopub.status.busy": "2023-04-14T20:58:52.594625Z",
     "iopub.status.idle": "2023-04-14T20:58:52.606195Z",
     "shell.execute_reply": "2023-04-14T20:58:52.605770Z"
    },
    "papermill": {
     "duration": 0.015022,
     "end_time": "2023-04-14T20:58:52.607477",
     "exception": false,
     "start_time": "2023-04-14T20:58:52.592455",
     "status": "completed"
    },
    "tags": [
     "injected-parameters"
    ]
   },
   "outputs": [],
   "source": [
    "# Parameters\n",
    "casename = \"placeholder-casename\"\n",
    "cluster_scheduler_address = \"tcp://10.12.206.48:35129\"\n",
    "subset_kwargs = {}\n"
   ]
  },
  {
   "cell_type": "markdown",
   "id": "1a20bec9-04c2-4ff8-be17-8fed0f5e6921",
   "metadata": {
    "papermill": {
     "duration": 0.001075,
     "end_time": "2023-04-14T20:58:52.609822",
     "exception": false,
     "start_time": "2023-04-14T20:58:52.608747",
     "status": "completed"
    },
    "tags": []
   },
   "source": [
    "## Connecting to cluster"
   ]
  },
  {
   "cell_type": "code",
   "execution_count": 3,
   "id": "76878992-89dd-4306-b9a7-53c13666ef53",
   "metadata": {
    "execution": {
     "iopub.execute_input": "2023-04-14T20:58:52.613074Z",
     "iopub.status.busy": "2023-04-14T20:58:52.612891Z",
     "iopub.status.idle": "2023-04-14T20:58:52.617576Z",
     "shell.execute_reply": "2023-04-14T20:58:52.617188Z"
    },
    "papermill": {
     "duration": 0.007889,
     "end_time": "2023-04-14T20:58:52.618785",
     "exception": false,
     "start_time": "2023-04-14T20:58:52.610896",
     "status": "completed"
    },
    "tags": []
   },
   "outputs": [],
   "source": [
    "cluster_scheduler_address = \"tcp://10.12.206.48:37798\""
   ]
  },
  {
   "cell_type": "code",
   "execution_count": 4,
   "id": "2ae5dc22-7afc-4862-8227-8cdabdf6667f",
   "metadata": {
    "execution": {
     "iopub.execute_input": "2023-04-14T20:58:52.622958Z",
     "iopub.status.busy": "2023-04-14T20:58:52.622784Z",
     "iopub.status.idle": "2023-04-14T20:58:53.244579Z",
     "shell.execute_reply": "2023-04-14T20:58:53.243993Z"
    },
    "papermill": {
     "duration": 0.625784,
     "end_time": "2023-04-14T20:58:53.246521",
     "exception": false,
     "start_time": "2023-04-14T20:58:52.620737",
     "status": "completed"
    },
    "tags": []
   },
   "outputs": [],
   "source": [
    "from dask.distributed import Client\n",
    "\n",
    "if cluster_scheduler_address is None:\n",
    "    pass\n",
    "else:\n",
    "    client = Client(cluster_scheduler_address)\n",
    "    \n",
    "    client"
   ]
  }
 ],
 "metadata": {
  "kernelspec": {
   "display_name": "Python 3 (ipykernel)",
   "language": "python",
   "name": "python3"
  },
  "language_info": {
   "codemirror_mode": {
    "name": "ipython",
    "version": 3
   },
   "file_extension": ".py",
   "mimetype": "text/x-python",
   "name": "python",
   "nbconvert_exporter": "python",
   "pygments_lexer": "ipython3",
   "version": "3.9.12"
  },
  "papermill": {
   "default_parameters": {},
   "duration": 3.32381,
   "end_time": "2023-04-14T20:58:53.574114",
   "environment_variables": {},
   "exception": null,
   "input_path": "/glade/u/home/eromashkova/codes/nbscuid-examples/dask-debug/nblibrary/dasktest.ipynb",
   "output_path": "/glade/u/home/eromashkova/codes/nbscuid-examples/dask-debug/computed_notebooks/placeholder-casename/dasktest.ipynb",
   "parameters": {
    "casename": "placeholder-casename",
    "cluster_scheduler_address": "tcp://10.12.206.48:35129",
    "subset_kwargs": {}
   },
   "start_time": "2023-04-14T20:58:50.250304",
   "version": "2.3.4"
  }
 },
 "nbformat": 4,
 "nbformat_minor": 5
}
