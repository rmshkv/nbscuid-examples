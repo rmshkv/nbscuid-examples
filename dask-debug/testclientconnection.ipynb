{
 "cells": [
  {
   "cell_type": "code",
   "execution_count": 1,
   "id": "ab41d71b-075d-405e-bd23-2ed1b2f2d3a1",
   "metadata": {},
   "outputs": [],
   "source": [
    "import os\n",
    "import shutil\n",
    "from glob import glob\n",
    "import pathlib\n",
    "import subprocess\n",
    "import json\n",
    "import yaml\n",
    "import jupyter_client\n",
    "import papermill as pm\n",
    "from papermill.engines import NBClientEngine\n",
    "from jinja2 import Template\n",
    "import dask\n",
    "from dask_jobqueue import PBSCluster\n",
    "from dask.distributed import Client"
   ]
  },
  {
   "cell_type": "code",
   "execution_count": 2,
   "id": "e251923f-c5bf-4f97-8566-ea47b4cbb1ba",
   "metadata": {},
   "outputs": [],
   "source": [
    "def get_Cluster(memory=\"25GB\", account=\"NCGD0011\", on_hub=True):\n",
    "    \"\"\"return client and cluster\"\"\"\n",
    "    USER = os.environ[\"USER\"]\n",
    "\n",
    "    cluster = PBSCluster(\n",
    "        cores=1,\n",
    "        memory=memory,\n",
    "        processes=1,\n",
    "        queue=\"casper\",\n",
    "        local_directory=f\"/glade/scratch/{USER}/dask-workers\",\n",
    "        log_directory=f\"/glade/scratch/{USER}/dask-workers\",\n",
    "        resource_spec=f\"select=1:ncpus=1:mem={memory}\",\n",
    "        account=account,\n",
    "        walltime=\"06:00:00\",\n",
    "        interface=\"ib0\",\n",
    "    )\n",
    "\n",
    "    if on_hub:\n",
    "        jupyterhub_server_name = os.environ.get(\"JUPYTERHUB_SERVER_NAME\", None)\n",
    "        dashboard_link = (\n",
    "            \"https://jupyterhub.hpc.ucar.edu/stable/user/{USER}/proxy/{port}/status\"\n",
    "        )\n",
    "        if jupyterhub_server_name:\n",
    "            dashboard_link = (\n",
    "                \"https://jupyterhub.hpc.ucar.edu/stable/user/\"\n",
    "                + \"{USER}\"\n",
    "                + f\"/{jupyterhub_server_name}/proxy/\"\n",
    "                + \"{port}/status\"\n",
    "            )\n",
    "    else:\n",
    "        dashboard_link = \"http://localhost:8787/status\"\n",
    "\n",
    "    dask.config.set({\"distributed.dashboard.link\": dashboard_link})\n",
    "    return cluster"
   ]
  },
  {
   "cell_type": "code",
   "execution_count": 3,
   "id": "411498da-ccff-414f-824a-45d096df768d",
   "metadata": {},
   "outputs": [],
   "source": [
    "def get_ClusterClient(memory=\"25GB\", account=\"NCGD0011\", on_hub=True):\n",
    "    cluster = get_Cluster(memory, account, on_hub)\n",
    "    client = Client(cluster)\n",
    "    return cluster, client"
   ]
  },
  {
   "cell_type": "code",
   "execution_count": 4,
   "id": "e5a093a9-3b88-4132-b266-da141858a36d",
   "metadata": {},
   "outputs": [
    {
     "name": "stderr",
     "output_type": "stream",
     "text": [
      "/glade/work/eromashkova/miniconda3/envs/exp-nbscuid-042423/lib/python3.11/site-packages/distributed/node.py:182: UserWarning: Port 8787 is already in use.\n",
      "Perhaps you already have a cluster running?\n",
      "Hosting the HTTP server on port 45225 instead\n",
      "  warnings.warn(\n"
     ]
    }
   ],
   "source": [
    "cluster, client = get_ClusterClient()"
   ]
  },
  {
   "cell_type": "code",
   "execution_count": 5,
   "id": "54213af8-c1ff-4704-98c2-5740ee301981",
   "metadata": {},
   "outputs": [
    {
     "name": "stdout",
     "output_type": "stream",
     "text": [
      "PBSCluster(dfaf5b08, 'tcp://10.12.206.49:35149', workers=0, threads=0, memory=0 B)\n"
     ]
    }
   ],
   "source": [
    "print(cluster)"
   ]
  },
  {
   "cell_type": "code",
   "execution_count": 6,
   "id": "b92cd653-d030-49ad-b04c-f8326d0822e2",
   "metadata": {},
   "outputs": [],
   "source": [
    "cluster.scale(2)"
   ]
  },
  {
   "cell_type": "code",
   "execution_count": 7,
   "id": "ad7d247f-2d45-4eeb-b4a7-034217bf0c53",
   "metadata": {},
   "outputs": [],
   "source": [
    "client = Client(\"tcp://10.12.206.49:35149\")"
   ]
  },
  {
   "cell_type": "code",
   "execution_count": 8,
   "id": "c3f0bb41-957f-43bb-a055-bbb4b4cd19d9",
   "metadata": {},
   "outputs": [
    {
     "data": {
      "text/html": [
       "<div>\n",
       "    <div style=\"width: 24px; height: 24px; background-color: #e1e1e1; border: 3px solid #9D9D9D; border-radius: 5px; position: absolute;\"> </div>\n",
       "    <div style=\"margin-left: 48px;\">\n",
       "        <h3 style=\"margin-bottom: 0px;\">Client</h3>\n",
       "        <p style=\"color: #9D9D9D; margin-bottom: 0px;\">Client-1e5481f2-e322-11ed-9453-3cecef1b11e8</p>\n",
       "        <table style=\"width: 100%; text-align: left;\">\n",
       "\n",
       "        <tr>\n",
       "        \n",
       "            <td style=\"text-align: left;\"><strong>Connection method:</strong> Direct</td>\n",
       "            <td style=\"text-align: left;\"></td>\n",
       "        \n",
       "        </tr>\n",
       "\n",
       "        \n",
       "            <tr>\n",
       "                <td style=\"text-align: left;\">\n",
       "                    <strong>Dashboard: </strong> <a href=\"https://jupyterhub.hpc.ucar.edu/stable/user/eromashkova/proxy/45225/status\" target=\"_blank\">https://jupyterhub.hpc.ucar.edu/stable/user/eromashkova/proxy/45225/status</a>\n",
       "                </td>\n",
       "                <td style=\"text-align: left;\"></td>\n",
       "            </tr>\n",
       "        \n",
       "\n",
       "        </table>\n",
       "\n",
       "        \n",
       "\n",
       "        \n",
       "            <details>\n",
       "            <summary style=\"margin-bottom: 20px;\"><h3 style=\"display: inline;\">Scheduler Info</h3></summary>\n",
       "            <div style=\"\">\n",
       "    <div>\n",
       "        <div style=\"width: 24px; height: 24px; background-color: #FFF7E5; border: 3px solid #FF6132; border-radius: 5px; position: absolute;\"> </div>\n",
       "        <div style=\"margin-left: 48px;\">\n",
       "            <h3 style=\"margin-bottom: 0px;\">Scheduler</h3>\n",
       "            <p style=\"color: #9D9D9D; margin-bottom: 0px;\">Scheduler-6b195998-87d3-4be2-9224-2d7aa7b754f5</p>\n",
       "            <table style=\"width: 100%; text-align: left;\">\n",
       "                <tr>\n",
       "                    <td style=\"text-align: left;\">\n",
       "                        <strong>Comm:</strong> tcp://10.12.206.49:35149\n",
       "                    </td>\n",
       "                    <td style=\"text-align: left;\">\n",
       "                        <strong>Workers:</strong> 0\n",
       "                    </td>\n",
       "                </tr>\n",
       "                <tr>\n",
       "                    <td style=\"text-align: left;\">\n",
       "                        <strong>Dashboard:</strong> <a href=\"https://jupyterhub.hpc.ucar.edu/stable/user/eromashkova/proxy/45225/status\" target=\"_blank\">https://jupyterhub.hpc.ucar.edu/stable/user/eromashkova/proxy/45225/status</a>\n",
       "                    </td>\n",
       "                    <td style=\"text-align: left;\">\n",
       "                        <strong>Total threads:</strong> 0\n",
       "                    </td>\n",
       "                </tr>\n",
       "                <tr>\n",
       "                    <td style=\"text-align: left;\">\n",
       "                        <strong>Started:</strong> 1 minute ago\n",
       "                    </td>\n",
       "                    <td style=\"text-align: left;\">\n",
       "                        <strong>Total memory:</strong> 0 B\n",
       "                    </td>\n",
       "                </tr>\n",
       "            </table>\n",
       "        </div>\n",
       "    </div>\n",
       "\n",
       "    <details style=\"margin-left: 48px;\">\n",
       "        <summary style=\"margin-bottom: 20px;\">\n",
       "            <h3 style=\"display: inline;\">Workers</h3>\n",
       "        </summary>\n",
       "\n",
       "        \n",
       "\n",
       "    </details>\n",
       "</div>\n",
       "            </details>\n",
       "        \n",
       "\n",
       "    </div>\n",
       "</div>"
      ],
      "text/plain": [
       "<Client: 'tcp://10.12.206.49:35149' processes=0 threads=0, memory=0 B>"
      ]
     },
     "execution_count": 8,
     "metadata": {},
     "output_type": "execute_result"
    }
   ],
   "source": [
    "client"
   ]
  },
  {
   "cell_type": "code",
   "execution_count": 9,
   "id": "b18712d3-08a4-42c0-a2a2-9c2d66ed7b95",
   "metadata": {
    "tags": []
   },
   "outputs": [
    {
     "data": {
      "text/html": [
       "<div>\n",
       "    <div style=\"width: 24px; height: 24px; background-color: #e1e1e1; border: 3px solid #9D9D9D; border-radius: 5px; position: absolute;\"> </div>\n",
       "    <div style=\"margin-left: 48px;\">\n",
       "        <h3 style=\"margin-bottom: 0px;\">Client</h3>\n",
       "        <p style=\"color: #9D9D9D; margin-bottom: 0px;\">Client-1e5481f2-e322-11ed-9453-3cecef1b11e8</p>\n",
       "        <table style=\"width: 100%; text-align: left;\">\n",
       "\n",
       "        <tr>\n",
       "        \n",
       "            <td style=\"text-align: left;\"><strong>Connection method:</strong> Direct</td>\n",
       "            <td style=\"text-align: left;\"></td>\n",
       "        \n",
       "        </tr>\n",
       "\n",
       "        \n",
       "            <tr>\n",
       "                <td style=\"text-align: left;\">\n",
       "                    <strong>Dashboard: </strong> <a href=\"https://jupyterhub.hpc.ucar.edu/stable/user/eromashkova/proxy/45225/status\" target=\"_blank\">https://jupyterhub.hpc.ucar.edu/stable/user/eromashkova/proxy/45225/status</a>\n",
       "                </td>\n",
       "                <td style=\"text-align: left;\"></td>\n",
       "            </tr>\n",
       "        \n",
       "\n",
       "        </table>\n",
       "\n",
       "        \n",
       "\n",
       "        \n",
       "            <details>\n",
       "            <summary style=\"margin-bottom: 20px;\"><h3 style=\"display: inline;\">Scheduler Info</h3></summary>\n",
       "            <div style=\"\">\n",
       "    <div>\n",
       "        <div style=\"width: 24px; height: 24px; background-color: #FFF7E5; border: 3px solid #FF6132; border-radius: 5px; position: absolute;\"> </div>\n",
       "        <div style=\"margin-left: 48px;\">\n",
       "            <h3 style=\"margin-bottom: 0px;\">Scheduler</h3>\n",
       "            <p style=\"color: #9D9D9D; margin-bottom: 0px;\">Scheduler-6b195998-87d3-4be2-9224-2d7aa7b754f5</p>\n",
       "            <table style=\"width: 100%; text-align: left;\">\n",
       "                <tr>\n",
       "                    <td style=\"text-align: left;\">\n",
       "                        <strong>Comm:</strong> tcp://10.12.206.49:35149\n",
       "                    </td>\n",
       "                    <td style=\"text-align: left;\">\n",
       "                        <strong>Workers:</strong> 0\n",
       "                    </td>\n",
       "                </tr>\n",
       "                <tr>\n",
       "                    <td style=\"text-align: left;\">\n",
       "                        <strong>Dashboard:</strong> <a href=\"https://jupyterhub.hpc.ucar.edu/stable/user/eromashkova/proxy/45225/status\" target=\"_blank\">https://jupyterhub.hpc.ucar.edu/stable/user/eromashkova/proxy/45225/status</a>\n",
       "                    </td>\n",
       "                    <td style=\"text-align: left;\">\n",
       "                        <strong>Total threads:</strong> 0\n",
       "                    </td>\n",
       "                </tr>\n",
       "                <tr>\n",
       "                    <td style=\"text-align: left;\">\n",
       "                        <strong>Started:</strong> 3 minutes ago\n",
       "                    </td>\n",
       "                    <td style=\"text-align: left;\">\n",
       "                        <strong>Total memory:</strong> 0 B\n",
       "                    </td>\n",
       "                </tr>\n",
       "            </table>\n",
       "        </div>\n",
       "    </div>\n",
       "\n",
       "    <details style=\"margin-left: 48px;\">\n",
       "        <summary style=\"margin-bottom: 20px;\">\n",
       "            <h3 style=\"display: inline;\">Workers</h3>\n",
       "        </summary>\n",
       "\n",
       "        \n",
       "\n",
       "    </details>\n",
       "</div>\n",
       "            </details>\n",
       "        \n",
       "\n",
       "    </div>\n",
       "</div>"
      ],
      "text/plain": [
       "<Client: 'tcp://10.12.206.49:35149' processes=0 threads=0, memory=0 B>"
      ]
     },
     "execution_count": 9,
     "metadata": {},
     "output_type": "execute_result"
    }
   ],
   "source": [
    "cluster.scale(32)\n",
    "client"
   ]
  },
  {
   "cell_type": "code",
   "execution_count": 10,
   "id": "0951d9e4-b283-4eec-8050-652ea87eb572",
   "metadata": {},
   "outputs": [],
   "source": [
    "cluster.close()"
   ]
  },
  {
   "cell_type": "code",
   "execution_count": 11,
   "id": "cd8c2ed1-911b-4f6d-b077-7c5255bde946",
   "metadata": {},
   "outputs": [
    {
     "name": "stderr",
     "output_type": "stream",
     "text": [
      "2023-04-24 22:41:04,531 - distributed.client - ERROR - \n",
      "ConnectionRefusedError: [Errno 111] Connection refused\n",
      "\n",
      "The above exception was the direct cause of the following exception:\n",
      "\n",
      "Traceback (most recent call last):\n",
      "  File \"/glade/work/eromashkova/miniconda3/envs/exp-nbscuid-042423/lib/python3.11/site-packages/distributed/comm/core.py\", line 292, in connect\n",
      "    comm = await wait_for(\n",
      "           ^^^^^^^^^^^^^^^\n",
      "  File \"/glade/work/eromashkova/miniconda3/envs/exp-nbscuid-042423/lib/python3.11/site-packages/distributed/utils.py\", line 1845, in wait_for\n",
      "    return await fut\n",
      "           ^^^^^^^^^\n",
      "  File \"/glade/work/eromashkova/miniconda3/envs/exp-nbscuid-042423/lib/python3.11/site-packages/distributed/comm/tcp.py\", line 511, in connect\n",
      "    convert_stream_closed_error(self, e)\n",
      "  File \"/glade/work/eromashkova/miniconda3/envs/exp-nbscuid-042423/lib/python3.11/site-packages/distributed/comm/tcp.py\", line 142, in convert_stream_closed_error\n",
      "    raise CommClosedError(f\"in {obj}: {exc.__class__.__name__}: {exc}\") from exc\n",
      "distributed.comm.core.CommClosedError: in <distributed.comm.tcp.TCPConnector object at 0x2ab6eeafcf10>: ConnectionRefusedError: [Errno 111] Connection refused\n",
      "\n",
      "During handling of the above exception, another exception occurred:\n",
      "\n",
      "Traceback (most recent call last):\n",
      "  File \"/glade/work/eromashkova/miniconda3/envs/exp-nbscuid-042423/lib/python3.11/site-packages/distributed/utils.py\", line 752, in wrapper\n",
      "    return await func(*args, **kwargs)\n",
      "           ^^^^^^^^^^^^^^^^^^^^^^^^^^^\n",
      "  File \"/glade/work/eromashkova/miniconda3/envs/exp-nbscuid-042423/lib/python3.11/site-packages/distributed/client.py\", line 1321, in _reconnect\n",
      "    await self._ensure_connected(timeout=timeout)\n",
      "  File \"/glade/work/eromashkova/miniconda3/envs/exp-nbscuid-042423/lib/python3.11/site-packages/distributed/client.py\", line 1351, in _ensure_connected\n",
      "    comm = await connect(\n",
      "           ^^^^^^^^^^^^^^\n",
      "  File \"/glade/work/eromashkova/miniconda3/envs/exp-nbscuid-042423/lib/python3.11/site-packages/distributed/comm/core.py\", line 316, in connect\n",
      "    await asyncio.sleep(backoff)\n",
      "  File \"/glade/work/eromashkova/miniconda3/envs/exp-nbscuid-042423/lib/python3.11/asyncio/tasks.py\", line 639, in sleep\n",
      "    return await future\n",
      "           ^^^^^^^^^^^^\n",
      "asyncio.exceptions.CancelledError\n"
     ]
    }
   ],
   "source": [
    "client.close()"
   ]
  }
 ],
 "metadata": {
  "kernelspec": {
   "display_name": "Python [conda env:miniconda3-exp-nbscuid-042423]",
   "language": "python",
   "name": "conda-env-miniconda3-exp-nbscuid-042423-py"
  },
  "language_info": {
   "codemirror_mode": {
    "name": "ipython",
    "version": 3
   },
   "file_extension": ".py",
   "mimetype": "text/x-python",
   "name": "python",
   "nbconvert_exporter": "python",
   "pygments_lexer": "ipython3",
   "version": "3.11.3"
  }
 },
 "nbformat": 4,
 "nbformat_minor": 5
}
