{
 "cells": [
  {
   "cell_type": "markdown",
   "id": "a35bcac0-8347-4d02-a45e-2841eb93ca29",
   "metadata": {},
   "source": [
    "# Example Notebook {{nb_number}}"
   ]
  },
  {
   "cell_type": "code",
   "execution_count": 3,
   "id": "277790f5-6e92-498c-b4ce-d91d147d5405",
   "metadata": {
    "tags": [
     "parameters"
    ]
   },
   "outputs": [],
   "source": [
    "# Empty cell with \"parameters\" tag, papermill-provided parameters will be inserted below.\n",
    "\n",
    "cluster_scheduler_address = None"
   ]
  },
  {
   "cell_type": "markdown",
   "id": "1a20bec9-04c2-4ff8-be17-8fed0f5e6921",
   "metadata": {},
   "source": [
    "## Connecting to cluster"
   ]
  },
  {
   "cell_type": "code",
   "execution_count": 4,
   "id": "2ae5dc22-7afc-4862-8227-8cdabdf6667f",
   "metadata": {},
   "outputs": [],
   "source": [
    "from dask.distributed import Client\n",
    "\n",
    "if cluster_scheduler_address is None:\n",
    "    pass\n",
    "else:\n",
    "    client = Client(cluster_scheduler_address)\n",
    "    \n",
    "    client"
   ]
  },
  {
   "cell_type": "markdown",
   "id": "08a98c55-29c0-4783-bfb2-7124630fde56",
   "metadata": {},
   "source": [
    "### These notebooks have the same content but different parameters"
   ]
  }
 ],
 "metadata": {
  "kernelspec": {
   "display_name": "Python 3 (ipykernel)",
   "language": "python",
   "name": "python3"
  },
  "language_info": {
   "codemirror_mode": {
    "name": "ipython",
    "version": 3
   },
   "file_extension": ".py",
   "mimetype": "text/x-python",
   "name": "python",
   "nbconvert_exporter": "python",
   "pygments_lexer": "ipython3",
   "version": "3.9.12"
  }
 },
 "nbformat": 4,
 "nbformat_minor": 5
}
