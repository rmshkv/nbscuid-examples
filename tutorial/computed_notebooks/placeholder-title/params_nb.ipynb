{
 "cells": [
  {
   "cell_type": "markdown",
   "id": "2b88dfb4-3c60-4fc5-b2d8-8805f36acb45",
   "metadata": {
    "papermill": {
     "duration": 0.001633,
     "end_time": "2023-05-15T16:57:20.082594",
     "exception": false,
     "start_time": "2023-05-15T16:57:20.080961",
     "status": "completed"
    },
    "tags": []
   },
   "source": [
    "# Example Notebook 1"
   ]
  },
  {
   "cell_type": "code",
   "execution_count": 1,
   "id": "277790f5-6e92-498c-b4ce-d91d147d5405",
   "metadata": {
    "execution": {
     "iopub.execute_input": "2023-05-15T16:57:20.086618Z",
     "iopub.status.busy": "2023-05-15T16:57:20.086394Z",
     "iopub.status.idle": "2023-05-15T16:57:20.093194Z",
     "shell.execute_reply": "2023-05-15T16:57:20.092729Z"
    },
    "papermill": {
     "duration": 0.010412,
     "end_time": "2023-05-15T16:57:20.094423",
     "exception": false,
     "start_time": "2023-05-15T16:57:20.084011",
     "status": "completed"
    },
    "tags": [
     "parameters"
    ]
   },
   "outputs": [],
   "source": [
    "# Empty cell with \"parameters\" tag, papermill-provided parameters will be inserted below.\n",
    "\n",
    "cluster_scheduler_address = None"
   ]
  },
  {
   "cell_type": "code",
   "execution_count": 2,
   "id": "16fcc3b1",
   "metadata": {
    "execution": {
     "iopub.execute_input": "2023-05-15T16:57:20.097825Z",
     "iopub.status.busy": "2023-05-15T16:57:20.097676Z",
     "iopub.status.idle": "2023-05-15T16:57:20.102959Z",
     "shell.execute_reply": "2023-05-15T16:57:20.102586Z"
    },
    "papermill": {
     "duration": 0.008427,
     "end_time": "2023-05-15T16:57:20.104151",
     "exception": false,
     "start_time": "2023-05-15T16:57:20.095724",
     "status": "completed"
    },
    "tags": [
     "injected-parameters"
    ]
   },
   "outputs": [],
   "source": [
    "# Parameters\n",
    "casename = \"placeholder-title\"\n",
    "param_1 = \"some_string\"\n",
    "param_2 = \"another_string\"\n",
    "cluster_scheduler_address = \"tcp://10.12.206.48:41652\"\n",
    "subset_kwargs = {}\n"
   ]
  },
  {
   "cell_type": "markdown",
   "id": "1a20bec9-04c2-4ff8-be17-8fed0f5e6921",
   "metadata": {
    "papermill": {
     "duration": 0.001137,
     "end_time": "2023-05-15T16:57:20.106888",
     "exception": false,
     "start_time": "2023-05-15T16:57:20.105751",
     "status": "completed"
    },
    "tags": []
   },
   "source": [
    "## Connecting to cluster"
   ]
  },
  {
   "cell_type": "code",
   "execution_count": 3,
   "id": "2ae5dc22-7afc-4862-8227-8cdabdf6667f",
   "metadata": {
    "execution": {
     "iopub.execute_input": "2023-05-15T16:57:20.110723Z",
     "iopub.status.busy": "2023-05-15T16:57:20.110572Z",
     "iopub.status.idle": "2023-05-15T16:57:20.734675Z",
     "shell.execute_reply": "2023-05-15T16:57:20.734201Z"
    },
    "papermill": {
     "duration": 0.627472,
     "end_time": "2023-05-15T16:57:20.736059",
     "exception": false,
     "start_time": "2023-05-15T16:57:20.108587",
     "status": "completed"
    },
    "tags": []
   },
   "outputs": [
    {
     "name": "stderr",
     "output_type": "stream",
     "text": [
      "/glade/work/eromashkova/miniconda3/envs/diag-sandbox/lib/python3.9/site-packages/distributed/client.py:1361: VersionMismatchWarning: Mismatched versions found\n",
      "\n",
      "+-------------+----------------+----------------+----------------+\n",
      "| Package     | Client         | Scheduler      | Workers        |\n",
      "+-------------+----------------+----------------+----------------+\n",
      "| dask        | 2022.11.0      | 2022.9.2       | 2022.9.2       |\n",
      "| distributed | 2022.11.0      | 2022.9.2       | 2022.9.2       |\n",
      "| lz4         | 4.0.2          | None           | None           |\n",
      "| numpy       | 1.23.4         | 1.23.3         | 1.23.3         |\n",
      "| pandas      | 1.5.1          | 1.5.0          | 1.5.0          |\n",
      "| python      | 3.9.13.final.0 | 3.9.12.final.0 | 3.9.12.final.0 |\n",
      "+-------------+----------------+----------------+----------------+\n",
      "  warnings.warn(version_module.VersionMismatchWarning(msg[0][\"warning\"]))\n"
     ]
    }
   ],
   "source": [
    "from dask.distributed import Client\n",
    "import dask\n",
    "\n",
    "if cluster_scheduler_address is None:\n",
    "    pass\n",
    "else:\n",
    "    #dask.config.set({'distributed.comm.timeouts.connect': '180s'})\n",
    "\n",
    "    client = Client(cluster_scheduler_address)\n",
    "    \n",
    "    client"
   ]
  },
  {
   "cell_type": "markdown",
   "id": "1f1dbca0-a763-4b79-81f9-991c419c30a4",
   "metadata": {
    "papermill": {
     "duration": 0.001625,
     "end_time": "2023-05-15T16:57:20.739392",
     "exception": false,
     "start_time": "2023-05-15T16:57:20.737767",
     "status": "completed"
    },
    "tags": []
   },
   "source": [
    "### Some content"
   ]
  }
 ],
 "metadata": {
  "kernelspec": {
   "display_name": "Python 3 (ipykernel)",
   "language": "python",
   "name": "python3"
  },
  "language_info": {
   "codemirror_mode": {
    "name": "ipython",
    "version": 3
   },
   "file_extension": ".py",
   "mimetype": "text/x-python",
   "name": "python",
   "nbconvert_exporter": "python",
   "pygments_lexer": "ipython3",
   "version": "3.9.13"
  },
  "papermill": {
   "default_parameters": {},
   "duration": 1.995376,
   "end_time": "2023-05-15T16:57:21.062128",
   "environment_variables": {},
   "exception": null,
   "input_path": "/glade/u/home/eromashkova/codes/nbscuid-examples/tutorial/nblibrary/params_nb.ipynb",
   "output_path": "/glade/u/home/eromashkova/codes/nbscuid-examples/tutorial/computed_notebooks/placeholder-title/params_nb.ipynb",
   "parameters": {
    "casename": "placeholder-title",
    "cluster_scheduler_address": "tcp://10.12.206.48:41652",
    "param_1": "some_string",
    "param_2": "another_string",
    "subset_kwargs": {}
   },
   "start_time": "2023-05-15T16:57:19.066752",
   "version": "2.4.0"
  }
 },
 "nbformat": 4,
 "nbformat_minor": 5
}