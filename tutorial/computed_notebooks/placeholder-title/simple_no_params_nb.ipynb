{
 "cells": [
  {
   "cell_type": "markdown",
   "id": "1a20bec9-04c2-4ff8-be17-8fed0f5e6921",
   "metadata": {
    "papermill": {
     "duration": 0.001551,
     "end_time": "2023-05-11T15:56:04.591661",
     "exception": false,
     "start_time": "2023-05-11T15:56:04.590110",
     "status": "completed"
    },
    "tags": []
   },
   "source": [
    "# This is a simple tutorial Jupyter book created with `nbscuid`!"
   ]
  }
 ],
 "metadata": {
  "kernelspec": {
   "display_name": "Python 3 (ipykernel)",
   "language": "python",
   "name": "python3"
  },
  "language_info": {
   "codemirror_mode": {
    "name": "ipython",
    "version": 3
   },
   "file_extension": ".py",
   "mimetype": "text/x-python",
   "name": "python",
   "nbconvert_exporter": "python",
   "pygments_lexer": "ipython3",
   "version": "3.9.13"
  },
  "papermill": {
   "default_parameters": {},
   "duration": 2.13532,
   "end_time": "2023-05-11T15:56:04.810282",
   "environment_variables": {},
   "exception": null,
   "input_path": "/glade/u/home/eromashkova/codes/nbscuid-examples/tutorial/nblibrary/simple_no_params_nb.ipynb",
   "output_path": "/glade/u/home/eromashkova/codes/nbscuid-examples/tutorial/computed_notebooks/placeholder-title/simple_no_params_nb.ipynb",
   "parameters": {},
   "start_time": "2023-05-11T15:56:02.674962",
   "version": "2.4.0"
  }
 },
 "nbformat": 4,
 "nbformat_minor": 5
}