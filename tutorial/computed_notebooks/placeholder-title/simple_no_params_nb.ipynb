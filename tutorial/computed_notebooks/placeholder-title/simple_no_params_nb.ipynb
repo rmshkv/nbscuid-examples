{
 "cells": [
  {
   "cell_type": "markdown",
   "id": "1a20bec9-04c2-4ff8-be17-8fed0f5e6921",
   "metadata": {
    "papermill": {
     "duration": 0.001484,
     "end_time": "2023-05-15T16:57:18.796539",
     "exception": false,
     "start_time": "2023-05-15T16:57:18.795055",
     "status": "completed"
    },
    "tags": []
   },
   "source": [
    "# This is a simple tutorial Jupyter book created with `nbscuid`!"
   ]
  }
 ],
 "metadata": {
  "kernelspec": {
   "display_name": "Python 3 (ipykernel)",
   "language": "python",
   "name": "python3"
  },
  "language_info": {
   "codemirror_mode": {
    "name": "ipython",
    "version": 3
   },
   "file_extension": ".py",
   "mimetype": "text/x-python",
   "name": "python",
   "nbconvert_exporter": "python",
   "pygments_lexer": "ipython3",
   "version": "3.9.13"
  },
  "papermill": {
   "default_parameters": {},
   "duration": 1.162595,
   "end_time": "2023-05-15T16:57:19.016269",
   "environment_variables": {},
   "exception": null,
   "input_path": "/glade/u/home/eromashkova/codes/nbscuid-examples/tutorial/nblibrary/simple_no_params_nb.ipynb",
   "output_path": "/glade/u/home/eromashkova/codes/nbscuid-examples/tutorial/computed_notebooks/placeholder-title/simple_no_params_nb.ipynb",
   "parameters": {},
   "start_time": "2023-05-15T16:57:17.853674",
   "version": "2.4.0"
  }
 },
 "nbformat": 4,
 "nbformat_minor": 5
}