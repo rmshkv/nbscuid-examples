{
 "cells": [
  {
   "cell_type": "markdown",
   "id": "087f8e34-6785-4e17-a452-86d37658ce02",
   "metadata": {
    "papermill": {
     "duration": 0.001553,
     "end_time": "2023-05-10T21:27:31.486684",
     "exception": false,
     "start_time": "2023-05-10T21:27:31.485131",
     "status": "completed"
    },
    "tags": []
   },
   "source": [
    "# Example Notebook 2"
   ]
  },
  {
   "cell_type": "code",
   "execution_count": 1,
   "id": "277790f5-6e92-498c-b4ce-d91d147d5405",
   "metadata": {
    "execution": {
     "iopub.execute_input": "2023-05-10T21:27:31.490330Z",
     "iopub.status.busy": "2023-05-10T21:27:31.490148Z",
     "iopub.status.idle": "2023-05-10T21:27:31.496470Z",
     "shell.execute_reply": "2023-05-10T21:27:31.496139Z"
    },
    "papermill": {
     "duration": 0.009696,
     "end_time": "2023-05-10T21:27:31.497716",
     "exception": false,
     "start_time": "2023-05-10T21:27:31.488020",
     "status": "completed"
    },
    "tags": [
     "parameters"
    ]
   },
   "outputs": [],
   "source": [
    "# Empty cell with \"parameters\" tag, papermill-provided parameters will be inserted below.\n",
    "\n",
    "cluster_scheduler_address = None"
   ]
  },
  {
   "cell_type": "code",
   "execution_count": 2,
   "id": "ff777d8a",
   "metadata": {
    "execution": {
     "iopub.execute_input": "2023-05-10T21:27:31.501006Z",
     "iopub.status.busy": "2023-05-10T21:27:31.500844Z",
     "iopub.status.idle": "2023-05-10T21:27:31.506378Z",
     "shell.execute_reply": "2023-05-10T21:27:31.506034Z"
    },
    "papermill": {
     "duration": 0.008478,
     "end_time": "2023-05-10T21:27:31.507500",
     "exception": false,
     "start_time": "2023-05-10T21:27:31.499022",
     "status": "completed"
    },
    "tags": [
     "injected-parameters"
    ]
   },
   "outputs": [],
   "source": [
    "# Parameters\n",
    "casename = \"placeholder-title\"\n",
    "param_1 = {\"key1\": \"dict_entry1\", \"key2\": \"dict_entry2\"}\n",
    "param_2 = 12345\n",
    "cluster_scheduler_address = \"tcp://10.12.206.48:39652\"\n",
    "subset_kwargs = {}\n"
   ]
  },
  {
   "cell_type": "markdown",
   "id": "1a20bec9-04c2-4ff8-be17-8fed0f5e6921",
   "metadata": {
    "papermill": {
     "duration": 0.001148,
     "end_time": "2023-05-10T21:27:31.510366",
     "exception": false,
     "start_time": "2023-05-10T21:27:31.509218",
     "status": "completed"
    },
    "tags": []
   },
   "source": [
    "## Connecting to cluster"
   ]
  },
  {
   "cell_type": "code",
   "execution_count": 3,
   "id": "2ae5dc22-7afc-4862-8227-8cdabdf6667f",
   "metadata": {
    "execution": {
     "iopub.execute_input": "2023-05-10T21:27:31.513395Z",
     "iopub.status.busy": "2023-05-10T21:27:31.513250Z",
     "iopub.status.idle": "2023-05-10T21:27:32.088191Z",
     "shell.execute_reply": "2023-05-10T21:27:32.087743Z"
    },
    "papermill": {
     "duration": 0.577987,
     "end_time": "2023-05-10T21:27:32.089459",
     "exception": false,
     "start_time": "2023-05-10T21:27:31.511472",
     "status": "completed"
    },
    "tags": []
   },
   "outputs": [
    {
     "name": "stderr",
     "output_type": "stream",
     "text": [
      "/glade/work/eromashkova/miniconda3/envs/diag-sandbox/lib/python3.9/site-packages/distributed/client.py:1361: VersionMismatchWarning: Mismatched versions found\n",
      "\n",
      "+-------------+----------------+----------------+---------+\n",
      "| Package     | Client         | Scheduler      | Workers |\n",
      "+-------------+----------------+----------------+---------+\n",
      "| dask        | 2022.11.0      | 2022.9.2       | None    |\n",
      "| distributed | 2022.11.0      | 2022.9.2       | None    |\n",
      "| lz4         | 4.0.2          | None           | None    |\n",
      "| python      | 3.9.13.final.0 | 3.9.12.final.0 | None    |\n",
      "+-------------+----------------+----------------+---------+\n",
      "  warnings.warn(version_module.VersionMismatchWarning(msg[0][\"warning\"]))\n"
     ]
    }
   ],
   "source": [
    "from dask.distributed import Client\n",
    "import dask\n",
    "\n",
    "if cluster_scheduler_address is None:\n",
    "    pass\n",
    "else:\n",
    "    dask.config.set({'distributed.comm.timeouts.connect': '180s'})\n",
    "\n",
    "    client = Client(cluster_scheduler_address)\n",
    "    \n",
    "    client"
   ]
  },
  {
   "cell_type": "markdown",
   "id": "9b048775-5d15-4431-84e8-750236c864db",
   "metadata": {
    "papermill": {
     "duration": 0.001743,
     "end_time": "2023-05-10T21:27:32.092942",
     "exception": false,
     "start_time": "2023-05-10T21:27:32.091199",
     "status": "completed"
    },
    "tags": []
   },
   "source": [
    "### Some different content"
   ]
  }
 ],
 "metadata": {
  "kernelspec": {
   "display_name": "Python 3 (ipykernel)",
   "language": "python",
   "name": "python3"
  },
  "language_info": {
   "codemirror_mode": {
    "name": "ipython",
    "version": 3
   },
   "file_extension": ".py",
   "mimetype": "text/x-python",
   "name": "python",
   "nbconvert_exporter": "python",
   "pygments_lexer": "ipython3",
   "version": "3.9.13"
  },
  "papermill": {
   "default_parameters": {},
   "duration": 1.827781,
   "end_time": "2023-05-10T21:27:32.430202",
   "environment_variables": {},
   "exception": null,
   "input_path": "/glade/u/home/eromashkova/codes/nbscuid-examples/tutorial/nblibrary/another_params_nb.ipynb",
   "output_path": "/glade/u/home/eromashkova/codes/nbscuid-examples/tutorial/computed_notebooks/placeholder-title/another_params_nb.ipynb",
   "parameters": {
    "casename": "placeholder-title",
    "cluster_scheduler_address": "tcp://10.12.206.48:39652",
    "param_1": {
     "key1": "dict_entry1",
     "key2": "dict_entry2"
    },
    "param_2": 12345,
    "subset_kwargs": {}
   },
   "start_time": "2023-05-10T21:27:30.602421",
   "version": "2.4.0"
  }
 },
 "nbformat": 4,
 "nbformat_minor": 5
}