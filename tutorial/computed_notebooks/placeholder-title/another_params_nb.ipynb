{
 "cells": [
  {
   "cell_type": "markdown",
   "id": "087f8e34-6785-4e17-a452-86d37658ce02",
   "metadata": {
    "papermill": {
     "duration": 0.001882,
     "end_time": "2023-05-15T16:57:21.912186",
     "exception": false,
     "start_time": "2023-05-15T16:57:21.910304",
     "status": "completed"
    },
    "tags": []
   },
   "source": [
    "# Example Notebook 2"
   ]
  },
  {
   "cell_type": "code",
   "execution_count": 1,
   "id": "277790f5-6e92-498c-b4ce-d91d147d5405",
   "metadata": {
    "execution": {
     "iopub.execute_input": "2023-05-15T16:57:21.916287Z",
     "iopub.status.busy": "2023-05-15T16:57:21.916048Z",
     "iopub.status.idle": "2023-05-15T16:57:21.923052Z",
     "shell.execute_reply": "2023-05-15T16:57:21.922673Z"
    },
    "papermill": {
     "duration": 0.010636,
     "end_time": "2023-05-15T16:57:21.924356",
     "exception": false,
     "start_time": "2023-05-15T16:57:21.913720",
     "status": "completed"
    },
    "tags": [
     "parameters"
    ]
   },
   "outputs": [],
   "source": [
    "# Empty cell with \"parameters\" tag, papermill-provided parameters will be inserted below.\n",
    "\n",
    "cluster_scheduler_address = None"
   ]
  },
  {
   "cell_type": "code",
   "execution_count": 2,
   "id": "29f92473",
   "metadata": {
    "execution": {
     "iopub.execute_input": "2023-05-15T16:57:21.929056Z",
     "iopub.status.busy": "2023-05-15T16:57:21.928884Z",
     "iopub.status.idle": "2023-05-15T16:57:21.932951Z",
     "shell.execute_reply": "2023-05-15T16:57:21.932576Z"
    },
    "papermill": {
     "duration": 0.007773,
     "end_time": "2023-05-15T16:57:21.934130",
     "exception": false,
     "start_time": "2023-05-15T16:57:21.926357",
     "status": "completed"
    },
    "tags": [
     "injected-parameters"
    ]
   },
   "outputs": [],
   "source": [
    "# Parameters\n",
    "casename = \"placeholder-title\"\n",
    "param_1 = {\"key1\": \"dict_entry1\", \"key2\": \"dict_entry2\"}\n",
    "param_2 = 12345\n",
    "cluster_scheduler_address = \"tcp://10.12.206.48:41652\"\n",
    "subset_kwargs = {}\n"
   ]
  },
  {
   "cell_type": "markdown",
   "id": "1a20bec9-04c2-4ff8-be17-8fed0f5e6921",
   "metadata": {
    "papermill": {
     "duration": 0.001297,
     "end_time": "2023-05-15T16:57:21.937247",
     "exception": false,
     "start_time": "2023-05-15T16:57:21.935950",
     "status": "completed"
    },
    "tags": []
   },
   "source": [
    "## Connecting to cluster"
   ]
  },
  {
   "cell_type": "code",
   "execution_count": 3,
   "id": "2ae5dc22-7afc-4862-8227-8cdabdf6667f",
   "metadata": {
    "execution": {
     "iopub.execute_input": "2023-05-15T16:57:21.940347Z",
     "iopub.status.busy": "2023-05-15T16:57:21.940194Z",
     "iopub.status.idle": "2023-05-15T16:57:22.548493Z",
     "shell.execute_reply": "2023-05-15T16:57:22.548025Z"
    },
    "papermill": {
     "duration": 0.611424,
     "end_time": "2023-05-15T16:57:22.549867",
     "exception": false,
     "start_time": "2023-05-15T16:57:21.938443",
     "status": "completed"
    },
    "tags": []
   },
   "outputs": [
    {
     "name": "stderr",
     "output_type": "stream",
     "text": [
      "/glade/work/eromashkova/miniconda3/envs/diag-sandbox/lib/python3.9/site-packages/distributed/client.py:1361: VersionMismatchWarning: Mismatched versions found\n",
      "\n",
      "+-------------+----------------+----------------+----------------+\n",
      "| Package     | Client         | Scheduler      | Workers        |\n",
      "+-------------+----------------+----------------+----------------+\n",
      "| dask        | 2022.11.0      | 2022.9.2       | 2022.9.2       |\n",
      "| distributed | 2022.11.0      | 2022.9.2       | 2022.9.2       |\n",
      "| lz4         | 4.0.2          | None           | None           |\n",
      "| numpy       | 1.23.4         | 1.23.3         | 1.23.3         |\n",
      "| pandas      | 1.5.1          | 1.5.0          | 1.5.0          |\n",
      "| python      | 3.9.13.final.0 | 3.9.12.final.0 | 3.9.12.final.0 |\n",
      "+-------------+----------------+----------------+----------------+\n",
      "  warnings.warn(version_module.VersionMismatchWarning(msg[0][\"warning\"]))\n"
     ]
    }
   ],
   "source": [
    "from dask.distributed import Client\n",
    "import dask\n",
    "\n",
    "if cluster_scheduler_address is None:\n",
    "    pass\n",
    "else:\n",
    "    dask.config.set({'distributed.comm.timeouts.connect': '180s'})\n",
    "\n",
    "    client = Client(cluster_scheduler_address)\n",
    "    \n",
    "    client"
   ]
  },
  {
   "cell_type": "markdown",
   "id": "9b048775-5d15-4431-84e8-750236c864db",
   "metadata": {
    "papermill": {
     "duration": 0.001636,
     "end_time": "2023-05-15T16:57:22.553348",
     "exception": false,
     "start_time": "2023-05-15T16:57:22.551712",
     "status": "completed"
    },
    "tags": []
   },
   "source": [
    "### Some different content"
   ]
  }
 ],
 "metadata": {
  "kernelspec": {
   "display_name": "Python 3 (ipykernel)",
   "language": "python",
   "name": "python3"
  },
  "language_info": {
   "codemirror_mode": {
    "name": "ipython",
    "version": 3
   },
   "file_extension": ".py",
   "mimetype": "text/x-python",
   "name": "python",
   "nbconvert_exporter": "python",
   "pygments_lexer": "ipython3",
   "version": "3.9.13"
  },
  "papermill": {
   "default_parameters": {},
   "duration": 1.810495,
   "end_time": "2023-05-15T16:57:22.878918",
   "environment_variables": {},
   "exception": null,
   "input_path": "/glade/u/home/eromashkova/codes/nbscuid-examples/tutorial/nblibrary/another_params_nb.ipynb",
   "output_path": "/glade/u/home/eromashkova/codes/nbscuid-examples/tutorial/computed_notebooks/placeholder-title/another_params_nb.ipynb",
   "parameters": {
    "casename": "placeholder-title",
    "cluster_scheduler_address": "tcp://10.12.206.48:41652",
    "param_1": {
     "key1": "dict_entry1",
     "key2": "dict_entry2"
    },
    "param_2": 12345,
    "subset_kwargs": {}
   },
   "start_time": "2023-05-15T16:57:21.068423",
   "version": "2.4.0"
  }
 },
 "nbformat": 4,
 "nbformat_minor": 5
}