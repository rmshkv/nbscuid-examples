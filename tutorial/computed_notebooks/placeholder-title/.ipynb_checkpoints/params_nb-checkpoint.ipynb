{
 "cells": [
  {
   "cell_type": "markdown",
   "id": "dd89d8cd-c7f0-46ff-855d-4a0ecdf808ef",
   "metadata": {},
   "source": [
    "# Example notebook 1"
   ]
  },
  {
   "cell_type": "code",
   "execution_count": 1,
   "id": "277790f5-6e92-498c-b4ce-d91d147d5405",
   "metadata": {
    "execution": {
     "iopub.execute_input": "2023-05-09T22:42:39.437552Z",
     "iopub.status.busy": "2023-05-09T22:42:39.437353Z",
     "iopub.status.idle": "2023-05-09T22:42:39.443914Z",
     "shell.execute_reply": "2023-05-09T22:42:39.443471Z"
    },
    "papermill": {
     "duration": 0.010009,
     "end_time": "2023-05-09T22:42:39.445105",
     "exception": false,
     "start_time": "2023-05-09T22:42:39.435096",
     "status": "completed"
    },
    "tags": [
     "parameters"
    ]
   },
   "outputs": [],
   "source": [
    "# Empty cell with \"parameters\" tag, papermill-provided parameters will be inserted below.\n",
    "\n",
    "cluster_scheduler_address = None"
   ]
  },
  {
   "cell_type": "code",
   "execution_count": 2,
   "id": "67a9e1ea",
   "metadata": {
    "execution": {
     "iopub.execute_input": "2023-05-09T22:42:39.448431Z",
     "iopub.status.busy": "2023-05-09T22:42:39.448286Z",
     "iopub.status.idle": "2023-05-09T22:42:39.452886Z",
     "shell.execute_reply": "2023-05-09T22:42:39.452341Z"
    },
    "papermill": {
     "duration": 0.007642,
     "end_time": "2023-05-09T22:42:39.454041",
     "exception": false,
     "start_time": "2023-05-09T22:42:39.446399",
     "status": "completed"
    },
    "tags": [
     "injected-parameters"
    ]
   },
   "outputs": [],
   "source": [
    "# Parameters\n",
    "casename = \"placeholder-title\"\n",
    "param_1 = \"some_string\"\n",
    "param_2 = \"another_string\"\n",
    "cluster_scheduler_address = \"tcp://10.12.206.48:35380\"\n",
    "subset_kwargs = {}\n"
   ]
  },
  {
   "cell_type": "markdown",
   "id": "1a20bec9-04c2-4ff8-be17-8fed0f5e6921",
   "metadata": {
    "papermill": {
     "duration": 0.000998,
     "end_time": "2023-05-09T22:42:39.456027",
     "exception": false,
     "start_time": "2023-05-09T22:42:39.455029",
     "status": "completed"
    },
    "tags": []
   },
   "source": [
    "## Connecting to cluster"
   ]
  },
  {
   "cell_type": "code",
   "execution_count": 3,
   "id": "2ae5dc22-7afc-4862-8227-8cdabdf6667f",
   "metadata": {
    "execution": {
     "iopub.execute_input": "2023-05-09T22:42:39.458619Z",
     "iopub.status.busy": "2023-05-09T22:42:39.458477Z",
     "iopub.status.idle": "2023-05-09T22:43:36.184636Z",
     "shell.execute_reply": "2023-05-09T22:43:36.184168Z"
    },
    "papermill": {
     "duration": 56.729212,
     "end_time": "2023-05-09T22:43:36.186177",
     "exception": false,
     "start_time": "2023-05-09T22:42:39.456965",
     "status": "completed"
    },
    "tags": []
   },
   "outputs": [
    {
     "name": "stderr",
     "output_type": "stream",
     "text": [
      "/glade/work/eromashkova/miniconda3/envs/diag-sandbox/lib/python3.9/site-packages/distributed/client.py:1361: VersionMismatchWarning: Mismatched versions found\n",
      "\n",
      "+-------------+----------------+----------------+---------+\n",
      "| Package     | Client         | Scheduler      | Workers |\n",
      "+-------------+----------------+----------------+---------+\n",
      "| dask        | 2022.11.0      | 2022.9.2       | None    |\n",
      "| distributed | 2022.11.0      | 2022.9.2       | None    |\n",
      "| lz4         | 4.0.2          | None           | None    |\n",
      "| python      | 3.9.13.final.0 | 3.9.12.final.0 | None    |\n",
      "+-------------+----------------+----------------+---------+\n",
      "  warnings.warn(version_module.VersionMismatchWarning(msg[0][\"warning\"]))\n"
     ]
    }
   ],
   "source": [
    "from dask.distributed import Client\n",
    "import dask\n",
    "\n",
    "if cluster_scheduler_address is None:\n",
    "    pass\n",
    "else:\n",
    "    dask.config.set({'distributed.comm.timeouts.connect': '180s'})\n",
    "\n",
    "    client = Client(cluster_scheduler_address)\n",
    "    \n",
    "    client"
   ]
  }
 ],
 "metadata": {
  "kernelspec": {
   "display_name": "Python 3 (ipykernel)",
   "language": "python",
   "name": "python3"
  },
  "language_info": {
   "codemirror_mode": {
    "name": "ipython",
    "version": 3
   },
   "file_extension": ".py",
   "mimetype": "text/x-python",
   "name": "python",
   "nbconvert_exporter": "python",
   "pygments_lexer": "ipython3",
   "version": "3.9.12"
  },
  "papermill": {
   "default_parameters": {},
   "duration": 58.096645,
   "end_time": "2023-05-09T22:43:36.510443",
   "environment_variables": {},
   "exception": null,
   "input_path": "/glade/u/home/eromashkova/codes/nbscuid-examples/tutorial/nblibrary/params_nb.ipynb",
   "output_path": "/glade/u/home/eromashkova/codes/nbscuid-examples/tutorial/computed_notebooks/placeholder-title/params_nb.ipynb",
   "parameters": {
    "casename": "placeholder-title",
    "cluster_scheduler_address": "tcp://10.12.206.48:35380",
    "param_1": "some_string",
    "param_2": "another_string",
    "subset_kwargs": {}
   },
   "start_time": "2023-05-09T22:42:38.413798",
   "version": "2.4.0"
  }
 },
 "nbformat": 4,
 "nbformat_minor": 5
}
