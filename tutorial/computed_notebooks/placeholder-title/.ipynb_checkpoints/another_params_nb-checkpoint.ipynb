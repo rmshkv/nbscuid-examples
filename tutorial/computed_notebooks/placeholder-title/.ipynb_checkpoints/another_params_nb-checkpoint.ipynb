{
 "cells": [
  {
   "cell_type": "markdown",
   "id": "24e71578-c5d7-4d63-90b1-ca441af6b059",
   "metadata": {},
   "source": [
    "# Example Notebook 2"
   ]
  },
  {
   "cell_type": "code",
   "execution_count": 1,
   "id": "277790f5-6e92-498c-b4ce-d91d147d5405",
   "metadata": {
    "execution": {
     "iopub.execute_input": "2023-05-09T22:43:37.383264Z",
     "iopub.status.busy": "2023-05-09T22:43:37.383065Z",
     "iopub.status.idle": "2023-05-09T22:43:37.389570Z",
     "shell.execute_reply": "2023-05-09T22:43:37.389224Z"
    },
    "papermill": {
     "duration": 0.009952,
     "end_time": "2023-05-09T22:43:37.390864",
     "exception": false,
     "start_time": "2023-05-09T22:43:37.380912",
     "status": "completed"
    },
    "tags": [
     "parameters"
    ]
   },
   "outputs": [],
   "source": [
    "# Empty cell with \"parameters\" tag, papermill-provided parameters will be inserted below.\n",
    "\n",
    "cluster_scheduler_address = None"
   ]
  },
  {
   "cell_type": "code",
   "execution_count": 2,
   "id": "a85f553c",
   "metadata": {
    "execution": {
     "iopub.execute_input": "2023-05-09T22:43:37.394185Z",
     "iopub.status.busy": "2023-05-09T22:43:37.394036Z",
     "iopub.status.idle": "2023-05-09T22:43:37.399727Z",
     "shell.execute_reply": "2023-05-09T22:43:37.399389Z"
    },
    "papermill": {
     "duration": 0.008794,
     "end_time": "2023-05-09T22:43:37.400872",
     "exception": false,
     "start_time": "2023-05-09T22:43:37.392078",
     "status": "completed"
    },
    "tags": [
     "injected-parameters"
    ]
   },
   "outputs": [],
   "source": [
    "# Parameters\n",
    "casename = \"placeholder-title\"\n",
    "param_1 = {\"key1\": \"dict_entry1\", \"key2\": \"dict_entry2\"}\n",
    "param_2 = 12345\n",
    "cluster_scheduler_address = \"tcp://10.12.206.48:35380\"\n",
    "subset_kwargs = {}\n"
   ]
  },
  {
   "cell_type": "markdown",
   "id": "1a20bec9-04c2-4ff8-be17-8fed0f5e6921",
   "metadata": {
    "papermill": {
     "duration": 0.000908,
     "end_time": "2023-05-09T22:43:37.402923",
     "exception": false,
     "start_time": "2023-05-09T22:43:37.402015",
     "status": "completed"
    },
    "tags": []
   },
   "source": [
    "## Connecting to cluster"
   ]
  },
  {
   "cell_type": "code",
   "execution_count": 3,
   "id": "2ae5dc22-7afc-4862-8227-8cdabdf6667f",
   "metadata": {
    "execution": {
     "iopub.execute_input": "2023-05-09T22:43:37.405539Z",
     "iopub.status.busy": "2023-05-09T22:43:37.405396Z",
     "iopub.status.idle": "2023-05-09T22:43:38.006536Z",
     "shell.execute_reply": "2023-05-09T22:43:38.006087Z"
    },
    "papermill": {
     "duration": 0.604024,
     "end_time": "2023-05-09T22:43:38.007875",
     "exception": false,
     "start_time": "2023-05-09T22:43:37.403851",
     "status": "completed"
    },
    "tags": []
   },
   "outputs": [
    {
     "name": "stderr",
     "output_type": "stream",
     "text": [
      "/glade/work/eromashkova/miniconda3/envs/diag-sandbox/lib/python3.9/site-packages/distributed/client.py:1361: VersionMismatchWarning: Mismatched versions found\n",
      "\n",
      "+-------------+----------------+----------------+----------------+\n",
      "| Package     | Client         | Scheduler      | Workers        |\n",
      "+-------------+----------------+----------------+----------------+\n",
      "| dask        | 2022.11.0      | 2022.9.2       | 2022.9.2       |\n",
      "| distributed | 2022.11.0      | 2022.9.2       | 2022.9.2       |\n",
      "| lz4         | 4.0.2          | None           | None           |\n",
      "| numpy       | 1.23.4         | 1.23.3         | 1.23.3         |\n",
      "| pandas      | 1.5.1          | 1.5.0          | 1.5.0          |\n",
      "| python      | 3.9.13.final.0 | 3.9.12.final.0 | 3.9.12.final.0 |\n",
      "+-------------+----------------+----------------+----------------+\n",
      "  warnings.warn(version_module.VersionMismatchWarning(msg[0][\"warning\"]))\n"
     ]
    }
   ],
   "source": [
    "from dask.distributed import Client\n",
    "import dask\n",
    "\n",
    "if cluster_scheduler_address is None:\n",
    "    pass\n",
    "else:\n",
    "    dask.config.set({'distributed.comm.timeouts.connect': '180s'})\n",
    "\n",
    "    client = Client(cluster_scheduler_address)\n",
    "    \n",
    "    client"
   ]
  }
 ],
 "metadata": {
  "kernelspec": {
   "display_name": "Python 3 (ipykernel)",
   "language": "python",
   "name": "python3"
  },
  "language_info": {
   "codemirror_mode": {
    "name": "ipython",
    "version": 3
   },
   "file_extension": ".py",
   "mimetype": "text/x-python",
   "name": "python",
   "nbconvert_exporter": "python",
   "pygments_lexer": "ipython3",
   "version": "3.9.12"
  },
  "papermill": {
   "default_parameters": {},
   "duration": 1.815096,
   "end_time": "2023-05-09T22:43:38.331128",
   "environment_variables": {},
   "exception": null,
   "input_path": "/glade/u/home/eromashkova/codes/nbscuid-examples/tutorial/nblibrary/another_params_nb.ipynb",
   "output_path": "/glade/u/home/eromashkova/codes/nbscuid-examples/tutorial/computed_notebooks/placeholder-title/another_params_nb.ipynb",
   "parameters": {
    "casename": "placeholder-title",
    "cluster_scheduler_address": "tcp://10.12.206.48:35380",
    "param_1": {
     "key1": "dict_entry1",
     "key2": "dict_entry2"
    },
    "param_2": 12345,
    "subset_kwargs": {}
   },
   "start_time": "2023-05-09T22:43:36.516032",
   "version": "2.4.0"
  }
 },
 "nbformat": 4,
 "nbformat_minor": 5
}
