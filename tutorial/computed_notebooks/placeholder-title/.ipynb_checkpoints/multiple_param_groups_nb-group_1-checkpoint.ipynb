{
 "cells": [
  {
   "cell_type": "code",
   "execution_count": 1,
   "id": "277790f5-6e92-498c-b4ce-d91d147d5405",
   "metadata": {
    "execution": {
     "iopub.execute_input": "2023-05-09T22:43:39.201602Z",
     "iopub.status.busy": "2023-05-09T22:43:39.201380Z",
     "iopub.status.idle": "2023-05-09T22:43:39.208435Z",
     "shell.execute_reply": "2023-05-09T22:43:39.207899Z"
    },
    "papermill": {
     "duration": 0.010563,
     "end_time": "2023-05-09T22:43:39.209611",
     "exception": false,
     "start_time": "2023-05-09T22:43:39.199048",
     "status": "completed"
    },
    "tags": [
     "parameters"
    ]
   },
   "outputs": [],
   "source": [
    "# Empty cell with \"parameters\" tag, papermill-provided parameters will be inserted below.\n",
    "\n",
    "cluster_scheduler_address = None"
   ]
  },
  {
   "cell_type": "code",
   "execution_count": 2,
   "id": "55b15235",
   "metadata": {
    "execution": {
     "iopub.execute_input": "2023-05-09T22:43:39.212940Z",
     "iopub.status.busy": "2023-05-09T22:43:39.212775Z",
     "iopub.status.idle": "2023-05-09T22:43:39.218206Z",
     "shell.execute_reply": "2023-05-09T22:43:39.217832Z"
    },
    "papermill": {
     "duration": 0.008557,
     "end_time": "2023-05-09T22:43:39.219380",
     "exception": false,
     "start_time": "2023-05-09T22:43:39.210823",
     "status": "completed"
    },
    "tags": [
     "injected-parameters"
    ]
   },
   "outputs": [],
   "source": [
    "# Parameters\n",
    "casename = \"placeholder-title\"\n",
    "param_1 = \"some_string\"\n",
    "param_2 = {\"key1\": \"dict_entry1\", \"key2\": \"dict_entry2\"}\n",
    "cluster_scheduler_address = \"tcp://10.12.206.48:35380\"\n",
    "subset_kwargs = {}\n"
   ]
  },
  {
   "cell_type": "markdown",
   "id": "1a20bec9-04c2-4ff8-be17-8fed0f5e6921",
   "metadata": {
    "papermill": {
     "duration": 0.001051,
     "end_time": "2023-05-09T22:43:39.221449",
     "exception": false,
     "start_time": "2023-05-09T22:43:39.220398",
     "status": "completed"
    },
    "tags": []
   },
   "source": [
    "## Connecting to cluster"
   ]
  },
  {
   "cell_type": "code",
   "execution_count": 3,
   "id": "2ae5dc22-7afc-4862-8227-8cdabdf6667f",
   "metadata": {
    "execution": {
     "iopub.execute_input": "2023-05-09T22:43:39.224242Z",
     "iopub.status.busy": "2023-05-09T22:43:39.224097Z",
     "iopub.status.idle": "2023-05-09T22:43:39.821719Z",
     "shell.execute_reply": "2023-05-09T22:43:39.821153Z"
    },
    "papermill": {
     "duration": 0.600962,
     "end_time": "2023-05-09T22:43:39.823395",
     "exception": false,
     "start_time": "2023-05-09T22:43:39.222433",
     "status": "completed"
    },
    "tags": []
   },
   "outputs": [
    {
     "name": "stderr",
     "output_type": "stream",
     "text": [
      "/glade/work/eromashkova/miniconda3/envs/diag-sandbox/lib/python3.9/site-packages/distributed/client.py:1361: VersionMismatchWarning: Mismatched versions found\n",
      "\n",
      "+-------------+----------------+----------------+----------------+\n",
      "| Package     | Client         | Scheduler      | Workers        |\n",
      "+-------------+----------------+----------------+----------------+\n",
      "| dask        | 2022.11.0      | 2022.9.2       | 2022.9.2       |\n",
      "| distributed | 2022.11.0      | 2022.9.2       | 2022.9.2       |\n",
      "| lz4         | 4.0.2          | None           | None           |\n",
      "| numpy       | 1.23.4         | 1.23.3         | 1.23.3         |\n",
      "| pandas      | 1.5.1          | 1.5.0          | 1.5.0          |\n",
      "| python      | 3.9.13.final.0 | 3.9.12.final.0 | 3.9.12.final.0 |\n",
      "+-------------+----------------+----------------+----------------+\n",
      "  warnings.warn(version_module.VersionMismatchWarning(msg[0][\"warning\"]))\n"
     ]
    }
   ],
   "source": [
    "from dask.distributed import Client\n",
    "import dask\n",
    "\n",
    "if cluster_scheduler_address is None:\n",
    "    pass\n",
    "else:\n",
    "    dask.config.set({'distributed.comm.timeouts.connect': '180s'})\n",
    "\n",
    "    client = Client(cluster_scheduler_address)\n",
    "    \n",
    "    client"
   ]
  }
 ],
 "metadata": {
  "kernelspec": {
   "display_name": "Python 3 (ipykernel)",
   "language": "python",
   "name": "python3"
  },
  "language_info": {
   "codemirror_mode": {
    "name": "ipython",
    "version": 3
   },
   "file_extension": ".py",
   "mimetype": "text/x-python",
   "name": "python",
   "nbconvert_exporter": "python",
   "pygments_lexer": "ipython3",
   "version": "3.9.13"
  },
  "papermill": {
   "default_parameters": {},
   "duration": 1.811004,
   "end_time": "2023-05-09T22:43:40.148132",
   "environment_variables": {},
   "exception": null,
   "input_path": "/glade/u/home/eromashkova/codes/nbscuid-examples/tutorial/nblibrary/multiple_param_groups_nb.ipynb",
   "output_path": "/glade/u/home/eromashkova/codes/nbscuid-examples/tutorial/computed_notebooks/placeholder-title/multiple_param_groups_nb-group_1.ipynb",
   "parameters": {
    "casename": "placeholder-title",
    "cluster_scheduler_address": "tcp://10.12.206.48:35380",
    "param_1": "some_string",
    "param_2": {
     "key1": "dict_entry1",
     "key2": "dict_entry2"
    },
    "subset_kwargs": {}
   },
   "start_time": "2023-05-09T22:43:38.337128",
   "version": "2.4.0"
  }
 },
 "nbformat": 4,
 "nbformat_minor": 5
}