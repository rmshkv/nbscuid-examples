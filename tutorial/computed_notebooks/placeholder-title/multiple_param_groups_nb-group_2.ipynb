{
 "cells": [
  {
   "cell_type": "markdown",
   "id": "a35bcac0-8347-4d02-a45e-2841eb93ca29",
   "metadata": {
    "papermill": {
     "duration": 0.001548,
     "end_time": "2023-05-15T16:57:25.943576",
     "exception": false,
     "start_time": "2023-05-15T16:57:25.942028",
     "status": "completed"
    },
    "tags": []
   },
   "source": [
    "# Example Notebook 4"
   ]
  },
  {
   "cell_type": "code",
   "execution_count": 1,
   "id": "277790f5-6e92-498c-b4ce-d91d147d5405",
   "metadata": {
    "execution": {
     "iopub.execute_input": "2023-05-15T16:57:25.947632Z",
     "iopub.status.busy": "2023-05-15T16:57:25.947397Z",
     "iopub.status.idle": "2023-05-15T16:57:25.954215Z",
     "shell.execute_reply": "2023-05-15T16:57:25.953847Z"
    },
    "papermill": {
     "duration": 0.010421,
     "end_time": "2023-05-15T16:57:25.955478",
     "exception": false,
     "start_time": "2023-05-15T16:57:25.945057",
     "status": "completed"
    },
    "tags": [
     "parameters"
    ]
   },
   "outputs": [],
   "source": [
    "# Empty cell with \"parameters\" tag, papermill-provided parameters will be inserted below.\n",
    "\n",
    "cluster_scheduler_address = None"
   ]
  },
  {
   "cell_type": "code",
   "execution_count": 2,
   "id": "f23c7b46",
   "metadata": {
    "execution": {
     "iopub.execute_input": "2023-05-15T16:57:25.959200Z",
     "iopub.status.busy": "2023-05-15T16:57:25.959046Z",
     "iopub.status.idle": "2023-05-15T16:57:25.965462Z",
     "shell.execute_reply": "2023-05-15T16:57:25.964731Z"
    },
    "papermill": {
     "duration": 0.009604,
     "end_time": "2023-05-15T16:57:25.966654",
     "exception": false,
     "start_time": "2023-05-15T16:57:25.957050",
     "status": "completed"
    },
    "tags": [
     "injected-parameters"
    ]
   },
   "outputs": [],
   "source": [
    "# Parameters\n",
    "casename = \"placeholder-title\"\n",
    "nb_number = 4\n",
    "param_1 = \"some_different_string\"\n",
    "param_2 = {\"key1\": \"dict_entry3\", \"key2\": \"dict_entry4\"}\n",
    "cluster_scheduler_address = \"tcp://10.12.206.48:41652\"\n",
    "subset_kwargs = {}\n"
   ]
  },
  {
   "cell_type": "markdown",
   "id": "1a20bec9-04c2-4ff8-be17-8fed0f5e6921",
   "metadata": {
    "papermill": {
     "duration": 0.001327,
     "end_time": "2023-05-15T16:57:25.970014",
     "exception": false,
     "start_time": "2023-05-15T16:57:25.968687",
     "status": "completed"
    },
    "tags": []
   },
   "source": [
    "## Connecting to cluster"
   ]
  },
  {
   "cell_type": "code",
   "execution_count": 3,
   "id": "2ae5dc22-7afc-4862-8227-8cdabdf6667f",
   "metadata": {
    "execution": {
     "iopub.execute_input": "2023-05-15T16:57:25.973570Z",
     "iopub.status.busy": "2023-05-15T16:57:25.973418Z",
     "iopub.status.idle": "2023-05-15T16:57:26.549330Z",
     "shell.execute_reply": "2023-05-15T16:57:26.548881Z"
    },
    "papermill": {
     "duration": 0.579273,
     "end_time": "2023-05-15T16:57:26.550723",
     "exception": false,
     "start_time": "2023-05-15T16:57:25.971450",
     "status": "completed"
    },
    "tags": []
   },
   "outputs": [
    {
     "name": "stderr",
     "output_type": "stream",
     "text": [
      "/glade/work/eromashkova/miniconda3/envs/diag-sandbox/lib/python3.9/site-packages/distributed/client.py:1361: VersionMismatchWarning: Mismatched versions found\n",
      "\n",
      "+-------------+----------------+----------------+----------------+\n",
      "| Package     | Client         | Scheduler      | Workers        |\n",
      "+-------------+----------------+----------------+----------------+\n",
      "| dask        | 2022.11.0      | 2022.9.2       | 2022.9.2       |\n",
      "| distributed | 2022.11.0      | 2022.9.2       | 2022.9.2       |\n",
      "| lz4         | 4.0.2          | None           | None           |\n",
      "| numpy       | 1.23.4         | 1.23.3         | 1.23.3         |\n",
      "| pandas      | 1.5.1          | 1.5.0          | 1.5.0          |\n",
      "| python      | 3.9.13.final.0 | 3.9.12.final.0 | 3.9.12.final.0 |\n",
      "+-------------+----------------+----------------+----------------+\n",
      "  warnings.warn(version_module.VersionMismatchWarning(msg[0][\"warning\"]))\n"
     ]
    }
   ],
   "source": [
    "from dask.distributed import Client\n",
    "import dask\n",
    "\n",
    "if cluster_scheduler_address is None:\n",
    "    pass\n",
    "else:\n",
    "    dask.config.set({'distributed.comm.timeouts.connect': '180s'})\n",
    "\n",
    "    client = Client(cluster_scheduler_address)\n",
    "    \n",
    "    client"
   ]
  },
  {
   "cell_type": "markdown",
   "id": "08a98c55-29c0-4783-bfb2-7124630fde56",
   "metadata": {
    "papermill": {
     "duration": 0.001637,
     "end_time": "2023-05-15T16:57:26.554117",
     "exception": false,
     "start_time": "2023-05-15T16:57:26.552480",
     "status": "completed"
    },
    "tags": []
   },
   "source": [
    "### These notebooks have the same content but different parameters"
   ]
  }
 ],
 "metadata": {
  "kernelspec": {
   "display_name": "Python 3 (ipykernel)",
   "language": "python",
   "name": "python3"
  },
  "language_info": {
   "codemirror_mode": {
    "name": "ipython",
    "version": 3
   },
   "file_extension": ".py",
   "mimetype": "text/x-python",
   "name": "python",
   "nbconvert_exporter": "python",
   "pygments_lexer": "ipython3",
   "version": "3.9.13"
  },
  "papermill": {
   "default_parameters": {},
   "duration": 1.80743,
   "end_time": "2023-05-15T16:57:26.897568",
   "environment_variables": {},
   "exception": null,
   "input_path": "/glade/u/home/eromashkova/codes/nbscuid-examples/tutorial/nblibrary/multiple_param_groups_nb.ipynb",
   "output_path": "/glade/u/home/eromashkova/codes/nbscuid-examples/tutorial/computed_notebooks/placeholder-title/multiple_param_groups_nb-group_2.ipynb",
   "parameters": {
    "casename": "placeholder-title",
    "cluster_scheduler_address": "tcp://10.12.206.48:41652",
    "nb_number": 4,
    "param_1": "some_different_string",
    "param_2": {
     "key1": "dict_entry3",
     "key2": "dict_entry4"
    },
    "subset_kwargs": {}
   },
   "start_time": "2023-05-15T16:57:25.090138",
   "version": "2.4.0"
  }
 },
 "nbformat": 4,
 "nbformat_minor": 5
}