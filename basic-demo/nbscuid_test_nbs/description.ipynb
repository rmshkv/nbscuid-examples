{
 "cells": [
  {
   "cell_type": "markdown",
   "id": "132235c8-0790-49e4-bf44-d0fc4ace4e26",
   "metadata": {
    "tags": []
   },
   "source": [
    "# nbscuid demo \n",
    "\n",
    "This is a minimum working example showing how to construct a [Jupyter Book](https://jupyterbook.org/en/stable/intro.html) from a collection of notebooks analyzing a [CESM](https://www.cesm.ucar.edu) integration.\n",
    "\n",
    "\n",
    "This tool makes use of [papermill](https://papermill.readthedocs.io/en/latest/index.html) which enables parameterizing and executing notebooks.\n",
    "\n",
    "This book has been run on the following case(s):\n",
    "- {{casename}}\n",
    "\n",
    "Note that this notebook spins up a [dask](https://docs.dask.org/) cluster and connects each notebook called in the calculation to it by passing in the address of the scheduler."
   ]
  },
  {
   "cell_type": "code",
   "execution_count": null,
   "id": "8212dc6e-ac40-40be-a887-eaf2c83cea20",
   "metadata": {},
   "outputs": [],
   "source": []
  }
 ],
 "metadata": {
  "kernelspec": {
   "display_name": "Python [conda env:miniconda3-_unison]",
   "language": "python",
   "name": "conda-env-miniconda3-_unison-py"
  },
  "language_info": {
   "codemirror_mode": {
    "name": "ipython",
    "version": 3
   },
   "file_extension": ".py",
   "mimetype": "text/x-python",
   "name": "python",
   "nbconvert_exporter": "python",
   "pygments_lexer": "ipython3",
   "version": "3.7.12"
  }
 },
 "nbformat": 4,
 "nbformat_minor": 5
}
