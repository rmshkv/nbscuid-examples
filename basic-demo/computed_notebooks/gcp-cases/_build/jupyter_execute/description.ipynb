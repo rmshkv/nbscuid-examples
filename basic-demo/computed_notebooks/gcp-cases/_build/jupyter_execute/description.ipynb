{
 "cells": [
  {
   "cell_type": "markdown",
   "id": "132235c8-0790-49e4-bf44-d0fc4ace4e26",
   "metadata": {
    "papermill": {
     "duration": 0.001213,
     "end_time": "2023-04-13T05:05:08.193935",
     "exception": false,
     "start_time": "2023-04-13T05:05:08.192722",
     "status": "completed"
    },
    "tags": []
   },
   "source": [
    "# nbscuid demo \n",
    "\n",
    "This is a minimum working example showing how to construct a [Jupyter Book](https://jupyterbook.org/en/stable/intro.html) from a collection of notebooks analyzing a [CESM](https://www.cesm.ucar.edu) integration.\n",
    "\n",
    "\n",
    "This tool makes use of [papermill](https://papermill.readthedocs.io/en/latest/index.html) which enables parameterizing and executing notebooks.\n",
    "\n",
    "This book has been run on the following case(s):\n",
    "- gcp-cases\n",
    "\n",
    "Note that this notebook spins up a [dask](https://docs.dask.org/) cluster and connects each notebook called in the calculation to it by passing in the address of the scheduler."
   ]
  },
  {
   "cell_type": "code",
   "execution_count": null,
   "id": "8212dc6e-ac40-40be-a887-eaf2c83cea20",
   "metadata": {
    "papermill": {
     "duration": 0.00099,
     "end_time": "2023-04-13T05:05:08.197045",
     "exception": false,
     "start_time": "2023-04-13T05:05:08.196055",
     "status": "completed"
    },
    "tags": []
   },
   "outputs": [],
   "source": []
  }
 ],
 "metadata": {
  "kernelspec": {
   "display_name": "Python [conda env:miniconda3-_unison]",
   "language": "python",
   "name": "conda-env-miniconda3-_unison-py"
  },
  "language_info": {
   "codemirror_mode": {
    "name": "ipython",
    "version": 3
   },
   "file_extension": ".py",
   "mimetype": "text/x-python",
   "name": "python",
   "nbconvert_exporter": "python",
   "pygments_lexer": "ipython3",
   "version": "3.9.13"
  },
  "papermill": {
   "default_parameters": {},
   "duration": 1.245133,
   "end_time": "2023-04-13T05:05:08.422590",
   "environment_variables": {},
   "exception": null,
   "input_path": "/glade/u/home/eromashkova/codes/nbscuid-examples/basic-demo/nbscuid_test_nbs/description.ipynb",
   "output_path": "/glade/u/home/eromashkova/codes/nbscuid-examples/basic-demo/computed_notebooks/gcp-cases/description.ipynb",
   "parameters": {},
   "start_time": "2023-04-13T05:05:07.177457",
   "version": "2.3.4"
  }
 },
 "nbformat": 4,
 "nbformat_minor": 5
}