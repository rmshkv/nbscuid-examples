{
 "cells": [
  {
   "cell_type": "markdown",
   "id": "d571bd30-3836-4141-8c2b-badba127fac6",
   "metadata": {
    "papermill": {
     "duration": 0.002225,
     "end_time": "2023-04-26T18:59:18.188262",
     "exception": false,
     "start_time": "2023-04-26T18:59:18.186037",
     "status": "completed"
    },
    "tags": []
   },
   "source": [
    "# Sea Surface Height"
   ]
  },
  {
   "cell_type": "code",
   "execution_count": 1,
   "id": "249c3332-b0ea-4c9e-ad85-609ef384db5f",
   "metadata": {
    "execution": {
     "iopub.execute_input": "2023-04-26T18:59:18.194448Z",
     "iopub.status.busy": "2023-04-26T18:59:18.194199Z",
     "iopub.status.idle": "2023-04-26T18:59:37.892044Z",
     "shell.execute_reply": "2023-04-26T18:59:37.891463Z"
    },
    "papermill": {
     "duration": 19.703099,
     "end_time": "2023-04-26T18:59:37.894412",
     "exception": false,
     "start_time": "2023-04-26T18:59:18.191313",
     "status": "completed"
    },
    "tags": []
   },
   "outputs": [],
   "source": [
    "%load_ext autoreload\n",
    "%autoreload 2\n",
    "\n",
    "import os\n",
    "import numpy as np\n",
    "import xarray as xr\n",
    "import pandas as pd\n",
    "from glob import glob\n",
    "import intake\n",
    "import dask\n",
    "from dask.distributed import Client\n",
    "import matplotlib.pyplot as plt\n",
    "import matplotlib.colors as colors\n",
    "\n",
    "import cartopy\n",
    "import cartopy.crs as ccrs\n",
    "\n",
    "import nbscuid.util\n"
   ]
  },
  {
   "cell_type": "markdown",
   "id": "b82a6f4a-5878-4cbb-ab96-03955ec04324",
   "metadata": {
    "papermill": {
     "duration": 0.001984,
     "end_time": "2023-04-26T18:59:37.899623",
     "exception": false,
     "start_time": "2023-04-26T18:59:37.897639",
     "status": "completed"
    },
    "tags": []
   },
   "source": [
    "## Reading in parameters"
   ]
  },
  {
   "cell_type": "code",
   "execution_count": 2,
   "id": "5b817bed-87d1-4bee-8ca8-eb0210707c47",
   "metadata": {
    "execution": {
     "iopub.execute_input": "2023-04-26T18:59:37.904535Z",
     "iopub.status.busy": "2023-04-26T18:59:37.904113Z",
     "iopub.status.idle": "2023-04-26T18:59:37.942396Z",
     "shell.execute_reply": "2023-04-26T18:59:37.941998Z"
    },
    "papermill": {
     "duration": 0.042613,
     "end_time": "2023-04-26T18:59:37.943920",
     "exception": false,
     "start_time": "2023-04-26T18:59:37.901307",
     "status": "completed"
    },
    "tags": [
     "parameters"
    ]
   },
   "outputs": [],
   "source": [
    "### this cell will get parametrized\n",
    "\n",
    "path_to_cat = \"placeholder\"\n",
    "subset_kwargs = {}\n",
    "cluster_scheduler_address = None\n",
    "\n",
    "\n",
    "### this is here so it can be run alone\n",
    "#path_to_cat = \"temp_data/ssh_cat_subset.json\""
   ]
  },
  {
   "cell_type": "code",
   "execution_count": 3,
   "id": "9e66d15a",
   "metadata": {
    "execution": {
     "iopub.execute_input": "2023-04-26T18:59:37.948104Z",
     "iopub.status.busy": "2023-04-26T18:59:37.947919Z",
     "iopub.status.idle": "2023-04-26T18:59:37.984733Z",
     "shell.execute_reply": "2023-04-26T18:59:37.984313Z"
    },
    "papermill": {
     "duration": 0.040777,
     "end_time": "2023-04-26T18:59:37.986336",
     "exception": false,
     "start_time": "2023-04-26T18:59:37.945559",
     "status": "completed"
    },
    "tags": [
     "injected-parameters"
    ]
   },
   "outputs": [],
   "source": [
    "# Parameters\n",
    "casename = \"gcp-cases\"\n",
    "subset_kwargs = {\"frequency\": \"month_1\", \"component\": \"ocn\", \"variable\": \"SSH\"}\n",
    "path_to_cat = \"/glade/u/home/eromashkova/codes/nbscuid-examples/basic-demo/temp_data/gcp-cases_subset.json\"\n"
   ]
  },
  {
   "cell_type": "markdown",
   "id": "5f45478c-3f2e-480d-b766-a87bca9462e3",
   "metadata": {
    "papermill": {
     "duration": 0.001631,
     "end_time": "2023-04-26T18:59:37.989744",
     "exception": false,
     "start_time": "2023-04-26T18:59:37.988113",
     "status": "completed"
    },
    "tags": []
   },
   "source": [
    "## Connecting to cluster"
   ]
  },
  {
   "cell_type": "code",
   "execution_count": 4,
   "id": "5866bddc-6cb0-4006-8d3f-bd7afe095184",
   "metadata": {
    "execution": {
     "iopub.execute_input": "2023-04-26T18:59:37.993985Z",
     "iopub.status.busy": "2023-04-26T18:59:37.993795Z",
     "iopub.status.idle": "2023-04-26T18:59:41.366371Z",
     "shell.execute_reply": "2023-04-26T18:59:41.365901Z"
    },
    "papermill": {
     "duration": 3.376583,
     "end_time": "2023-04-26T18:59:41.367953",
     "exception": false,
     "start_time": "2023-04-26T18:59:37.991370",
     "status": "completed"
    },
    "tags": []
   },
   "outputs": [
    {
     "name": "stderr",
     "output_type": "stream",
     "text": [
      "/glade/work/eromashkova/miniconda3/envs/diag-sandbox/lib/python3.9/site-packages/distributed/node.py:183: UserWarning: Port 8787 is already in use.\n",
      "Perhaps you already have a cluster running?\n",
      "Hosting the HTTP server on port 33392 instead\n",
      "  warnings.warn(\n"
     ]
    },
    {
     "data": {
      "text/html": [
       "<div>\n",
       "    <div style=\"width: 24px; height: 24px; background-color: #e1e1e1; border: 3px solid #9D9D9D; border-radius: 5px; position: absolute;\"> </div>\n",
       "    <div style=\"margin-left: 48px;\">\n",
       "        <h3 style=\"margin-bottom: 0px;\">Client</h3>\n",
       "        <p style=\"color: #9D9D9D; margin-bottom: 0px;\">Client-7ff3cc22-e464-11ed-9574-3cecef1b11e8</p>\n",
       "        <table style=\"width: 100%; text-align: left;\">\n",
       "\n",
       "        <tr>\n",
       "        \n",
       "            <td style=\"text-align: left;\"><strong>Connection method:</strong> Cluster object</td>\n",
       "            <td style=\"text-align: left;\"><strong>Cluster type:</strong> dask_jobqueue.PBSCluster</td>\n",
       "        \n",
       "        </tr>\n",
       "\n",
       "        \n",
       "            <tr>\n",
       "                <td style=\"text-align: left;\">\n",
       "                    <strong>Dashboard: </strong> <a href=\"https://jupyterhub.hpc.ucar.edu/stable/user/eromashkova/proxy/33392/status\" target=\"_blank\">https://jupyterhub.hpc.ucar.edu/stable/user/eromashkova/proxy/33392/status</a>\n",
       "                </td>\n",
       "                <td style=\"text-align: left;\"></td>\n",
       "            </tr>\n",
       "        \n",
       "\n",
       "        </table>\n",
       "\n",
       "        \n",
       "\n",
       "        \n",
       "            <details>\n",
       "            <summary style=\"margin-bottom: 20px;\"><h3 style=\"display: inline;\">Cluster Info</h3></summary>\n",
       "            <div class=\"jp-RenderedHTMLCommon jp-RenderedHTML jp-mod-trusted jp-OutputArea-output\">\n",
       "    <div style=\"width: 24px; height: 24px; background-color: #e1e1e1; border: 3px solid #9D9D9D; border-radius: 5px; position: absolute;\">\n",
       "    </div>\n",
       "    <div style=\"margin-left: 48px;\">\n",
       "        <h3 style=\"margin-bottom: 0px; margin-top: 0px;\">PBSCluster</h3>\n",
       "        <p style=\"color: #9D9D9D; margin-bottom: 0px;\">d44082ed</p>\n",
       "        <table style=\"width: 100%; text-align: left;\">\n",
       "            <tr>\n",
       "                <td style=\"text-align: left;\">\n",
       "                    <strong>Dashboard:</strong> <a href=\"https://jupyterhub.hpc.ucar.edu/stable/user/eromashkova/proxy/33392/status\" target=\"_blank\">https://jupyterhub.hpc.ucar.edu/stable/user/eromashkova/proxy/33392/status</a>\n",
       "                </td>\n",
       "                <td style=\"text-align: left;\">\n",
       "                    <strong>Workers:</strong> 0\n",
       "                </td>\n",
       "            </tr>\n",
       "            <tr>\n",
       "                <td style=\"text-align: left;\">\n",
       "                    <strong>Total threads:</strong> 0\n",
       "                </td>\n",
       "                <td style=\"text-align: left;\">\n",
       "                    <strong>Total memory:</strong> 0 B\n",
       "                </td>\n",
       "            </tr>\n",
       "            \n",
       "        </table>\n",
       "\n",
       "        <details>\n",
       "            <summary style=\"margin-bottom: 20px;\">\n",
       "                <h3 style=\"display: inline;\">Scheduler Info</h3>\n",
       "            </summary>\n",
       "\n",
       "            <div style=\"\">\n",
       "    <div>\n",
       "        <div style=\"width: 24px; height: 24px; background-color: #FFF7E5; border: 3px solid #FF6132; border-radius: 5px; position: absolute;\"> </div>\n",
       "        <div style=\"margin-left: 48px;\">\n",
       "            <h3 style=\"margin-bottom: 0px;\">Scheduler</h3>\n",
       "            <p style=\"color: #9D9D9D; margin-bottom: 0px;\">Scheduler-3f3326dc-bcfe-439f-bde0-a9822415c5e5</p>\n",
       "            <table style=\"width: 100%; text-align: left;\">\n",
       "                <tr>\n",
       "                    <td style=\"text-align: left;\">\n",
       "                        <strong>Comm:</strong> tcp://10.18.206.49:38689\n",
       "                    </td>\n",
       "                    <td style=\"text-align: left;\">\n",
       "                        <strong>Workers:</strong> 0\n",
       "                    </td>\n",
       "                </tr>\n",
       "                <tr>\n",
       "                    <td style=\"text-align: left;\">\n",
       "                        <strong>Dashboard:</strong> <a href=\"https://jupyterhub.hpc.ucar.edu/stable/user/eromashkova/proxy/33392/status\" target=\"_blank\">https://jupyterhub.hpc.ucar.edu/stable/user/eromashkova/proxy/33392/status</a>\n",
       "                    </td>\n",
       "                    <td style=\"text-align: left;\">\n",
       "                        <strong>Total threads:</strong> 0\n",
       "                    </td>\n",
       "                </tr>\n",
       "                <tr>\n",
       "                    <td style=\"text-align: left;\">\n",
       "                        <strong>Started:</strong> Just now\n",
       "                    </td>\n",
       "                    <td style=\"text-align: left;\">\n",
       "                        <strong>Total memory:</strong> 0 B\n",
       "                    </td>\n",
       "                </tr>\n",
       "            </table>\n",
       "        </div>\n",
       "    </div>\n",
       "\n",
       "    <details style=\"margin-left: 48px;\">\n",
       "        <summary style=\"margin-bottom: 20px;\">\n",
       "            <h3 style=\"display: inline;\">Workers</h3>\n",
       "        </summary>\n",
       "\n",
       "        \n",
       "\n",
       "    </details>\n",
       "</div>\n",
       "\n",
       "        </details>\n",
       "    </div>\n",
       "</div>\n",
       "            </details>\n",
       "        \n",
       "\n",
       "    </div>\n",
       "</div>"
      ],
      "text/plain": [
       "<Client: 'tcp://10.18.206.49:38689' processes=0 threads=0, memory=0 B>"
      ]
     },
     "execution_count": 4,
     "metadata": {},
     "output_type": "execute_result"
    }
   ],
   "source": [
    "if cluster_scheduler_address is None:\n",
    "    cluster, client = nbscuid.util.get_ClusterClient()\n",
    "    cluster.scale(12)\n",
    "else:\n",
    "    client = Client(cluster_scheduler_address)\n",
    "client"
   ]
  },
  {
   "cell_type": "markdown",
   "id": "5e644098-d97f-4a1d-b0c8-7af8721b5ac5",
   "metadata": {
    "papermill": {
     "duration": 0.002193,
     "end_time": "2023-04-26T18:59:41.372747",
     "exception": false,
     "start_time": "2023-04-26T18:59:41.370554",
     "status": "completed"
    },
    "tags": []
   },
   "source": [
    "## Reading in data with subsetting"
   ]
  },
  {
   "cell_type": "code",
   "execution_count": null,
   "id": "f4d34faa-9f2d-4062-a94a-63dac4a07f8c",
   "metadata": {
    "papermill": {
     "duration": null,
     "end_time": null,
     "exception": false,
     "start_time": "2023-04-26T18:59:41.374732",
     "status": "running"
    },
    "tags": []
   },
   "outputs": [],
   "source": [
    "dset_dict = (intake.open_esm_datastore(path_to_cat).search(**subset_kwargs)).to_dataset_dict()"
   ]
  },
  {
   "cell_type": "markdown",
   "id": "3f16f50e-30ea-494d-89b5-f1af721d7a3b",
   "metadata": {
    "papermill": {
     "duration": null,
     "end_time": null,
     "exception": null,
     "start_time": null,
     "status": "pending"
    },
    "tags": []
   },
   "source": [
    "## Plotting data"
   ]
  },
  {
   "cell_type": "code",
   "execution_count": null,
   "id": "8a075bda-e8b0-4d06-99a2-ae232521de57",
   "metadata": {
    "papermill": {
     "duration": null,
     "end_time": null,
     "exception": null,
     "start_time": null,
     "status": "pending"
    },
    "tags": []
   },
   "outputs": [],
   "source": [
    "for i in dset_dict.keys():\n",
    "    ds = dset_dict[i].isel(time=0)\n",
    "    fig = plt.figure()\n",
    "    ds.SSH.plot()"
   ]
  }
 ],
 "metadata": {
  "kernelspec": {
   "display_name": "Python [conda env:miniconda3-diag-sandbox]",
   "language": "python",
   "name": "conda-env-miniconda3-diag-sandbox-py"
  },
  "language_info": {
   "codemirror_mode": {
    "name": "ipython",
    "version": 3
   },
   "file_extension": ".py",
   "mimetype": "text/x-python",
   "name": "python",
   "nbconvert_exporter": "python",
   "pygments_lexer": "ipython3",
   "version": "3.9.13"
  },
  "papermill": {
   "default_parameters": {},
   "duration": null,
   "end_time": null,
   "environment_variables": {},
   "exception": null,
   "input_path": "/glade/u/home/eromashkova/codes/nbscuid-examples/basic-demo/nbscuid_test_nbs/ssh.ipynb",
   "output_path": "/glade/u/home/eromashkova/codes/nbscuid-examples/basic-demo/computed_notebooks/gcp-cases/ssh.ipynb",
   "parameters": {
    "casename": "gcp-cases",
    "path_to_cat": "/glade/u/home/eromashkova/codes/nbscuid-examples/basic-demo/temp_data/gcp-cases_subset.json",
    "subset_kwargs": {
     "component": "ocn",
     "frequency": "month_1",
     "variable": "SSH"
    }
   },
   "start_time": "2023-04-26T18:59:17.142056",
   "version": "2.4.0"
  }
 },
 "nbformat": 4,
 "nbformat_minor": 5
}