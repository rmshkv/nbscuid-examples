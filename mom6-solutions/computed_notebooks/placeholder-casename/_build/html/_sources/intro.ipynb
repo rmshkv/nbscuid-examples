{
 "cells": [
  {
   "cell_type": "markdown",
   "id": "966269fd-78fa-4504-a2f2-f6f34d7ed98a",
   "metadata": {
    "papermill": {
     "duration": 0.001644,
     "end_time": "2023-04-08T01:55:41.992898",
     "exception": false,
     "start_time": "2023-04-08T01:55:41.991254",
     "status": "completed"
    },
    "tags": []
   },
   "source": [
    "# mom6-solutions testing\n",
    "placeholder text"
   ]
  }
 ],
 "metadata": {
  "kernelspec": {
   "display_name": "Python 3 (ipykernel)",
   "language": "python",
   "name": "python3"
  },
  "language_info": {
   "codemirror_mode": {
    "name": "ipython",
    "version": 3
   },
   "file_extension": ".py",
   "mimetype": "text/x-python",
   "name": "python",
   "nbconvert_exporter": "python",
   "pygments_lexer": "ipython3",
   "version": "3.10.6"
  },
  "papermill": {
   "default_parameters": {},
   "duration": 1.161233,
   "end_time": "2023-04-08T01:55:42.221663",
   "environment_variables": {},
   "exception": null,
   "input_path": "/glade/u/home/eromashkova/codes/nbscuid-examples/mom6-solutions/nblibrary/intro.ipynb",
   "output_path": "/glade/u/home/eromashkova/codes/nbscuid-examples/mom6-solutions/computed_notebooks/placeholder-casename/intro.ipynb",
   "parameters": {},
   "start_time": "2023-04-08T01:55:41.060430",
   "version": "2.3.4"
  }
 },
 "nbformat": 4,
 "nbformat_minor": 5
}