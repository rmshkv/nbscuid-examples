{
 "cells": [
  {
   "cell_type": "markdown",
   "id": "6d202715",
   "metadata": {
    "tags": [
     "papermill-error-cell-tag"
    ]
   },
   "source": [
    "<span style=\"color:red; font-family:Helvetica Neue, Helvetica, Arial, sans-serif; font-size:2em;\">An Exception was encountered at '<a href=\"#papermill-error-cell\">In [6]</a>'.</span>"
   ]
  },
  {
   "cell_type": "markdown",
   "id": "8a719748",
   "metadata": {
    "papermill": {
     "duration": 0.002423,
     "end_time": "2023-04-11T21:34:07.895841",
     "exception": false,
     "start_time": "2023-04-11T21:34:07.893418",
     "status": "completed"
    },
    "tags": []
   },
   "source": [
    "## Equatorial plots"
   ]
  },
  {
   "cell_type": "code",
   "execution_count": 1,
   "id": "8fe8ed9c",
   "metadata": {
    "execution": {
     "iopub.execute_input": "2023-04-11T21:34:07.901790Z",
     "iopub.status.busy": "2023-04-11T21:34:07.901523Z",
     "iopub.status.idle": "2023-04-11T21:34:08.283447Z",
     "shell.execute_reply": "2023-04-11T21:34:08.283017Z"
    },
    "papermill": {
     "duration": 0.386842,
     "end_time": "2023-04-11T21:34:08.285015",
     "exception": false,
     "start_time": "2023-04-11T21:34:07.898173",
     "status": "completed"
    },
    "tags": []
   },
   "outputs": [
    {
     "ename": "ModuleNotFoundError",
     "evalue": "No module named 'misc'",
     "output_type": "error",
     "traceback": [
      "\u001b[0;31m---------------------------------------------------------------------------\u001b[0m",
      "\u001b[0;31mModuleNotFoundError\u001b[0m                       Traceback (most recent call last)",
      "Input \u001b[0;32mIn [1]\u001b[0m, in \u001b[0;36m<cell line: 2>\u001b[0;34m()\u001b[0m\n\u001b[1;32m      1\u001b[0m \u001b[38;5;66;03m# comment above line to see details about the run(s) displayed\u001b[39;00m\n\u001b[0;32m----> 2\u001b[0m \u001b[38;5;28;01mfrom\u001b[39;00m \u001b[38;5;21;01mmisc\u001b[39;00m \u001b[38;5;28;01mimport\u001b[39;00m \u001b[38;5;241m*\u001b[39m\n\u001b[1;32m      3\u001b[0m \u001b[38;5;66;03m# import misc\u001b[39;00m\n\u001b[1;32m      4\u001b[0m \u001b[38;5;28;01mimport\u001b[39;00m \u001b[38;5;21;01mxarray\u001b[39;00m \u001b[38;5;28;01mas\u001b[39;00m \u001b[38;5;21;01mxr\u001b[39;00m\n",
      "\u001b[0;31mModuleNotFoundError\u001b[0m: No module named 'misc'"
     ]
    }
   ],
   "source": [
    "%%capture \n",
    "# comment above line to see details about the run(s) displayed\n",
    "from misc import *\n",
    "# import misc\n",
    "import xarray as xr\n",
    "%matplotlib inline"
   ]
  },
  {
   "cell_type": "code",
   "execution_count": 2,
   "id": "c715e12b",
   "metadata": {
    "execution": {
     "iopub.execute_input": "2023-04-11T21:34:08.292032Z",
     "iopub.status.busy": "2023-04-11T21:34:08.291838Z",
     "iopub.status.idle": "2023-04-11T21:34:08.299235Z",
     "shell.execute_reply": "2023-04-11T21:34:08.298844Z"
    },
    "papermill": {
     "duration": 0.012216,
     "end_time": "2023-04-11T21:34:08.300480",
     "exception": false,
     "start_time": "2023-04-11T21:34:08.288264",
     "status": "completed"
    },
    "tags": []
   },
   "outputs": [],
   "source": [
    "### Temporarily just pasting in all of misc\n",
    "\n",
    "# import xarray as xr\n",
    "# import numpy as np\n",
    "# from datetime import date\n",
    "# import matplotlib.pyplot as plt\n",
    "# import warnings, os, yaml\n",
    "# import matplotlib\n",
    "# import getpass\n",
    "# import netCDF4\n",
    "# # mom6_tools\n",
    "# from mom6_tools.DiagsCase import DiagsCase\n",
    "# from mom6_tools.MOM6grid import MOM6grid\n",
    "# from mom6_tools.m6toolbox import genBasinMasks\n",
    "# from mom6_tools.m6plot import xyplot, ztplot\n",
    "# from mom6_tools.poleward_heat_transport import heatTrans, plotHeatTrans, plotGandW\n",
    "\n",
    "# import pop_tools\n",
    "\n",
    "# matplotlib.rcParams.update({'font.size': 18})\n",
    "# warnings.filterwarnings(\"ignore\")\n",
    "\n",
    "# diag_config_yml = yaml.load(open('/glade/u/home/eromashkova/codes/nbscuid-examples/mom6-solutions/nblibrary/diag_config.yml','r'),\n",
    "#                             Loader=yaml.Loader)\n",
    "# # initialize lists\n",
    "# dcase = []; casename=[]\n",
    "# label = []; OUTDIR=[]\n",
    "# ocn_path = []\n",
    "# ncases = len(diag_config_yml.keys()) - 1\n",
    "# if ncases < 2:\n",
    "#   # Create the case instance\n",
    "#   dcase = DiagsCase(diag_config_yml['Case'], xrformat=True)\n",
    "#   casename.append(dcase.casename)\n",
    "#   label.append(diag_config_yml['Case']['SNAME'])\n",
    "#   ocn_path.append(diag_config_yml['Case']['OCN_DIAG_ROOT'])\n",
    "#   DOUT_S = dcase.get_value('DOUT_S')\n",
    "#   if DOUT_S:\n",
    "#     OUTDIR.append(dcase.get_value('DOUT_S_ROOT')+'/ocn/hist/')\n",
    "#   else:\n",
    "#     OUTDIR.append(dcase.get_value('RUNDIR')+'/')\n",
    "# else:\n",
    "#   for i in range(ncases):\n",
    "#     cname = 'Case{}'.format(i+1)\n",
    "#     dcase = DiagsCase(diag_config_yml[cname], xrformat=True)\n",
    "#     casename.append(dcase.casename)\n",
    "#     label.append(diag_config_yml[cname]['SNAME'])\n",
    "#     ocn_path.append(diag_config_yml[cname]['OCN_DIAG_ROOT'])\n",
    "#     DOUT_S = dcase.get_value('DOUT_S')\n",
    "#     if DOUT_S:\n",
    "#       OUTDIR.append(dcase.get_value('DOUT_S_ROOT')+'/ocn/hist/')\n",
    "#     else:\n",
    "#       OUTDIR.append(dcase.get_value('RUNDIR')+'/')\n",
    "\n",
    "# # set avg dates\n",
    "# avg = diag_config_yml['Avg']\n",
    "# start_date = avg['start_date']\n",
    "# end_date = avg['end_date']\n",
    "\n",
    "# print('Casename is {}'.format(casename))\n",
    "# print('─' * 60)\n",
    "# print('Averaged between {} and {}'.format(start_date, end_date))\n",
    "# print('─' * 60)\n",
    "# print('Output directory is:', OUTDIR)\n",
    "# print('─' * 60)\n",
    "# print('Generated by {}'.format(getpass.getuser()))\n",
    "# print('─' * 60)\n",
    "# print(\"Last update:\", date.today())\n",
    "\n",
    "# # load grid and pre-difined masks\n",
    "# grd = MOM6grid(OUTDIR[0]+casename[0]+'.mom6.static.nc');\n",
    "# grd_xr = MOM6grid(OUTDIR[0]+casename[0]+'.mom6.static.nc', xrformat=True);\n",
    "# depth = grd.depth_ocean\n",
    "# # remote Nan's, otherwise genBasinMasks won't work\n",
    "# depth[np.isnan(depth)] = 0.0\n",
    "# basin_code = genBasinMasks(grd.geolon, grd.geolat, depth, xda=True);\n",
    "\n",
    "# # pop grid\n",
    "# pop_grid = pop_tools.get_grid('POP_gx1v7')\n",
    "\n",
    "# def get_heat_transport_obs():\n",
    "#     \"\"\"Plots model vs obs poleward heat transport for the global, Pacific and Atlantic basins\"\"\"\n",
    "#     # Load Observations\n",
    "#     fObs = netCDF4.Dataset('/glade/work/gmarques/cesm/datasets/Trenberth_and_Caron_Heat_Transport.nc')\n",
    "#     #Trenberth and Caron\n",
    "#     yobs = fObs.variables['ylat'][:]\n",
    "#     NCEP = {}; NCEP['Global'] = fObs.variables['OTn']\n",
    "#     NCEP['Atlantic'] = fObs.variables['ATLn'][:]; NCEP['IndoPac'] = fObs.variables['INDPACn'][:]\n",
    "#     ECMWF = {}; ECMWF['Global'] = fObs.variables['OTe'][:]\n",
    "#     ECMWF['Atlantic'] = fObs.variables['ATLe'][:]; ECMWF['IndoPac'] = fObs.variables['INDPACe'][:]\n",
    "\n",
    "#     #G and W\n",
    "#     Global = {}\n",
    "#     Global['lat'] = np.array([-30., -19., 24., 47.])\n",
    "#     Global['trans'] = np.array([-0.6, -0.8, 1.8, 0.6])\n",
    "#     Global['err'] = np.array([0.3, 0.6, 0.3, 0.1])\n",
    "\n",
    "#     Atlantic = {}\n",
    "#     Atlantic['lat'] = np.array([-45., -30., -19., -11., -4.5, 7.5, 24., 47.])\n",
    "#     Atlantic['trans'] = np.array([0.66, 0.35, 0.77, 0.9, 1., 1.26, 1.27, 0.6])\n",
    "#     Atlantic['err'] = np.array([0.12, 0.15, 0.2, 0.4, 0.55, 0.31, 0.15, 0.09])\n",
    "\n",
    "#     IndoPac = {}\n",
    "#     IndoPac['lat'] = np.array([-30., -18., 24., 47.])\n",
    "#     IndoPac['trans'] = np.array([-0.9, -1.6, 0.52, 0.])\n",
    "#     IndoPac['err'] = np.array([0.3, 0.6, 0.2, 0.05,])\n",
    "\n",
    "#     GandW = {}\n",
    "#     GandW['Global'] = Global\n",
    "#     GandW['Atlantic'] = Atlantic\n",
    "#     GandW['IndoPac'] = IndoPac\n",
    "#     return NCEP, ECMWF, GandW, yobs\n",
    "\n",
    "# NCEP, ECMWF, GandW, yobs = get_heat_transport_obs()\n",
    "\n",
    "# def get_adv_diff(ds):\n",
    "#     # create a ndarray subclass\n",
    "#     class C(np.ndarray): pass\n",
    "\n",
    "#     varName = 'T_ady_2d'\n",
    "#     if varName in ds.variables:\n",
    "#         tmp = np.ma.masked_invalid(ds[varName].values)\n",
    "#         tmp = tmp[:].filled(0.)\n",
    "#         advective = tmp.view(C)\n",
    "#         advective.units = 'W'\n",
    "#     else:\n",
    "#         raise Exception('Could not find \"T_ady_2d\"')\n",
    "\n",
    "#     varName = 'T_diffy_2d'\n",
    "#     if varName in ds.variables:\n",
    "#         tmp = np.ma.masked_invalid(ds[varName].values)\n",
    "#         tmp = tmp[:].filled(0.)\n",
    "#         diffusive = tmp.view(C)\n",
    "#         diffusive.units = 'W'\n",
    "#     else:\n",
    "#         diffusive = None\n",
    "#         warnings.warn('Diffusive temperature term not found. This will result in an underestimation of the heat transport.')\n",
    "\n",
    "#     varName = 'T_lbd_diffy_2d'\n",
    "#     if varName in ds.variables:\n",
    "#         tmp = np.ma.masked_invalid(ds[varName].values)\n",
    "#         tmp = tmp[:].filled(0.)\n",
    "#         diffusive = diffusive + tmp.view(C)\n",
    "#     else:\n",
    "#         warnings.warn('Horizontal boundary mixing term not found. This will result in an underestimation of the heat transport.')\n",
    "\n",
    "#     return advective, diffusive\n",
    "\n",
    "# def plot_heat_trans(ds, label, linestyle='-'):\n",
    "#     adv, diff = get_adv_diff(ds)\n",
    "#     HT = heatTrans(adv,diff); y = ds.yq\n",
    "#     plt.plot(y, HT, linewidth=3, linestyle=linestyle, label=label)\n",
    "#     return\n",
    "\n",
    "# def heatTrans(advective, diffusive=None, hbd=None, vmask=None, units=\"W\"):\n",
    "#   \"\"\"Converts vertically integrated temperature advection/diffusion into heat transport\"\"\"\n",
    "#   HT = advective[:]\n",
    "#   if diffusive is not None:\n",
    "#     HT = HT + diffusive[:]\n",
    "#   if hbd is not None:\n",
    "#     HT = HT + hbd[:]\n",
    "#   if len(HT.shape) == 3:\n",
    "#     HT = HT.mean(axis=0)\n",
    "#   if units == \"Celsius meter3 second-1\":\n",
    "#     rho0 = 1.035e3\n",
    "#     Cp = 3992.\n",
    "#     HT = HT * (rho0 * Cp)\n",
    "#     HT = HT * 1.e-15  # convert to PW\n",
    "#   elif units == \"W\":\n",
    "#     HT = HT * 1.e-15\n",
    "#   else:\n",
    "#     print('Unknown units')\n",
    "#   if vmask is not None: HT = HT*vmask\n",
    "#   HT = HT.sum(axis=-1); HT = HT.squeeze() # sum in x-direction\n",
    "#   return HT\n",
    "\n",
    "# def pop_add_cyclic(ds):\n",
    "\n",
    "#     nj = ds.TLAT.shape[0]\n",
    "#     ni = ds.TLONG.shape[1]\n",
    "\n",
    "#     xL = int(ni/2 - 1)\n",
    "#     xR = int(xL + ni)\n",
    "\n",
    "#     tlon = ds.TLONG.data\n",
    "#     tlat = ds.TLAT.data\n",
    "\n",
    "#     tlon = np.where(np.greater_equal(tlon, min(tlon[:,0])), tlon-360., tlon)\n",
    "#     lon  = np.concatenate((tlon, tlon + 360.), 1)\n",
    "#     lon = lon[:, xL:xR]\n",
    "\n",
    "#     if ni == 320:\n",
    "#         lon[367:-3, 0] = lon[367:-3, 0] + 360.\n",
    "#     lon = lon - 360.\n",
    "\n",
    "#     lon = np.hstack((lon, lon[:, 0:1] + 360.))\n",
    "#     if ni == 320:\n",
    "#         lon[367:, -1] = lon[367:, -1] - 360.\n",
    "\n",
    "#     #-- trick cartopy into doing the right thing:\n",
    "#     #   it gets confused when the cyclic coords are identical\n",
    "#     lon[:, 0] = lon[:, 0] - 1e-8\n",
    "\n",
    "#     #-- periodicity\n",
    "#     lat = np.concatenate((tlat, tlat), 1)\n",
    "#     lat = lat[:, xL:xR]\n",
    "#     lat = np.hstack((lat, lat[:,0:1]))\n",
    "\n",
    "#     TLAT = xr.DataArray(lat, dims=('nlat', 'nlon'))\n",
    "#     TLONG = xr.DataArray(lon, dims=('nlat', 'nlon'))\n",
    "\n",
    "#     dso = xr.Dataset({'TLAT': TLAT, 'TLONG': TLONG})\n",
    "\n",
    "#     # copy vars\n",
    "#     varlist = [v for v in ds.data_vars if v not in ['TLAT', 'TLONG']]\n",
    "#     for v in varlist:\n",
    "#         v_dims = ds[v].dims\n",
    "#         if not ('nlat' in v_dims and 'nlon' in v_dims):\n",
    "#             dso[v] = ds[v]\n",
    "#         else:\n",
    "#             # determine and sort other dimensions\n",
    "#             other_dims = set(v_dims) - {'nlat', 'nlon'}\n",
    "#             other_dims = tuple([d for d in v_dims if d in other_dims])\n",
    "#             lon_dim = ds[v].dims.index('nlon')\n",
    "#             field = ds[v].data\n",
    "#             field = np.concatenate((field, field), lon_dim)\n",
    "#             field = field[..., :, xL:xR]\n",
    "#             field = np.concatenate((field, field[..., :, 0:1]), lon_dim)\n",
    "#             dso[v] = xr.DataArray(field, dims=other_dims+('nlat', 'nlon'),\n",
    "#                                   attrs=ds[v].attrs)\n",
    "\n",
    "\n",
    "#     # copy coords\n",
    "#     for v, da in ds.coords.items():\n",
    "#         if not ('nlat' in da.dims and 'nlon' in da.dims):\n",
    "#             dso = dso.assign_coords(**{v: da})\n",
    "\n",
    "\n",
    "#     return dso\n",
    "\n",
    "# pop_grid_o = pop_add_cyclic(pop_grid)\n",
    "\n",
    "\n"
   ]
  },
  {
   "cell_type": "code",
   "execution_count": 3,
   "id": "d9eb8d5f",
   "metadata": {
    "execution": {
     "iopub.execute_input": "2023-04-11T21:34:08.306055Z",
     "iopub.status.busy": "2023-04-11T21:34:08.305886Z",
     "iopub.status.idle": "2023-04-11T21:34:08.311181Z",
     "shell.execute_reply": "2023-04-11T21:34:08.310782Z"
    },
    "papermill": {
     "duration": 0.009575,
     "end_time": "2023-04-11T21:34:08.312388",
     "exception": false,
     "start_time": "2023-04-11T21:34:08.302813",
     "status": "completed"
    },
    "tags": [
     "parameters"
    ]
   },
   "outputs": [],
   "source": [
    "# empty parametrizable cell \n",
    "\n",
    "cluster_scheduler_address = None"
   ]
  },
  {
   "cell_type": "code",
   "execution_count": 4,
   "id": "5c1a3c78",
   "metadata": {
    "execution": {
     "iopub.execute_input": "2023-04-11T21:34:08.317766Z",
     "iopub.status.busy": "2023-04-11T21:34:08.317600Z",
     "iopub.status.idle": "2023-04-11T21:34:08.322244Z",
     "shell.execute_reply": "2023-04-11T21:34:08.321874Z"
    },
    "papermill": {
     "duration": 0.008628,
     "end_time": "2023-04-11T21:34:08.323405",
     "exception": false,
     "start_time": "2023-04-11T21:34:08.314777",
     "status": "completed"
    },
    "tags": [
     "injected-parameters"
    ]
   },
   "outputs": [],
   "source": [
    "# Parameters\n",
    "not_casename = \"placeholder-casename\"\n",
    "cluster_scheduler_address = \"tcp://10.12.206.48:45536\"\n",
    "subset_kwargs = {}\n"
   ]
  },
  {
   "cell_type": "markdown",
   "id": "a8c3b48d",
   "metadata": {
    "papermill": {
     "duration": 0.002062,
     "end_time": "2023-04-11T21:34:08.327693",
     "exception": false,
     "start_time": "2023-04-11T21:34:08.325631",
     "status": "completed"
    },
    "tags": []
   },
   "source": [
    "## Connecting to cluster"
   ]
  },
  {
   "cell_type": "code",
   "execution_count": 5,
   "id": "bb1ca6ee",
   "metadata": {
    "execution": {
     "iopub.execute_input": "2023-04-11T21:34:08.332515Z",
     "iopub.status.busy": "2023-04-11T21:34:08.332360Z",
     "iopub.status.idle": "2023-04-11T21:34:09.466423Z",
     "shell.execute_reply": "2023-04-11T21:34:09.465885Z"
    },
    "papermill": {
     "duration": 1.139345,
     "end_time": "2023-04-11T21:34:09.469007",
     "exception": false,
     "start_time": "2023-04-11T21:34:08.329662",
     "status": "completed"
    },
    "tags": []
   },
   "outputs": [],
   "source": [
    "from dask.distributed import Client\n",
    "\n",
    "# if cluster_scheduler_address is None:\n",
    "#     cluster, client = nbscuid.util.get_ClusterClient()\n",
    "#     cluster.scale(12)\n",
    "# else:\n",
    "#     client = Client(cluster_scheduler_address)\n",
    "# client"
   ]
  },
  {
   "cell_type": "markdown",
   "id": "72daf24e",
   "metadata": {
    "tags": [
     "papermill-error-cell-tag"
    ]
   },
   "source": [
    "<span id=\"papermill-error-cell\" style=\"color:red; font-family:Helvetica Neue, Helvetica, Arial, sans-serif; font-size:2em;\">Execution using papermill encountered an exception here and stopped:</span>"
   ]
  },
  {
   "cell_type": "code",
   "execution_count": 6,
   "id": "3226337e",
   "metadata": {
    "execution": {
     "iopub.execute_input": "2023-04-11T21:34:09.476433Z",
     "iopub.status.busy": "2023-04-11T21:34:09.476126Z",
     "iopub.status.idle": "2023-04-11T21:34:09.495796Z",
     "shell.execute_reply": "2023-04-11T21:34:09.494430Z"
    },
    "papermill": {
     "duration": 0.024417,
     "end_time": "2023-04-11T21:34:09.496939",
     "exception": true,
     "start_time": "2023-04-11T21:34:09.472522",
     "status": "failed"
    },
    "tags": []
   },
   "outputs": [
    {
     "ename": "NameError",
     "evalue": "name 'xr' is not defined",
     "output_type": "error",
     "traceback": [
      "\u001b[0;31m---------------------------------------------------------------------------\u001b[0m",
      "\u001b[0;31mNameError\u001b[0m                                 Traceback (most recent call last)",
      "Input \u001b[0;32mIn [6]\u001b[0m, in \u001b[0;36m<cell line: 3>\u001b[0;34m()\u001b[0m\n\u001b[1;32m      1\u001b[0m \u001b[38;5;66;03m# load WOA18 data\u001b[39;00m\n\u001b[1;32m      2\u001b[0m obs_path \u001b[38;5;241m=\u001b[39m \u001b[38;5;124m'\u001b[39m\u001b[38;5;124m/glade/u/home/gmarques/Notebooks/CESM_MOM6/WOA18_remapping/\u001b[39m\u001b[38;5;124m'\u001b[39m\n\u001b[0;32m----> 3\u001b[0m obs_temp \u001b[38;5;241m=\u001b[39m \u001b[43mxr\u001b[49m\u001b[38;5;241m.\u001b[39mopen_dataset(obs_path\u001b[38;5;241m+\u001b[39m\u001b[38;5;124m'\u001b[39m\u001b[38;5;124mWOA18_TEMP_tx0.66v1_34lev_ann_avg.nc\u001b[39m\u001b[38;5;124m'\u001b[39m, decode_times\u001b[38;5;241m=\u001b[39m\u001b[38;5;28;01mFalse\u001b[39;00m)\n\u001b[1;32m      4\u001b[0m obs_salt \u001b[38;5;241m=\u001b[39m xr\u001b[38;5;241m.\u001b[39mopen_dataset(obs_path\u001b[38;5;241m+\u001b[39m\u001b[38;5;124m'\u001b[39m\u001b[38;5;124mWOA18_SALT_tx0.66v1_34lev_ann_avg.nc\u001b[39m\u001b[38;5;124m'\u001b[39m, decode_times\u001b[38;5;241m=\u001b[39m\u001b[38;5;28;01mFalse\u001b[39;00m)\n\u001b[1;32m      5\u001b[0m \u001b[38;5;66;03m# get theta and salt and rename coordinates to be the same as the model's\u001b[39;00m\n",
      "\u001b[0;31mNameError\u001b[0m: name 'xr' is not defined"
     ]
    }
   ],
   "source": [
    "# load WOA18 data\n",
    "obs_path = '/glade/u/home/gmarques/Notebooks/CESM_MOM6/WOA18_remapping/'\n",
    "obs_temp = xr.open_dataset(obs_path+'WOA18_TEMP_tx0.66v1_34lev_ann_avg.nc', decode_times=False)\n",
    "obs_salt = xr.open_dataset(obs_path+'WOA18_SALT_tx0.66v1_34lev_ann_avg.nc', decode_times=False)\n",
    "# get theta and salt and rename coordinates to be the same as the model's\n",
    "thetao_obs = obs_temp.theta0.rename({'z_l': 'zl'});\n",
    "salt_obs = obs_salt.s_an.rename({'z_l': 'zl'});\n",
    "salt_obs['yh'] = grd.yh\n",
    "thetao_obs['yh'] = grd.yh"
   ]
  },
  {
   "cell_type": "code",
   "execution_count": null,
   "id": "cd7c1c08",
   "metadata": {
    "papermill": {
     "duration": null,
     "end_time": null,
     "exception": null,
     "start_time": null,
     "status": "pending"
    },
    "tags": []
   },
   "outputs": [],
   "source": [
    "def plot_comparison(model, var, obs, vmin, vmax, diff, cname):\n",
    "  fig, ax = plt.subplots(nrows=3, ncols=1,\n",
    "                       sharex=True,sharey=True,\n",
    "                       figsize=(12,14))\n",
    "\n",
    "  ax1 = ax.flatten()\n",
    "\n",
    "  model[var].plot(ax=ax1[0], ylim=(500,0),\n",
    "                     y=\"zl\",vmin=vmin, vmax=vmax,\n",
    "                     yincrease=False);\n",
    "\n",
    "  obs.sel(yh=0., \n",
    "               method=\"nearest\").plot(ax=ax1[1], ylim=(500, 0),\n",
    "                                      y=\"zl\",vmin=vmin, vmax=vmax,\n",
    "                                      yincrease=False);\n",
    "\n",
    "  (model[var] - obs.sel(yh=0., \n",
    "               method=\"nearest\")).plot(ax=ax1[2], ylim=(500, 0),\n",
    "                                      y=\"zl\", cmap=\"bwr\", vmin=-diff, vmax=diff, \n",
    "                                      yincrease=False);\n",
    "\n",
    "  ax[0].set_title('Model, casename = {}'.format(cname)); ax[0].set_xlabel('')\n",
    "  ax[1].set_title('Obs (WOA18)'); ax[1].set_xlabel('')\n",
    "  ax[2].set_title('Model - Obs'); ax[2].set_xlabel('Longitude');\n",
    "    \n",
    "  print(\"yes this actually ran\")\n",
    "\n",
    "  return fig"
   ]
  },
  {
   "cell_type": "markdown",
   "id": "ad083854",
   "metadata": {
    "papermill": {
     "duration": null,
     "end_time": null,
     "exception": null,
     "start_time": null,
     "status": "pending"
    },
    "tags": []
   },
   "source": [
    "#### Potential temperature"
   ]
  },
  {
   "cell_type": "code",
   "execution_count": null,
   "id": "6f055df9",
   "metadata": {
    "papermill": {
     "duration": null,
     "end_time": null,
     "exception": null,
     "start_time": null,
     "status": "pending"
    },
    "tags": []
   },
   "outputs": [],
   "source": [
    "for path, case, i in zip(ocn_path, casename, range(len(casename))):\n",
    "  ds_temp = xr.open_dataset(ocn_path[i]+casename[i]+'_temp_eq.nc')\n",
    "  plot_comparison(ds_temp,'temp_eq',thetao_obs,10,30,5,label[i])"
   ]
  },
  {
   "cell_type": "markdown",
   "id": "8159eb99",
   "metadata": {
    "papermill": {
     "duration": null,
     "end_time": null,
     "exception": null,
     "start_time": null,
     "status": "pending"
    },
    "tags": []
   },
   "source": [
    "### Salinity"
   ]
  },
  {
   "cell_type": "code",
   "execution_count": null,
   "id": "600dc723",
   "metadata": {
    "papermill": {
     "duration": null,
     "end_time": null,
     "exception": null,
     "start_time": null,
     "status": "pending"
    },
    "tags": []
   },
   "outputs": [],
   "source": [
    "for path, case, i in zip(ocn_path, casename, range(len(casename))):\n",
    "  ds_salt = xr.open_dataset(ocn_path[i]+casename[i]+'_salt_eq.nc')\n",
    "  plot_comparison(ds_salt,'salt_eq',salt_obs,33,37,1,label[i])"
   ]
  }
 ],
 "metadata": {
  "kernelspec": {
   "display_name": "Python [conda env:miniconda3-mom6_solutions]",
   "language": "python",
   "name": "conda-env-miniconda3-mom6_solutions-py"
  },
  "language_info": {
   "codemirror_mode": {
    "name": "ipython",
    "version": 3
   },
   "file_extension": ".py",
   "mimetype": "text/x-python",
   "name": "python",
   "nbconvert_exporter": "python",
   "pygments_lexer": "ipython3",
   "version": "3.10.6"
  },
  "papermill": {
   "default_parameters": {},
   "duration": 2.891636,
   "end_time": "2023-04-11T21:34:09.825441",
   "environment_variables": {},
   "exception": true,
   "input_path": "/glade/u/home/eromashkova/codes/nbscuid-examples/mom6-solutions/nblibrary/equatorial.ipynb",
   "output_path": "/glade/u/home/eromashkova/codes/nbscuid-examples/mom6-solutions/computed_notebooks/placeholder-casename/equatorial.ipynb",
   "parameters": {
    "cluster_scheduler_address": "tcp://10.12.206.48:45536",
    "not_casename": "placeholder-casename",
    "subset_kwargs": {}
   },
   "start_time": "2023-04-11T21:34:06.933805",
   "version": "2.3.4"
  }
 },
 "nbformat": 4,
 "nbformat_minor": 5
}