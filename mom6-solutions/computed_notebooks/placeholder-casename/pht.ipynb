{
 "cells": [
  {
   "cell_type": "markdown",
   "id": "fe2463bb",
   "metadata": {
    "tags": [
     "papermill-error-cell-tag"
    ]
   },
   "source": [
    "<span style=\"color:red; font-family:Helvetica Neue, Helvetica, Arial, sans-serif; font-size:2em;\">An Exception was encountered at '<a href=\"#papermill-error-cell\">In [6]</a>'.</span>"
   ]
  },
  {
   "cell_type": "markdown",
   "id": "96c4fedd",
   "metadata": {
    "papermill": {
     "duration": 0.003179,
     "end_time": "2023-04-12T21:41:32.627017",
     "exception": false,
     "start_time": "2023-04-12T21:41:32.623838",
     "status": "completed"
    },
    "tags": []
   },
   "source": [
    "## Poleward Heat Transport"
   ]
  },
  {
   "cell_type": "code",
   "execution_count": 1,
   "id": "2c328087",
   "metadata": {
    "execution": {
     "iopub.execute_input": "2023-04-12T21:41:32.632969Z",
     "iopub.status.busy": "2023-04-12T21:41:32.632690Z",
     "iopub.status.idle": "2023-04-12T21:41:39.411425Z",
     "shell.execute_reply": "2023-04-12T21:41:39.410820Z"
    },
    "papermill": {
     "duration": 6.784694,
     "end_time": "2023-04-12T21:41:39.414034",
     "exception": false,
     "start_time": "2023-04-12T21:41:32.629340",
     "status": "completed"
    },
    "tags": []
   },
   "outputs": [],
   "source": [
    "%%capture \n",
    "# comment above line to see details about the run(s) displayed\n",
    "from misc import *\n",
    "%matplotlib inline"
   ]
  },
  {
   "cell_type": "code",
   "execution_count": 2,
   "id": "bb61ee10",
   "metadata": {
    "execution": {
     "iopub.execute_input": "2023-04-12T21:41:39.435058Z",
     "iopub.status.busy": "2023-04-12T21:41:39.434865Z",
     "iopub.status.idle": "2023-04-12T21:41:39.438655Z",
     "shell.execute_reply": "2023-04-12T21:41:39.438286Z"
    },
    "papermill": {
     "duration": 0.008467,
     "end_time": "2023-04-12T21:41:39.440005",
     "exception": false,
     "start_time": "2023-04-12T21:41:39.431538",
     "status": "completed"
    },
    "tags": [
     "parameters"
    ]
   },
   "outputs": [],
   "source": [
    "# empty parametrizable cell \n",
    "\n",
    "cluster_scheduler_address = None"
   ]
  },
  {
   "cell_type": "code",
   "execution_count": 3,
   "id": "ab4232a0",
   "metadata": {
    "execution": {
     "iopub.execute_input": "2023-04-12T21:41:39.445061Z",
     "iopub.status.busy": "2023-04-12T21:41:39.444899Z",
     "iopub.status.idle": "2023-04-12T21:41:39.449549Z",
     "shell.execute_reply": "2023-04-12T21:41:39.449198Z"
    },
    "papermill": {
     "duration": 0.008754,
     "end_time": "2023-04-12T21:41:39.450893",
     "exception": false,
     "start_time": "2023-04-12T21:41:39.442139",
     "status": "completed"
    },
    "tags": [
     "injected-parameters"
    ]
   },
   "outputs": [],
   "source": [
    "# Parameters\n",
    "not_casename = \"placeholder-casename\"\n",
    "subset_kwargs = {}\n"
   ]
  },
  {
   "cell_type": "markdown",
   "id": "78b60059",
   "metadata": {
    "papermill": {
     "duration": 0.002051,
     "end_time": "2023-04-12T21:41:39.478061",
     "exception": false,
     "start_time": "2023-04-12T21:41:39.476010",
     "status": "completed"
    },
    "tags": []
   },
   "source": [
    "## Connecting to cluster"
   ]
  },
  {
   "cell_type": "code",
   "execution_count": 4,
   "id": "2c977491",
   "metadata": {
    "execution": {
     "iopub.execute_input": "2023-04-12T21:41:39.482960Z",
     "iopub.status.busy": "2023-04-12T21:41:39.482783Z",
     "iopub.status.idle": "2023-04-12T21:41:39.485983Z",
     "shell.execute_reply": "2023-04-12T21:41:39.485528Z"
    },
    "papermill": {
     "duration": 0.007037,
     "end_time": "2023-04-12T21:41:39.487162",
     "exception": false,
     "start_time": "2023-04-12T21:41:39.480125",
     "status": "completed"
    },
    "tags": []
   },
   "outputs": [],
   "source": [
    "from dask.distributed import Client\n",
    "\n",
    "if cluster_scheduler_address is None:\n",
    "    pass\n",
    "else:\n",
    "    client = Client(cluster_scheduler_address)\n",
    "    \n",
    "    client"
   ]
  },
  {
   "cell_type": "code",
   "execution_count": 5,
   "id": "b692cbdb",
   "metadata": {
    "execution": {
     "iopub.execute_input": "2023-04-12T21:41:39.492552Z",
     "iopub.status.busy": "2023-04-12T21:41:39.492388Z",
     "iopub.status.idle": "2023-04-12T21:41:39.559905Z",
     "shell.execute_reply": "2023-04-12T21:41:39.559453Z"
    },
    "papermill": {
     "duration": 0.072334,
     "end_time": "2023-04-12T21:41:39.561682",
     "exception": false,
     "start_time": "2023-04-12T21:41:39.489348",
     "status": "completed"
    },
    "tags": []
   },
   "outputs": [],
   "source": [
    "heat_transport = []\n",
    "for path, case in zip(ocn_path, casename):\n",
    "  ds = xr.open_dataset(path+case+'_heat_transport.nc')\n",
    "  heat_transport.append(ds)"
   ]
  },
  {
   "cell_type": "markdown",
   "id": "9e38a6c8",
   "metadata": {
    "papermill": {
     "duration": 0.002399,
     "end_time": "2023-04-12T21:41:39.566606",
     "exception": false,
     "start_time": "2023-04-12T21:41:39.564207",
     "status": "completed"
    },
    "tags": []
   },
   "source": [
    "### Global Poleward Heat Transport"
   ]
  },
  {
   "cell_type": "markdown",
   "id": "6f6b6095",
   "metadata": {
    "tags": [
     "papermill-error-cell-tag"
    ]
   },
   "source": [
    "<span id=\"papermill-error-cell\" style=\"color:red; font-family:Helvetica Neue, Helvetica, Arial, sans-serif; font-size:2em;\">Execution using papermill encountered an exception here and stopped:</span>"
   ]
  },
  {
   "cell_type": "code",
   "execution_count": 6,
   "id": "7d2a41c8",
   "metadata": {
    "execution": {
     "iopub.execute_input": "2023-04-12T21:41:39.571839Z",
     "iopub.status.busy": "2023-04-12T21:41:39.571653Z",
     "iopub.status.idle": "2023-04-12T21:41:41.782511Z",
     "shell.execute_reply": "2023-04-12T21:41:41.780802Z"
    },
    "papermill": {
     "duration": 2.214828,
     "end_time": "2023-04-12T21:41:41.783578",
     "exception": true,
     "start_time": "2023-04-12T21:41:39.568750",
     "status": "failed"
    },
    "tags": []
   },
   "outputs": [
    {
     "ename": "IndexError",
     "evalue": "only integers, slices (`:`), ellipsis (`...`), and 1-d integer or boolean arrays are valid indices",
     "output_type": "error",
     "traceback": [
      "\u001b[0;31m---------------------------------------------------------------------------\u001b[0m",
      "\u001b[0;31mTypeError\u001b[0m                                 Traceback (most recent call last)",
      "File \u001b[0;32m/glade/work/eromashkova/miniconda3/envs/mom6_solutions/lib/python3.10/site-packages/netCDF4/utils.py:289\u001b[0m, in \u001b[0;36m_StartCountStride\u001b[0;34m(elem, shape, dimensions, grp, datashape, put, use_get_vars)\u001b[0m\n\u001b[1;32m    288\u001b[0m \u001b[38;5;28;01mtry\u001b[39;00m:\n\u001b[0;32m--> 289\u001b[0m     e \u001b[38;5;241m=\u001b[39m \u001b[38;5;28;43mint\u001b[39;49m\u001b[43m(\u001b[49m\u001b[43me\u001b[49m\u001b[43m)\u001b[49m\n\u001b[1;32m    290\u001b[0m     newElem\u001b[38;5;241m.\u001b[39mappend(e)\n",
      "\u001b[0;31mTypeError\u001b[0m: int() argument must be a string, a bytes-like object or a real number, not 'NoneType'",
      "\nDuring handling of the above exception, another exception occurred:\n",
      "\u001b[0;31mIndexError\u001b[0m                                Traceback (most recent call last)",
      "Input \u001b[0;32mIn [6]\u001b[0m, in \u001b[0;36m<cell line: 9>\u001b[0;34m()\u001b[0m\n\u001b[1;32m      7\u001b[0m plt\u001b[38;5;241m.\u001b[39mxlim(\u001b[38;5;241m-\u001b[39m\u001b[38;5;241m80\u001b[39m,\u001b[38;5;241m90\u001b[39m); plt\u001b[38;5;241m.\u001b[39mylim(\u001b[38;5;241m-\u001b[39m\u001b[38;5;241m2.5\u001b[39m,\u001b[38;5;241m3.0\u001b[39m); plt\u001b[38;5;241m.\u001b[39mgrid(\u001b[38;5;28;01mTrue\u001b[39;00m); \n\u001b[1;32m      8\u001b[0m plt\u001b[38;5;241m.\u001b[39mplot(y, y\u001b[38;5;241m*\u001b[39m\u001b[38;5;241m0.\u001b[39m, \u001b[38;5;124m'\u001b[39m\u001b[38;5;124mk\u001b[39m\u001b[38;5;124m'\u001b[39m, linewidth\u001b[38;5;241m=\u001b[39m\u001b[38;5;241m0.5\u001b[39m)\n\u001b[0;32m----> 9\u001b[0m \u001b[43mplt\u001b[49m\u001b[38;5;241;43m.\u001b[39;49m\u001b[43mplot\u001b[49m\u001b[43m(\u001b[49m\u001b[43myobs\u001b[49m\u001b[43m,\u001b[49m\u001b[43mNCEP\u001b[49m\u001b[43m[\u001b[49m\u001b[38;5;124;43m'\u001b[39;49m\u001b[38;5;124;43mGlobal\u001b[39;49m\u001b[38;5;124;43m'\u001b[39;49m\u001b[43m]\u001b[49m\u001b[43m,\u001b[49m\u001b[38;5;124;43m'\u001b[39;49m\u001b[38;5;124;43mk--\u001b[39;49m\u001b[38;5;124;43m'\u001b[39;49m\u001b[43m,\u001b[49m\u001b[43mlinewidth\u001b[49m\u001b[38;5;241;43m=\u001b[39;49m\u001b[38;5;241;43m0.5\u001b[39;49m\u001b[43m,\u001b[49m\u001b[43mlabel\u001b[49m\u001b[38;5;241;43m=\u001b[39;49m\u001b[38;5;124;43m'\u001b[39;49m\u001b[38;5;124;43mNCEP\u001b[39;49m\u001b[38;5;124;43m'\u001b[39;49m\u001b[43m)\u001b[49m; \n\u001b[1;32m     10\u001b[0m plt\u001b[38;5;241m.\u001b[39mplot(yobs,ECMWF[\u001b[38;5;124m'\u001b[39m\u001b[38;5;124mGlobal\u001b[39m\u001b[38;5;124m'\u001b[39m],\u001b[38;5;124m'\u001b[39m\u001b[38;5;124mk.\u001b[39m\u001b[38;5;124m'\u001b[39m,linewidth\u001b[38;5;241m=\u001b[39m\u001b[38;5;241m0.5\u001b[39m,label\u001b[38;5;241m=\u001b[39m\u001b[38;5;124m'\u001b[39m\u001b[38;5;124mECMWF\u001b[39m\u001b[38;5;124m'\u001b[39m)\n\u001b[1;32m     11\u001b[0m plotGandW(GandW[\u001b[38;5;124m'\u001b[39m\u001b[38;5;124mGlobal\u001b[39m\u001b[38;5;124m'\u001b[39m][\u001b[38;5;124m'\u001b[39m\u001b[38;5;124mlat\u001b[39m\u001b[38;5;124m'\u001b[39m],GandW[\u001b[38;5;124m'\u001b[39m\u001b[38;5;124mGlobal\u001b[39m\u001b[38;5;124m'\u001b[39m][\u001b[38;5;124m'\u001b[39m\u001b[38;5;124mtrans\u001b[39m\u001b[38;5;124m'\u001b[39m],GandW[\u001b[38;5;124m'\u001b[39m\u001b[38;5;124mGlobal\u001b[39m\u001b[38;5;124m'\u001b[39m][\u001b[38;5;124m'\u001b[39m\u001b[38;5;124merr\u001b[39m\u001b[38;5;124m'\u001b[39m])\n",
      "File \u001b[0;32m/glade/work/eromashkova/miniconda3/envs/mom6_solutions/lib/python3.10/site-packages/matplotlib/pyplot.py:2767\u001b[0m, in \u001b[0;36mplot\u001b[0;34m(scalex, scaley, data, *args, **kwargs)\u001b[0m\n\u001b[1;32m   2765\u001b[0m \u001b[38;5;129m@_copy_docstring_and_deprecators\u001b[39m(Axes\u001b[38;5;241m.\u001b[39mplot)\n\u001b[1;32m   2766\u001b[0m \u001b[38;5;28;01mdef\u001b[39;00m \u001b[38;5;21mplot\u001b[39m(\u001b[38;5;241m*\u001b[39margs, scalex\u001b[38;5;241m=\u001b[39m\u001b[38;5;28;01mTrue\u001b[39;00m, scaley\u001b[38;5;241m=\u001b[39m\u001b[38;5;28;01mTrue\u001b[39;00m, data\u001b[38;5;241m=\u001b[39m\u001b[38;5;28;01mNone\u001b[39;00m, \u001b[38;5;241m*\u001b[39m\u001b[38;5;241m*\u001b[39mkwargs):\n\u001b[0;32m-> 2767\u001b[0m     \u001b[38;5;28;01mreturn\u001b[39;00m \u001b[43mgca\u001b[49m\u001b[43m(\u001b[49m\u001b[43m)\u001b[49m\u001b[38;5;241;43m.\u001b[39;49m\u001b[43mplot\u001b[49m\u001b[43m(\u001b[49m\n\u001b[1;32m   2768\u001b[0m \u001b[43m        \u001b[49m\u001b[38;5;241;43m*\u001b[39;49m\u001b[43margs\u001b[49m\u001b[43m,\u001b[49m\u001b[43m \u001b[49m\u001b[43mscalex\u001b[49m\u001b[38;5;241;43m=\u001b[39;49m\u001b[43mscalex\u001b[49m\u001b[43m,\u001b[49m\u001b[43m \u001b[49m\u001b[43mscaley\u001b[49m\u001b[38;5;241;43m=\u001b[39;49m\u001b[43mscaley\u001b[49m\u001b[43m,\u001b[49m\n\u001b[1;32m   2769\u001b[0m \u001b[43m        \u001b[49m\u001b[38;5;241;43m*\u001b[39;49m\u001b[38;5;241;43m*\u001b[39;49m\u001b[43m(\u001b[49m\u001b[43m{\u001b[49m\u001b[38;5;124;43m\"\u001b[39;49m\u001b[38;5;124;43mdata\u001b[39;49m\u001b[38;5;124;43m\"\u001b[39;49m\u001b[43m:\u001b[49m\u001b[43m \u001b[49m\u001b[43mdata\u001b[49m\u001b[43m}\u001b[49m\u001b[43m \u001b[49m\u001b[38;5;28;43;01mif\u001b[39;49;00m\u001b[43m \u001b[49m\u001b[43mdata\u001b[49m\u001b[43m \u001b[49m\u001b[38;5;129;43;01mis\u001b[39;49;00m\u001b[43m \u001b[49m\u001b[38;5;129;43;01mnot\u001b[39;49;00m\u001b[43m \u001b[49m\u001b[38;5;28;43;01mNone\u001b[39;49;00m\u001b[43m \u001b[49m\u001b[38;5;28;43;01melse\u001b[39;49;00m\u001b[43m \u001b[49m\u001b[43m{\u001b[49m\u001b[43m}\u001b[49m\u001b[43m)\u001b[49m\u001b[43m,\u001b[49m\u001b[43m \u001b[49m\u001b[38;5;241;43m*\u001b[39;49m\u001b[38;5;241;43m*\u001b[39;49m\u001b[43mkwargs\u001b[49m\u001b[43m)\u001b[49m\n",
      "File \u001b[0;32m/glade/work/eromashkova/miniconda3/envs/mom6_solutions/lib/python3.10/site-packages/matplotlib/axes/_axes.py:1635\u001b[0m, in \u001b[0;36mAxes.plot\u001b[0;34m(self, scalex, scaley, data, *args, **kwargs)\u001b[0m\n\u001b[1;32m   1393\u001b[0m \u001b[38;5;124;03m\"\"\"\u001b[39;00m\n\u001b[1;32m   1394\u001b[0m \u001b[38;5;124;03mPlot y versus x as lines and/or markers.\u001b[39;00m\n\u001b[1;32m   1395\u001b[0m \n\u001b[0;32m   (...)\u001b[0m\n\u001b[1;32m   1632\u001b[0m \u001b[38;5;124;03m(``'green'``) or hex strings (``'#008000'``).\u001b[39;00m\n\u001b[1;32m   1633\u001b[0m \u001b[38;5;124;03m\"\"\"\u001b[39;00m\n\u001b[1;32m   1634\u001b[0m kwargs \u001b[38;5;241m=\u001b[39m cbook\u001b[38;5;241m.\u001b[39mnormalize_kwargs(kwargs, mlines\u001b[38;5;241m.\u001b[39mLine2D)\n\u001b[0;32m-> 1635\u001b[0m lines \u001b[38;5;241m=\u001b[39m [\u001b[38;5;241m*\u001b[39m\u001b[38;5;28mself\u001b[39m\u001b[38;5;241m.\u001b[39m_get_lines(\u001b[38;5;241m*\u001b[39margs, data\u001b[38;5;241m=\u001b[39mdata, \u001b[38;5;241m*\u001b[39m\u001b[38;5;241m*\u001b[39mkwargs)]\n\u001b[1;32m   1636\u001b[0m \u001b[38;5;28;01mfor\u001b[39;00m line \u001b[38;5;129;01min\u001b[39;00m lines:\n\u001b[1;32m   1637\u001b[0m     \u001b[38;5;28mself\u001b[39m\u001b[38;5;241m.\u001b[39madd_line(line)\n",
      "File \u001b[0;32m/glade/work/eromashkova/miniconda3/envs/mom6_solutions/lib/python3.10/site-packages/matplotlib/axes/_base.py:312\u001b[0m, in \u001b[0;36m_process_plot_var_args.__call__\u001b[0;34m(self, data, *args, **kwargs)\u001b[0m\n\u001b[1;32m    310\u001b[0m     this \u001b[38;5;241m+\u001b[39m\u001b[38;5;241m=\u001b[39m args[\u001b[38;5;241m0\u001b[39m],\n\u001b[1;32m    311\u001b[0m     args \u001b[38;5;241m=\u001b[39m args[\u001b[38;5;241m1\u001b[39m:]\n\u001b[0;32m--> 312\u001b[0m \u001b[38;5;28;01myield from\u001b[39;00m \u001b[38;5;28;43mself\u001b[39;49m\u001b[38;5;241;43m.\u001b[39;49m\u001b[43m_plot_args\u001b[49m\u001b[43m(\u001b[49m\u001b[43mthis\u001b[49m\u001b[43m,\u001b[49m\u001b[43m \u001b[49m\u001b[43mkwargs\u001b[49m\u001b[43m)\u001b[49m\n",
      "File \u001b[0;32m/glade/work/eromashkova/miniconda3/envs/mom6_solutions/lib/python3.10/site-packages/matplotlib/axes/_base.py:506\u001b[0m, in \u001b[0;36m_process_plot_var_args._plot_args\u001b[0;34m(self, tup, kwargs, return_kwargs)\u001b[0m\n\u001b[1;32m    504\u001b[0m     x \u001b[38;5;241m=\u001b[39m x[:, np\u001b[38;5;241m.\u001b[39mnewaxis]\n\u001b[1;32m    505\u001b[0m \u001b[38;5;28;01mif\u001b[39;00m y\u001b[38;5;241m.\u001b[39mndim \u001b[38;5;241m==\u001b[39m \u001b[38;5;241m1\u001b[39m:\n\u001b[0;32m--> 506\u001b[0m     y \u001b[38;5;241m=\u001b[39m \u001b[43my\u001b[49m\u001b[43m[\u001b[49m\u001b[43m:\u001b[49m\u001b[43m,\u001b[49m\u001b[43m \u001b[49m\u001b[43mnp\u001b[49m\u001b[38;5;241;43m.\u001b[39;49m\u001b[43mnewaxis\u001b[49m\u001b[43m]\u001b[49m\n\u001b[1;32m    508\u001b[0m \u001b[38;5;28;01mif\u001b[39;00m \u001b[38;5;28mself\u001b[39m\u001b[38;5;241m.\u001b[39mcommand \u001b[38;5;241m==\u001b[39m \u001b[38;5;124m'\u001b[39m\u001b[38;5;124mplot\u001b[39m\u001b[38;5;124m'\u001b[39m:\n\u001b[1;32m    509\u001b[0m     make_artist \u001b[38;5;241m=\u001b[39m \u001b[38;5;28mself\u001b[39m\u001b[38;5;241m.\u001b[39m_makeline\n",
      "File \u001b[0;32msrc/netCDF4/_netCDF4.pyx:4715\u001b[0m, in \u001b[0;36mnetCDF4._netCDF4.Variable.__getitem__\u001b[0;34m()\u001b[0m\n",
      "File \u001b[0;32m/glade/work/eromashkova/miniconda3/envs/mom6_solutions/lib/python3.10/site-packages/netCDF4/utils.py:292\u001b[0m, in \u001b[0;36m_StartCountStride\u001b[0;34m(elem, shape, dimensions, grp, datashape, put, use_get_vars)\u001b[0m\n\u001b[1;32m    290\u001b[0m         newElem\u001b[38;5;241m.\u001b[39mappend(e)\n\u001b[1;32m    291\u001b[0m     \u001b[38;5;28;01mexcept\u001b[39;00m:\n\u001b[0;32m--> 292\u001b[0m         \u001b[38;5;28;01mraise\u001b[39;00m \u001b[38;5;167;01mIndexError\u001b[39;00m(IndexErrorMsg)\n\u001b[1;32m    293\u001b[0m \u001b[38;5;28;01mif\u001b[39;00m \u001b[38;5;28mtype\u001b[39m(e)\u001b[38;5;241m==\u001b[39m\u001b[38;5;28mtype\u001b[39m(\u001b[38;5;28mEllipsis\u001b[39m):\n\u001b[1;32m    294\u001b[0m     i\u001b[38;5;241m+\u001b[39m\u001b[38;5;241m=\u001b[39m\u001b[38;5;241m1\u001b[39m\u001b[38;5;241m+\u001b[39mnDims\u001b[38;5;241m-\u001b[39m\u001b[38;5;28mlen\u001b[39m(elem)\n",
      "\u001b[0;31mIndexError\u001b[0m: only integers, slices (`:`), ellipsis (`...`), and 1-d integer or boolean arrays are valid indices"
     ]
    },
    {
     "data": {
      "image/png": "[encoded data removed]",
      "text/plain": [
       "<Figure size 1000x450 with 1 Axes>"
      ]
     },
     "metadata": {},
     "output_type": "display_data"
    }
   ],
   "source": [
    "plt.figure(figsize=(10,4.5))\n",
    "\n",
    "for i in range(len(casename)):\n",
    "  plot_heat_trans(heat_transport[i], label=label[i])\n",
    "\n",
    "y = heat_transport[0].yq\n",
    "plt.xlim(-80,90); plt.ylim(-2.5,3.0); plt.grid(True); \n",
    "plt.plot(y, y*0., 'k', linewidth=0.5)\n",
    "plt.plot(yobs,NCEP['Global'],'k--',linewidth=0.5,label='NCEP'); \n",
    "plt.plot(yobs,ECMWF['Global'],'k.',linewidth=0.5,label='ECMWF')\n",
    "plotGandW(GandW['Global']['lat'],GandW['Global']['trans'],GandW['Global']['err'])\n",
    "jra = xr.open_dataset('/glade/work/gmarques/cesm/datasets/Heat_transport/jra55fcst_v1_3_annual_1x1/nht_jra55do_v1_3.nc')\n",
    "jra_mean_global = jra.nht[:,0,:].mean('time').values\n",
    "jra_std_global = jra.nht[:,0,:].std('time').values\n",
    "plt.plot(jra.lat, jra_mean_global,'k', label='JRA-55 v1.3', color='#1B2ACC', lw=1)\n",
    "plt.fill_between(jra.lat, jra_mean_global-jra_std_global, jra_mean_global+jra_std_global,\n",
    "    alpha=0.25, edgecolor='#1B2ACC', facecolor='#089FFF')\n",
    "\n",
    "plt.title('Global Poleward Heat Transport',fontsize=15)\n",
    "plt.xlabel(r'Latitude [$\\degree$N]',fontsize=15)\n",
    "plt.ylabel('[PW]',fontsize=15)\n",
    "plt.legend(loc=4,fontsize=10, ncol=2)\n",
    "plt.ylim(-2.,2.5);"
   ]
  },
  {
   "cell_type": "markdown",
   "id": "8ca40866",
   "metadata": {
    "papermill": {
     "duration": null,
     "end_time": null,
     "exception": null,
     "start_time": null,
     "status": "pending"
    },
    "tags": []
   },
   "source": [
    "### Atlantic Poleward Heat Transport"
   ]
  },
  {
   "cell_type": "code",
   "execution_count": null,
   "id": "6bd0024e",
   "metadata": {
    "papermill": {
     "duration": null,
     "end_time": null,
     "exception": null,
     "start_time": null,
     "status": "pending"
    },
    "tags": []
   },
   "outputs": [],
   "source": [
    "basin_code = genBasinMasks(grd.geolon, grd.geolat, depth)\n",
    "m = 0*basin_code; m[(basin_code==2) | (basin_code==4) | (basin_code==6) | (basin_code==7) | (basin_code==8)] = 1"
   ]
  },
  {
   "cell_type": "code",
   "execution_count": null,
   "id": "8b65a4b6",
   "metadata": {
    "papermill": {
     "duration": null,
     "end_time": null,
     "exception": null,
     "start_time": null,
     "status": "pending"
    },
    "tags": []
   },
   "outputs": [],
   "source": [
    "plt.figure(figsize=(10,4.5))\n",
    "\n",
    "for i in range(len(casename)):\n",
    "  HTplot = heatTrans(heat_transport[i].T_ady_2d, \n",
    "           heat_transport[i].T_diffy_2d,\n",
    "           heat_transport[i].T_lbd_diffy_2d,\n",
    "           vmask=m*np.roll(m,-1,axis=-2))\n",
    "\n",
    "  yy = grd.geolat_c[:,:].max(axis=-1)\n",
    "  HTplot[yy<-34] = np.nan\n",
    "  plt.plot(yy,HTplot, linewidth=3,label=label[i])\n",
    "  \n",
    "jra_mean_atl = jra.nht[:,1,:].mean('time').values\n",
    "jra_std_atl = jra.nht[:,1,:].std('time').values\n",
    "plt.plot(jra.lat, jra_mean_atl,'k', label='JRA-55 v1.3', color='#1B2ACC', lw=1)\n",
    "plt.fill_between(jra.lat, jra_mean_atl-jra_std_atl, jra_mean_atl+jra_std_atl,\n",
    "alpha=0.25, edgecolor='#1B2ACC', facecolor='#089FFF')\n",
    "plt.plot(yobs,NCEP['Atlantic'],'k--',linewidth=0.5,label='NCEP')\n",
    "plt.plot(yobs,ECMWF['Atlantic'],'k.',linewidth=0.5,label='ECMWF')\n",
    "plotGandW(GandW['Atlantic']['lat'],GandW['Atlantic']['trans'],GandW['Atlantic']['err'])\n",
    "plt.xlabel(r'Latitude [$\\degree$N]',fontsize=15)\n",
    "plt.title('Atlantic Poleward Heat Transport',fontsize=15)\n",
    "plt.legend(ncol=2,fontsize=10)\n",
    "plt.ylabel('[PW]',fontsize=15)\n",
    "plt.xlim(-80,90); plt.ylim(-0.5,2.3); plt.grid(True)\n",
    "plt.plot(y, y*0., 'k', linewidth=0.5);"
   ]
  },
  {
   "cell_type": "markdown",
   "id": "13668158",
   "metadata": {
    "papermill": {
     "duration": null,
     "end_time": null,
     "exception": null,
     "start_time": null,
     "status": "pending"
    },
    "tags": []
   },
   "source": [
    "### Indo-Pacific Poleward Heat Transport"
   ]
  },
  {
   "cell_type": "code",
   "execution_count": null,
   "id": "6689a245",
   "metadata": {
    "papermill": {
     "duration": null,
     "end_time": null,
     "exception": null,
     "start_time": null,
     "status": "pending"
    },
    "tags": []
   },
   "outputs": [],
   "source": [
    "m = 0*basin_code; m[(basin_code==3) | (basin_code==5)] = 1"
   ]
  },
  {
   "cell_type": "code",
   "execution_count": null,
   "id": "8b2b31e9",
   "metadata": {
    "papermill": {
     "duration": null,
     "end_time": null,
     "exception": null,
     "start_time": null,
     "status": "pending"
    },
    "tags": []
   },
   "outputs": [],
   "source": [
    "plt.figure(figsize=(10,4.5))\n",
    "\n",
    "for i in range(len(casename)):\n",
    "  HTplot = heatTrans(heat_transport[i].T_ady_2d, \n",
    "           heat_transport[i].T_diffy_2d,\n",
    "           heat_transport[i].T_lbd_diffy_2d,\n",
    "           vmask=m*np.roll(m,-1,axis=-2))\n",
    "\n",
    "  yy = grd.geolat_c[:,:].max(axis=-1)\n",
    "  HTplot[yy<-34] = np.nan\n",
    "  plt.plot(yy,HTplot, linewidth=3,label=label[i])\n",
    "\n",
    "jra_mean_indo = jra.nht[:,2,:].mean('time').values\n",
    "jra_std_indo = jra.nht[:,2,:].std('time').values\n",
    "plt.plot(jra.lat, jra_mean_indo,'k', label='JRA-55 v1.3', \n",
    "                 color='#1B2ACC', lw=1)\n",
    "plt.fill_between(jra.lat, jra_mean_indo-jra_std_indo, \n",
    "                 jra_mean_indo+jra_std_indo,\n",
    "                 alpha=0.25, edgecolor='#1B2ACC', \n",
    "                 facecolor='#089FFF')\n",
    "\n",
    "plt.plot(yobs,NCEP['IndoPac'],'k--',linewidth=0.5,label='NCEP')\n",
    "plt.plot(yobs,ECMWF['IndoPac'],'k.',linewidth=0.5,label='ECMWF')\n",
    "plotGandW(GandW['IndoPac']['lat'],GandW['IndoPac']['trans'],GandW['IndoPac']['err'])\n",
    "plt.xlabel(r'Latitude [$\\degree$N]',fontsize=10)\n",
    "plt.legend(ncol=2,fontsize=10)\n",
    "plt.title('Indo-Pacific Poleward Heat Transport',fontsize=15)\n",
    "plt.ylabel('[PW]',fontsize=15)\n",
    "plt.xlim(-80,90); plt.ylim(-2.5,2.5); plt.grid(True)\n",
    "plt.plot(y, y*0., 'k', linewidth=0.5);"
   ]
  },
  {
   "cell_type": "code",
   "execution_count": null,
   "id": "b92a56ff",
   "metadata": {
    "papermill": {
     "duration": null,
     "end_time": null,
     "exception": null,
     "start_time": null,
     "status": "pending"
    },
    "tags": []
   },
   "outputs": [],
   "source": []
  }
 ],
 "metadata": {
  "kernelspec": {
   "display_name": "Python 3 (ipykernel)",
   "language": "python",
   "name": "python3"
  },
  "language_info": {
   "codemirror_mode": {
    "name": "ipython",
    "version": 3
   },
   "file_extension": ".py",
   "mimetype": "text/x-python",
   "name": "python",
   "nbconvert_exporter": "python",
   "pygments_lexer": "ipython3",
   "version": "3.10.6"
  },
  "papermill": {
   "default_parameters": {},
   "duration": 11.08847,
   "end_time": "2023-04-12T21:41:42.948172",
   "environment_variables": {},
   "exception": true,
   "input_path": "/glade/u/home/eromashkova/codes/nbscuid-examples/mom6-solutions/nblibrary/pht.ipynb",
   "output_path": "/glade/u/home/eromashkova/codes/nbscuid-examples/mom6-solutions/computed_notebooks/placeholder-casename/pht.ipynb",
   "parameters": {
    "not_casename": "placeholder-casename",
    "subset_kwargs": {}
   },
   "start_time": "2023-04-12T21:41:31.859702",
   "version": "2.3.4"
  }
 },
 "nbformat": 4,
 "nbformat_minor": 5
}