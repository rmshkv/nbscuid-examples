{
 "cells": [
  {
   "cell_type": "markdown",
   "id": "966269fd-78fa-4504-a2f2-f6f34d7ed98a",
   "metadata": {
    "papermill": {
     "duration": 0.001518,
     "end_time": "2023-04-12T19:24:13.381355",
     "exception": false,
     "start_time": "2023-04-12T19:24:13.379837",
     "status": "completed"
    },
    "tags": []
   },
   "source": [
    "# mom6-solutions testing\n",
    "placeholder text"
   ]
  }
 ],
 "metadata": {
  "kernelspec": {
   "display_name": "Python 3 (ipykernel)",
   "language": "python",
   "name": "python3"
  },
  "language_info": {
   "codemirror_mode": {
    "name": "ipython",
    "version": 3
   },
   "file_extension": ".py",
   "mimetype": "text/x-python",
   "name": "python",
   "nbconvert_exporter": "python",
   "pygments_lexer": "ipython3",
   "version": "3.10.6"
  },
  "papermill": {
   "default_parameters": {},
   "duration": 2.129933,
   "end_time": "2023-04-12T19:24:13.604259",
   "environment_variables": {},
   "exception": null,
   "input_path": "/glade/u/home/eromashkova/codes/nbscuid-examples/mom6-solutions/nblibrary/intro.ipynb",
   "output_path": "/glade/u/home/eromashkova/codes/nbscuid-examples/mom6-solutions/computed_notebooks/placeholder-casename/intro.ipynb",
   "parameters": {},
   "start_time": "2023-04-12T19:24:11.474326",
   "version": "2.3.4"
  }
 },
 "nbformat": 4,
 "nbformat_minor": 5
}