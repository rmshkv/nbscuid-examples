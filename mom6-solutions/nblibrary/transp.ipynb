{
 "cells": [
  {
   "cell_type": "markdown",
   "metadata": {},
   "source": [
    "## Section transports"
   ]
  },
  {
   "cell_type": "code",
   "execution_count": 1,
   "metadata": {},
   "outputs": [],
   "source": [
    "%%capture \n",
    "# comment above line to see details about the run(s) displayed\n",
    "from misc import *;\n",
    "%matplotlib inline"
   ]
  },
  {
   "cell_type": "code",
   "execution_count": 3,
   "metadata": {},
   "outputs": [],
   "source": [
    "#@hidden_cell\n",
    "transports = []\n",
    "for path, case in zip(ocn_path, casename):\n",
    "  ds = xr.open_dataset(path+case+'_section_transports.nc')\n",
    "  transports.append(ds)"
   ]
  },
  {
   "cell_type": "code",
   "execution_count": null,
   "metadata": {},
   "outputs": [],
   "source": [
    "def plotPanel(section,n,label):\n",
    "    ax = plt.subplot(6,3,n+1)\n",
    "    plt.plot(section.time,section.values, lw=2, label=label)\n",
    "    plt.title(section.sections.values,fontsize=12)\n",
    "    plt.text(0.04,0.11,'Mean = '+'{0:.2f}'.format(section.data.mean()),transform=ax.transAxes,fontsize=10)\n",
    "    plt.grid()\n",
    "    if n in [0,3,6,9,12,15]: plt.ylabel('Transport (Sv)')\n",
    "    return"
   ]
  },
  {
   "cell_type": "code",
   "execution_count": null,
   "metadata": {},
   "outputs": [],
   "source": [
    "fig = plt.figure(figsize=(13,17))\n",
    "for n in range(0,len(ds.sections)): \n",
    "  for i in range(len(casename)):\n",
    "    plotPanel(transports[i].transport[n,:],n,label[i])\n",
    "\n",
    "fig.text(0.5,0.955,str(casename[0]),horizontalalignment='center',fontsize=14)\n",
    "plt.subplots_adjust(hspace=0.3)\n",
    "plt.legend();"
   ]
  },
  {
   "cell_type": "code",
   "execution_count": null,
   "metadata": {},
   "outputs": [],
   "source": []
  }
 ],
 "metadata": {
  "kernelspec": {
   "display_name": "Python 3 (ipykernel)",
   "language": "python",
   "name": "python3"
  },
  "language_info": {
   "codemirror_mode": {
    "name": "ipython",
    "version": 3
   },
   "file_extension": ".py",
   "mimetype": "text/x-python",
   "name": "python",
   "nbconvert_exporter": "python",
   "pygments_lexer": "ipython3",
   "version": "3.9.12"
  }
 },
 "nbformat": 4,
 "nbformat_minor": 4
}
