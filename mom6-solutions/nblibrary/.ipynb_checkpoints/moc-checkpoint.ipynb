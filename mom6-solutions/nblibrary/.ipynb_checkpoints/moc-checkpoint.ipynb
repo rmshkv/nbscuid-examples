{
 "cells": [
  {
   "cell_type": "markdown",
   "metadata": {},
   "source": [
    "## Meridional Overturning Circulation"
   ]
  },
  {
   "cell_type": "code",
   "execution_count": 1,
   "metadata": {},
   "outputs": [],
   "source": [
    "%%capture \n",
    "# comment above line to see details about the run(s) displayed\n",
    "from misc import *\n",
    "%matplotlib inline"
   ]
  },
  {
   "cell_type": "code",
   "execution_count": 3,
   "metadata": {
    "tags": [
     "parameters"
    ]
   },
   "outputs": [],
   "source": [
    "# empty parametrizable cell \n",
    "\n",
    "cluster_scheduler_address = None\n",
    "obs_path = None\n",
    "obs_suffix = None"
   ]
  },
  {
   "cell_type": "markdown",
   "metadata": {},
   "source": [
    "## Connecting to cluster"
   ]
  },
  {
   "cell_type": "code",
   "execution_count": 4,
   "metadata": {},
   "outputs": [],
   "source": [
    "#from dask.distributed import Client\n",
    "\n",
    "# if cluster_scheduler_address is None:\n",
    "#     cluster, client = nbscuid.util.get_ClusterClient()\n",
    "#     cluster.scale(12)\n",
    "# else:\n",
    "#     client = Client(cluster_scheduler_address)\n",
    "# client"
   ]
  },
  {
   "cell_type": "code",
   "execution_count": 5,
   "metadata": {},
   "outputs": [],
   "source": [
    "ds = []\n",
    "for c, l, p in zip(casename,label, ocn_path):\n",
    "  dummy = xr.open_dataset(p+'{}_MOC.nc'.format(c))\n",
    "  ds.append(dummy) "
   ]
  },
  {
   "cell_type": "markdown",
   "metadata": {},
   "source": [
    "### Global MOC"
   ]
  },
  {
   "cell_type": "code",
   "execution_count": 6,
   "metadata": {},
   "outputs": [],
   "source": [
    "# Global MOC\n",
    "from  mom6_tools import m6plot, m6toolbox\n",
    "from mom6_tools.moc import  *\n",
    "import glob\n",
    "\n",
    "# this hack needs to be fixed\n",
    "file = sorted(glob.glob(OUTDIR[0]+'/*.h_*.nc'))[0:2]\n",
    "\n",
    "ds1 = xr.open_mfdataset(file)\n",
    "\n",
    "varName = 'vmo'\n",
    "Zmod = m6toolbox.get_z(ds1, depth, varName)"
   ]
  },
  {
   "cell_type": "code",
   "execution_count": 7,
   "metadata": {},
   "outputs": [],
   "source": [
    "pnum = len(ds)\n",
    "for i in range(pnum):\n",
    "  m6plot.setFigureSize([16,9],576,debug=False)\n",
    "  axis = plt.gca()\n",
    "  cmap = plt.get_cmap('dunnePM')\n",
    "  zg = Zmod.min(axis=-1); \n",
    "  psiPlot = ds[i].moc.values\n",
    "  yyg = grd.geolat_c[:,:].max(axis=-1)+0*zg\n",
    "\n",
    "  ci=m6plot.pmCI(0.,40.,5.)\n",
    "  plotPsi(yyg, zg, psiPlot, ci, 'Global MOC [Sv]')\n",
    "  plt.xlabel(r'Latitude [$\\degree$N]')\n",
    "  plt.suptitle(label[i])\n",
    "\n",
    "  findExtrema(yyg, zg, psiPlot, max_lat=-30.)\n",
    "  findExtrema(yyg, zg, psiPlot, min_lat=25., min_depth=250.)\n",
    "  findExtrema(yyg, zg, psiPlot, min_depth=2000., mult=-1.)\n",
    "  plt.gca().invert_yaxis()\n"
   ]
  },
  {
   "cell_type": "markdown",
   "metadata": {},
   "source": [
    "### Atlantic MOC"
   ]
  },
  {
   "cell_type": "code",
   "execution_count": 8,
   "metadata": {},
   "outputs": [
    {
     "name": "stdout",
     "output_type": "stream",
     "text": [
      "11.16428 64.78855 [391, 434]\n"
     ]
    }
   ],
   "source": [
    "basin_code = genBasinMasks(grd.geolon, grd.geolat, depth, xda=False);"
   ]
  },
  {
   "cell_type": "code",
   "execution_count": 9,
   "metadata": {},
   "outputs": [],
   "source": [
    "for i in range(pnum):\n",
    "  m6plot.setFigureSize([16,9],576,debug=False)\n",
    "  cmap = plt.get_cmap('dunnePM')\n",
    "  ci=m6plot.pmCI(0.,22.,2.)\n",
    "  m = 0*basin_code; m[(basin_code==2) | (basin_code==4) | (basin_code==6) | (basin_code==7) | (basin_code==8)]=1\n",
    "  z = (m*Zmod).min(axis=-1)\n",
    "  psiPlot = ds[i].amoc.values\n",
    "  yy = grd.geolat_c[:,:].max(axis=-1)+0*z\n",
    "  plotPsi(yy, z, psiPlot, ci, 'Atlantic MOC [Sv]')\n",
    "  plt.xlabel(r'Latitude [$\\degree$N]')\n",
    "  plt.suptitle(label[i])\n",
    "  findExtrema(yy, z, psiPlot, min_lat=26.5, max_lat=27., min_depth=250.) # RAPID\n",
    "  findExtrema(yy, z, psiPlot, min_lat=44, max_lat=46., min_depth=250.) # RAPID\n",
    "  findExtrema(yy, z, psiPlot, max_lat=-33.)\n",
    "  findExtrema(yy, z, psiPlot)\n",
    "  findExtrema(yy, z, psiPlot, min_lat=5.)\n",
    "  plt.gca().invert_yaxis()"
   ]
  },
  {
   "cell_type": "markdown",
   "metadata": {},
   "source": [
    "### AMOC profile at 26N"
   ]
  },
  {
   "cell_type": "code",
   "execution_count": 10,
   "metadata": {},
   "outputs": [],
   "source": [
    "fig, ax = plt.subplots(figsize=(10,6))\n",
    "rapid_vertical = xr.open_dataset('/glade/work/gmarques/cesm/datasets/RAPID/moc_vertical.nc')\n",
    "ax.plot(rapid_vertical.stream_function_mar.mean('time'),\n",
    "        rapid_vertical.depth, 'k', label='RAPID', lw=3)\n",
    "for i in range(pnum):\n",
    "  ax.plot(ds[i]['amoc'].sel(yq=26, method='nearest'), ds[i].zl, label=label[i], lw=3)\n",
    "\n",
    "ax.legend()\n",
    "plt.gca().invert_yaxis()\n",
    "plt.grid()\n",
    "ax.set_xlabel('AMOC @ 26N [Sv]')\n",
    "ax.set_ylabel('Depth [m]');"
   ]
  },
  {
   "cell_type": "markdown",
   "metadata": {},
   "source": [
    "### AMOC time series"
   ]
  },
  {
   "cell_type": "code",
   "execution_count": 11,
   "metadata": {},
   "outputs": [],
   "source": [
    "# load AMOC time series data (5th) cycle used in Danabasoglu et al., doi:10.1016/j.ocemod.2015.11.007\n",
    "path = '/glade/p/cesm/omwg/amoc/COREII_AMOC_papers/papers/COREII.variability/data.original/'\n",
    "amoc_core_26 = xr.open_dataset(path+'AMOCts.cyc5.26p5.nc')\n",
    "# load AMOC from POP JRA-55\n",
    "#amoc_pop_26 = xr.open_dataset('/glade/u/home/bryan/MOM6-modeloutputanalysis/'\n",
    "#                              'AMOC_series_26n.g210.GIAF_JRA.v13.gx1v7.01.nc') \n",
    "# load RAPID time series\n",
    "rapid = xr.open_dataset('/glade/work/gmarques/cesm/datasets/RAPID/moc_transports.nc').resample(time=\"1Y\", \n",
    "                            closed='left',keep_attrs=True).mean('time',keep_attrs=True)\n",
    "\n",
    "# plot\n",
    "fig = plt.figure(figsize=(12, 6))\n",
    "for i in range(pnum):\n",
    "  plt.plot(np.arange(len(ds[i].time))+1958.5 ,ds[i]['amoc_26'].values, \n",
    "           label=label[i], lw=3)\n",
    "# core data\n",
    "core_mean = amoc_core_26['MOC'].mean(axis=0).data\n",
    "core_std = amoc_core_26['MOC'].std(axis=0).data\n",
    "plt.plot(amoc_core_26.time,core_mean, label='CORE II (group mean)', \n",
    "         color='black', lw=1)\n",
    "plt.fill_between(amoc_core_26.time, core_mean-core_std, core_mean+core_std,\n",
    "  alpha=0.25, edgecolor='#1B2ACC', facecolor='#089FFF')\n",
    "# pop data\n",
    "#plt.plot(np.arange(len(amoc_pop_26.time))+1958.5 ,amoc_pop_26.AMOC_26n.values, \n",
    "#         label='POP', lw=2)\n",
    "# rapid\n",
    "plt.plot(np.arange(len(rapid.time))+2004.5 ,rapid.moc_mar_hc10.values, \n",
    "         label='RAPID', lw=2)\n",
    "\n",
    "plt.title('AMOC @ 26 $^o$ N', fontsize=16)\n",
    "plt.ylim(5,20)\n",
    "plt.xlim(1948,1958.5+len(ds[0].time))\n",
    "plt.xlabel('Time [years]', fontsize=16); plt.ylabel('Sv', fontsize=16)\n",
    "plt.legend(fontsize=13, ncol=2);"
   ]
  },
  {
   "cell_type": "code",
   "execution_count": 12,
   "metadata": {},
   "outputs": [],
   "source": [
    "amoc_core_45 = xr.open_dataset(path+'AMOCts.cyc5.45.nc')\n",
    "#amoc_pop_45 = xr.open_dataset('/glade/u/home/bryan/MOM6-modeloutputanalysis/'\n",
    "#                              'AMOC_series_45n.g210.GIAF_JRA.v13.gx1v7.01.nc')\n",
    "\n",
    "# plot\n",
    "fig = plt.figure(figsize=(12, 6))\n",
    "for i in range(pnum):\n",
    "  plt.plot(np.arange(len(ds[i].time))+1958.5 ,ds[i]['amoc_45'].values, \n",
    "           label=label[i], lw=3)\n",
    "# core data\n",
    "core_mean = amoc_core_45['MOC'].mean(axis=0).data\n",
    "core_std = amoc_core_45['MOC'].std(axis=0).data\n",
    "plt.plot(amoc_core_45.time,core_mean, label='CORE II (group mean)', \n",
    "         color='black', lw=2)\n",
    "plt.fill_between(amoc_core_45.time, core_mean-core_std, core_mean+core_std,\n",
    "  alpha=0.25, edgecolor='#1B2ACC', facecolor='#089FFF')\n",
    "# pop data\n",
    "#plt.plot(np.arange(len(amoc_pop_45.time))+1958. ,\n",
    "#         amoc_pop_45.AMOC_45n.values, label='POP', lw=2)\n",
    "\n",
    "plt.title('AMOC @ 45 $^o$ N', fontsize=16)\n",
    "plt.ylim(5,20)\n",
    "plt.xlim(1948,1958+len(ds[0].time))\n",
    "plt.xlabel('Time [years]', fontsize=16); plt.ylabel('Sv', fontsize=16)\n",
    "plt.legend(fontsize=13, ncol=2);"
   ]
  },
  {
   "cell_type": "markdown",
   "metadata": {},
   "source": [
    "### Submesoscale-induced Global MOC"
   ]
  },
  {
   "cell_type": "code",
   "execution_count": 13,
   "metadata": {},
   "outputs": [],
   "source": [
    "for i in range(pnum):\n",
    "  m6plot.setFigureSize([16,9],576,debug=False)\n",
    "  axis = plt.gca()\n",
    "  cmap = plt.get_cmap('dunnePM')\n",
    "  z = Zmod.min(axis=-1); \n",
    "  psiPlot = ds[i].moc_FFM.values\n",
    "  #yy = y[1:,:].max(axis=-1)+0*z\n",
    "  yy = grd.geolat_c[:,:].max(axis=-1)+0*z\n",
    "  ci=m6plot.pmCI(0.,20.,2.)\n",
    "  plotPsi(yy, z, psiPlot, ci, 'Global MOC [Sv] due to vhML', zval=[0.,-400.,-6500.])\n",
    "  plt.xlabel(r'Latitude [$\\degree$N]')\n",
    "  plt.suptitle(label[i])\n",
    "  plt.gca().invert_yaxis()"
   ]
  },
  {
   "cell_type": "markdown",
   "metadata": {},
   "source": [
    "#### Eddy(GM)-induced Global MOC"
   ]
  },
  {
   "cell_type": "code",
   "execution_count": 16,
   "metadata": {},
   "outputs": [],
   "source": [
    "for i in range(pnum):\n",
    "  m6plot.setFigureSize([16,9],576,debug=False)\n",
    "  axis = plt.gca()\n",
    "  cmap = plt.get_cmap('dunnePM')\n",
    "  z = Zmod.min(axis=-1); \n",
    "  psiPlot = ds[i].moc_GM\n",
    "  yy = grd.geolat_c[:,:].max(axis=-1)+0*z\n",
    "  ci=m6plot.pmCI(0.,20.,1.)\n",
    "  plotPsi(yy, z, psiPlot, ci, 'Global MOC [Sv] due to GM')\n",
    "  plt.xlabel(r'Latitude [$\\degree$N]')\n",
    "  plt.suptitle(label[i])\n",
    "  plt.gca().invert_yaxis()\n"
   ]
  },
  {
   "cell_type": "code",
   "execution_count": null,
   "metadata": {},
   "outputs": [],
   "source": []
  }
 ],
 "metadata": {
  "kernelspec": {
   "display_name": "Python [conda env:miniconda3-mom6_solutions]",
   "language": "python",
   "name": "conda-env-miniconda3-mom6_solutions-py"
  },
  "language_info": {
   "codemirror_mode": {
    "name": "ipython",
    "version": 3
   },
   "file_extension": ".py",
   "mimetype": "text/x-python",
   "name": "python",
   "nbconvert_exporter": "python",
   "pygments_lexer": "ipython3",
   "version": "3.10.6"
  }
 },
 "nbformat": 4,
 "nbformat_minor": 4
}
